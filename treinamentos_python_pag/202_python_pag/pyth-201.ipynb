{
 "cells": [
  {
   "cell_type": "markdown",
   "metadata": {},
   "source": [
    "# Data University - Python"
   ]
  },
  {
   "cell_type": "markdown",
   "metadata": {},
   "source": [
    "# PYTH-201\n"
   ]
  },
  {
   "cell_type": "code",
   "execution_count": 1,
   "metadata": {},
   "outputs": [],
   "source": [
    "import numpy as np\n",
    "import pandas as pd\n",
    "import matplotlib as plt"
   ]
  },
  {
   "cell_type": "markdown",
   "metadata": {},
   "source": [
    "# 1 Pandas,  Series e DataFrames"
   ]
  },
  {
   "cell_type": "markdown",
   "metadata": {},
   "source": [
    "Python Data Analysis Library (`pandas`) é uma biblioteca de código aberto, que fornece estrturas de alto desempenho para análise de dados em Python. As duas estruturas principais dentro do `pandas` são `Series` e `DataFrame`. A estrutura `Series` nada mais é do que um vetor unidimensional indexado, já o `DataFrame` é um conjunto de `Series` em uma estrutra, ou seja, uma matriz (vetor multidimensional) indexada, tendo séries de diferentes tipos de dados."
   ]
  },
  {
   "cell_type": "markdown",
   "metadata": {},
   "source": [
    "# 2 Leitura do DataFrame do disco inspeção inicial dos dados"
   ]
  },
  {
   "cell_type": "code",
   "execution_count": 2,
   "metadata": {},
   "outputs": [],
   "source": [
    "df_pro = pd.read_csv('mini_propostas.csv', sep='|')"
   ]
  },
  {
   "cell_type": "code",
   "execution_count": 3,
   "metadata": {},
   "outputs": [
    {
     "data": {
      "text/plain": [
       "(50000, 19)"
      ]
     },
     "execution_count": 3,
     "metadata": {},
     "output_type": "execute_result"
    }
   ],
   "source": [
    "df_pro.shape"
   ]
  },
  {
   "cell_type": "code",
   "execution_count": 4,
   "metadata": {},
   "outputs": [
    {
     "data": {
      "text/html": [
       "<div>\n",
       "<style scoped>\n",
       "    .dataframe tbody tr th:only-of-type {\n",
       "        vertical-align: middle;\n",
       "    }\n",
       "\n",
       "    .dataframe tbody tr th {\n",
       "        vertical-align: top;\n",
       "    }\n",
       "\n",
       "    .dataframe thead th {\n",
       "        text-align: right;\n",
       "    }\n",
       "</style>\n",
       "<table border=\"1\" class=\"dataframe\">\n",
       "  <thead>\n",
       "    <tr style=\"text-align: right;\">\n",
       "      <th></th>\n",
       "      <th>pro_cd_proposta</th>\n",
       "      <th>pro_cd_situacao</th>\n",
       "      <th>proposta_finalizada</th>\n",
       "      <th>pro_ds_endereco_uf</th>\n",
       "      <th>pro_ds_tipo_documento</th>\n",
       "      <th>pro_ds_escolaridade</th>\n",
       "      <th>pro_faixa_escolaridade</th>\n",
       "      <th>pro_nr_dia_vencimento</th>\n",
       "      <th>pro_ds_sexo</th>\n",
       "      <th>reprovado_suspeita_fraude_mesa</th>\n",
       "      <th>fra_pos_mesa</th>\n",
       "      <th>rendapresumidatu</th>\n",
       "      <th>faixa_renda_presumida</th>\n",
       "      <th>decilcurtoprazo</th>\n",
       "      <th>decillongoprazo</th>\n",
       "      <th>pro_dt_fila_espera</th>\n",
       "      <th>horario_decisao_motorcredito</th>\n",
       "      <th>pro_limite_aprovado</th>\n",
       "      <th>coc_dt_abertura_conta_cartao</th>\n",
       "    </tr>\n",
       "  </thead>\n",
       "  <tbody>\n",
       "    <tr>\n",
       "      <th>0</th>\n",
       "      <td>3262198.0</td>\n",
       "      <td>3</td>\n",
       "      <td>1</td>\n",
       "      <td>SP</td>\n",
       "      <td>RG</td>\n",
       "      <td>Médio Completo</td>\n",
       "      <td>2. Médio Completo</td>\n",
       "      <td>15</td>\n",
       "      <td>F</td>\n",
       "      <td>0</td>\n",
       "      <td>0</td>\n",
       "      <td>NaN</td>\n",
       "      <td>06. Outros, &lt; 400 &amp; Null</td>\n",
       "      <td>NaN</td>\n",
       "      <td>NaN</td>\n",
       "      <td>2018-12-27 17:16:20</td>\n",
       "      <td>2019-01-01 00:24:05</td>\n",
       "      <td>NaN</td>\n",
       "      <td>NaN</td>\n",
       "    </tr>\n",
       "    <tr>\n",
       "      <th>1</th>\n",
       "      <td>3276543.0</td>\n",
       "      <td>17</td>\n",
       "      <td>1</td>\n",
       "      <td>PB</td>\n",
       "      <td>RG</td>\n",
       "      <td>Superior Incompleto</td>\n",
       "      <td>3. &gt; Medio Completo</td>\n",
       "      <td>15</td>\n",
       "      <td>M</td>\n",
       "      <td>0</td>\n",
       "      <td>0</td>\n",
       "      <td>NaN</td>\n",
       "      <td>06. Outros, &lt; 400 &amp; Null</td>\n",
       "      <td>NaN</td>\n",
       "      <td>5.0</td>\n",
       "      <td>2019-01-01 00:25:56</td>\n",
       "      <td>2019-01-01 00:36:25</td>\n",
       "      <td>NaN</td>\n",
       "      <td>NaN</td>\n",
       "    </tr>\n",
       "    <tr>\n",
       "      <th>2</th>\n",
       "      <td>2987697.0</td>\n",
       "      <td>17</td>\n",
       "      <td>1</td>\n",
       "      <td>MG</td>\n",
       "      <td>CNH</td>\n",
       "      <td>Fundamental Incompleto</td>\n",
       "      <td>1. &lt; Medio Completo</td>\n",
       "      <td>20</td>\n",
       "      <td>M</td>\n",
       "      <td>0</td>\n",
       "      <td>0</td>\n",
       "      <td>NaN</td>\n",
       "      <td>06. Outros, &lt; 400 &amp; Null</td>\n",
       "      <td>NaN</td>\n",
       "      <td>NaN</td>\n",
       "      <td>2018-11-11 17:07:23</td>\n",
       "      <td>2019-01-01 01:11:32</td>\n",
       "      <td>NaN</td>\n",
       "      <td>NaN</td>\n",
       "    </tr>\n",
       "    <tr>\n",
       "      <th>3</th>\n",
       "      <td>3276564.0</td>\n",
       "      <td>3</td>\n",
       "      <td>1</td>\n",
       "      <td>CE</td>\n",
       "      <td>CNH</td>\n",
       "      <td>Fundamental Completo</td>\n",
       "      <td>1. &lt; Medio Completo</td>\n",
       "      <td>10</td>\n",
       "      <td>M</td>\n",
       "      <td>0</td>\n",
       "      <td>0</td>\n",
       "      <td>NaN</td>\n",
       "      <td>06. Outros, &lt; 400 &amp; Null</td>\n",
       "      <td>NaN</td>\n",
       "      <td>5.0</td>\n",
       "      <td>2019-01-01 00:57:28</td>\n",
       "      <td>2019-01-01 01:24:27</td>\n",
       "      <td>NaN</td>\n",
       "      <td>NaN</td>\n",
       "    </tr>\n",
       "    <tr>\n",
       "      <th>4</th>\n",
       "      <td>3276577.0</td>\n",
       "      <td>17</td>\n",
       "      <td>1</td>\n",
       "      <td>BA</td>\n",
       "      <td>RG</td>\n",
       "      <td>Fundamental Completo</td>\n",
       "      <td>1. &lt; Medio Completo</td>\n",
       "      <td>25</td>\n",
       "      <td>M</td>\n",
       "      <td>0</td>\n",
       "      <td>0</td>\n",
       "      <td>NaN</td>\n",
       "      <td>06. Outros, &lt; 400 &amp; Null</td>\n",
       "      <td>NaN</td>\n",
       "      <td>NaN</td>\n",
       "      <td>2019-01-01 01:48:56</td>\n",
       "      <td>2019-01-01 02:12:31</td>\n",
       "      <td>NaN</td>\n",
       "      <td>NaN</td>\n",
       "    </tr>\n",
       "  </tbody>\n",
       "</table>\n",
       "</div>"
      ],
      "text/plain": [
       "   pro_cd_proposta  pro_cd_situacao  proposta_finalizada pro_ds_endereco_uf  \\\n",
       "0        3262198.0                3                    1                 SP   \n",
       "1        3276543.0               17                    1                 PB   \n",
       "2        2987697.0               17                    1                 MG   \n",
       "3        3276564.0                3                    1                 CE   \n",
       "4        3276577.0               17                    1                 BA   \n",
       "\n",
       "  pro_ds_tipo_documento     pro_ds_escolaridade pro_faixa_escolaridade  \\\n",
       "0                    RG          Médio Completo      2. Médio Completo   \n",
       "1                    RG     Superior Incompleto    3. > Medio Completo   \n",
       "2                   CNH  Fundamental Incompleto    1. < Medio Completo   \n",
       "3                   CNH    Fundamental Completo    1. < Medio Completo   \n",
       "4                    RG    Fundamental Completo    1. < Medio Completo   \n",
       "\n",
       "   pro_nr_dia_vencimento pro_ds_sexo  reprovado_suspeita_fraude_mesa  \\\n",
       "0                     15           F                               0   \n",
       "1                     15           M                               0   \n",
       "2                     20           M                               0   \n",
       "3                     10           M                               0   \n",
       "4                     25           M                               0   \n",
       "\n",
       "   fra_pos_mesa  rendapresumidatu     faixa_renda_presumida  decilcurtoprazo  \\\n",
       "0             0               NaN  06. Outros, < 400 & Null              NaN   \n",
       "1             0               NaN  06. Outros, < 400 & Null              NaN   \n",
       "2             0               NaN  06. Outros, < 400 & Null              NaN   \n",
       "3             0               NaN  06. Outros, < 400 & Null              NaN   \n",
       "4             0               NaN  06. Outros, < 400 & Null              NaN   \n",
       "\n",
       "   decillongoprazo   pro_dt_fila_espera horario_decisao_motorcredito  \\\n",
       "0              NaN  2018-12-27 17:16:20          2019-01-01 00:24:05   \n",
       "1              5.0  2019-01-01 00:25:56          2019-01-01 00:36:25   \n",
       "2              NaN  2018-11-11 17:07:23          2019-01-01 01:11:32   \n",
       "3              5.0  2019-01-01 00:57:28          2019-01-01 01:24:27   \n",
       "4              NaN  2019-01-01 01:48:56          2019-01-01 02:12:31   \n",
       "\n",
       "   pro_limite_aprovado coc_dt_abertura_conta_cartao  \n",
       "0                  NaN                          NaN  \n",
       "1                  NaN                          NaN  \n",
       "2                  NaN                          NaN  \n",
       "3                  NaN                          NaN  \n",
       "4                  NaN                          NaN  "
      ]
     },
     "execution_count": 4,
     "metadata": {},
     "output_type": "execute_result"
    }
   ],
   "source": [
    "df_pro.head()"
   ]
  },
  {
   "cell_type": "code",
   "execution_count": 5,
   "metadata": {},
   "outputs": [
    {
     "data": {
      "text/plain": [
       "pro_cd_proposta                   float64\n",
       "pro_cd_situacao                     int64\n",
       "proposta_finalizada                 int64\n",
       "pro_ds_endereco_uf                 object\n",
       "pro_ds_tipo_documento              object\n",
       "pro_ds_escolaridade                object\n",
       "pro_faixa_escolaridade             object\n",
       "pro_nr_dia_vencimento               int64\n",
       "pro_ds_sexo                        object\n",
       "reprovado_suspeita_fraude_mesa      int64\n",
       "fra_pos_mesa                        int64\n",
       "rendapresumidatu                  float64\n",
       "faixa_renda_presumida              object\n",
       "decilcurtoprazo                   float64\n",
       "decillongoprazo                   float64\n",
       "pro_dt_fila_espera                 object\n",
       "horario_decisao_motorcredito       object\n",
       "pro_limite_aprovado               float64\n",
       "coc_dt_abertura_conta_cartao       object\n",
       "dtype: object"
      ]
     },
     "execution_count": 5,
     "metadata": {},
     "output_type": "execute_result"
    }
   ],
   "source": [
    "df_pro.dtypes"
   ]
  },
  {
   "cell_type": "code",
   "execution_count": 6,
   "metadata": {},
   "outputs": [
    {
     "name": "stdout",
     "output_type": "stream",
     "text": [
      "<class 'pandas.core.series.Series'>\n",
      "<class 'pandas.core.series.Series'>\n",
      "<class 'pandas.core.series.Series'>\n",
      "<class 'pandas.core.series.Series'>\n",
      "<class 'pandas.core.series.Series'>\n",
      "<class 'pandas.core.series.Series'>\n",
      "<class 'pandas.core.series.Series'>\n",
      "<class 'pandas.core.series.Series'>\n",
      "<class 'pandas.core.series.Series'>\n",
      "<class 'pandas.core.series.Series'>\n",
      "<class 'pandas.core.series.Series'>\n",
      "<class 'pandas.core.series.Series'>\n",
      "<class 'pandas.core.series.Series'>\n",
      "<class 'pandas.core.series.Series'>\n",
      "<class 'pandas.core.series.Series'>\n",
      "<class 'pandas.core.series.Series'>\n",
      "<class 'pandas.core.series.Series'>\n",
      "<class 'pandas.core.series.Series'>\n",
      "<class 'pandas.core.series.Series'>\n"
     ]
    }
   ],
   "source": [
    "for col in df_pro.columns:\n",
    "    print(type(df_pro[col]))"
   ]
  },
  {
   "cell_type": "code",
   "execution_count": 7,
   "metadata": {},
   "outputs": [
    {
     "data": {
      "text/plain": [
       "pandas.core.frame.DataFrame"
      ]
     },
     "execution_count": 7,
     "metadata": {},
     "output_type": "execute_result"
    }
   ],
   "source": [
    "type(df_pro)"
   ]
  },
  {
   "cell_type": "markdown",
   "metadata": {},
   "source": [
    "De fato como apresentado na definção um `DataFame` é composto por várias `Series` que podem conter tipos de dados distintos entre si."
   ]
  },
  {
   "cell_type": "markdown",
   "metadata": {},
   "source": [
    "## 2.1 Alteração dos nomes das `Series`/Colunas"
   ]
  },
  {
   "cell_type": "markdown",
   "metadata": {},
   "source": [
    "Como lemos o `df_pro` não necessariamente suas colunas estão nomeados de um modo conveniente para uma análise de dados dentro do do Jupyter Notebook. No entanto, podemos simplesmente renomear os nomes das colunas."
   ]
  },
  {
   "cell_type": "code",
   "execution_count": 8,
   "metadata": {},
   "outputs": [],
   "source": [
    "new_col_names = [col.replace('pro_','') for col in df_pro.columns]"
   ]
  },
  {
   "cell_type": "code",
   "execution_count": 9,
   "metadata": {},
   "outputs": [],
   "source": [
    "col_replace_dic = dict(zip(df_pro.columns, new_col_names))"
   ]
  },
  {
   "cell_type": "code",
   "execution_count": 10,
   "metadata": {},
   "outputs": [
    {
     "data": {
      "text/plain": [
       "{'pro_cd_proposta': 'cd_proposta',\n",
       " 'pro_cd_situacao': 'cd_situacao',\n",
       " 'proposta_finalizada': 'proposta_finalizada',\n",
       " 'pro_ds_endereco_uf': 'ds_endereco_uf',\n",
       " 'pro_ds_tipo_documento': 'ds_tipo_documento',\n",
       " 'pro_ds_escolaridade': 'ds_escolaridade',\n",
       " 'pro_faixa_escolaridade': 'faixa_escolaridade',\n",
       " 'pro_nr_dia_vencimento': 'nr_dia_vencimento',\n",
       " 'pro_ds_sexo': 'ds_sexo',\n",
       " 'reprovado_suspeita_fraude_mesa': 'reprovado_suspeita_fraude_mesa',\n",
       " 'fra_pos_mesa': 'fra_pos_mesa',\n",
       " 'rendapresumidatu': 'rendapresumidatu',\n",
       " 'faixa_renda_presumida': 'faixa_renda_presumida',\n",
       " 'decilcurtoprazo': 'decilcurtoprazo',\n",
       " 'decillongoprazo': 'decillongoprazo',\n",
       " 'pro_dt_fila_espera': 'dt_fila_espera',\n",
       " 'horario_decisao_motorcredito': 'horario_decisao_motorcredito',\n",
       " 'pro_limite_aprovado': 'limite_aprovado',\n",
       " 'coc_dt_abertura_conta_cartao': 'coc_dt_abertura_conta_cartao'}"
      ]
     },
     "execution_count": 10,
     "metadata": {},
     "output_type": "execute_result"
    }
   ],
   "source": [
    "col_replace_dic"
   ]
  },
  {
   "cell_type": "code",
   "execution_count": 11,
   "metadata": {},
   "outputs": [],
   "source": [
    "df_pro.rename(columns=col_replace_dic, inplace=True) \n",
    "# É importante setarmos inplace=True nessas situações porque caso contrário\n",
    "# será realizado uma cópia do DataFrame implicando no consumo de mémoria desnecessariamente. \n",
    "# Embora nesse caso não seja crítico, em DataFrames maiores o é."
   ]
  },
  {
   "cell_type": "code",
   "execution_count": 12,
   "metadata": {},
   "outputs": [
    {
     "data": {
      "text/html": [
       "<div>\n",
       "<style scoped>\n",
       "    .dataframe tbody tr th:only-of-type {\n",
       "        vertical-align: middle;\n",
       "    }\n",
       "\n",
       "    .dataframe tbody tr th {\n",
       "        vertical-align: top;\n",
       "    }\n",
       "\n",
       "    .dataframe thead th {\n",
       "        text-align: right;\n",
       "    }\n",
       "</style>\n",
       "<table border=\"1\" class=\"dataframe\">\n",
       "  <thead>\n",
       "    <tr style=\"text-align: right;\">\n",
       "      <th></th>\n",
       "      <th>cd_proposta</th>\n",
       "      <th>cd_situacao</th>\n",
       "      <th>proposta_finalizada</th>\n",
       "      <th>ds_endereco_uf</th>\n",
       "      <th>ds_tipo_documento</th>\n",
       "      <th>ds_escolaridade</th>\n",
       "      <th>faixa_escolaridade</th>\n",
       "      <th>nr_dia_vencimento</th>\n",
       "      <th>ds_sexo</th>\n",
       "      <th>reprovado_suspeita_fraude_mesa</th>\n",
       "      <th>fra_pos_mesa</th>\n",
       "      <th>rendapresumidatu</th>\n",
       "      <th>faixa_renda_presumida</th>\n",
       "      <th>decilcurtoprazo</th>\n",
       "      <th>decillongoprazo</th>\n",
       "      <th>dt_fila_espera</th>\n",
       "      <th>horario_decisao_motorcredito</th>\n",
       "      <th>limite_aprovado</th>\n",
       "      <th>coc_dt_abertura_conta_cartao</th>\n",
       "    </tr>\n",
       "  </thead>\n",
       "  <tbody>\n",
       "    <tr>\n",
       "      <th>0</th>\n",
       "      <td>3262198.0</td>\n",
       "      <td>3</td>\n",
       "      <td>1</td>\n",
       "      <td>SP</td>\n",
       "      <td>RG</td>\n",
       "      <td>Médio Completo</td>\n",
       "      <td>2. Médio Completo</td>\n",
       "      <td>15</td>\n",
       "      <td>F</td>\n",
       "      <td>0</td>\n",
       "      <td>0</td>\n",
       "      <td>NaN</td>\n",
       "      <td>06. Outros, &lt; 400 &amp; Null</td>\n",
       "      <td>NaN</td>\n",
       "      <td>NaN</td>\n",
       "      <td>2018-12-27 17:16:20</td>\n",
       "      <td>2019-01-01 00:24:05</td>\n",
       "      <td>NaN</td>\n",
       "      <td>NaN</td>\n",
       "    </tr>\n",
       "    <tr>\n",
       "      <th>1</th>\n",
       "      <td>3276543.0</td>\n",
       "      <td>17</td>\n",
       "      <td>1</td>\n",
       "      <td>PB</td>\n",
       "      <td>RG</td>\n",
       "      <td>Superior Incompleto</td>\n",
       "      <td>3. &gt; Medio Completo</td>\n",
       "      <td>15</td>\n",
       "      <td>M</td>\n",
       "      <td>0</td>\n",
       "      <td>0</td>\n",
       "      <td>NaN</td>\n",
       "      <td>06. Outros, &lt; 400 &amp; Null</td>\n",
       "      <td>NaN</td>\n",
       "      <td>5.0</td>\n",
       "      <td>2019-01-01 00:25:56</td>\n",
       "      <td>2019-01-01 00:36:25</td>\n",
       "      <td>NaN</td>\n",
       "      <td>NaN</td>\n",
       "    </tr>\n",
       "    <tr>\n",
       "      <th>2</th>\n",
       "      <td>2987697.0</td>\n",
       "      <td>17</td>\n",
       "      <td>1</td>\n",
       "      <td>MG</td>\n",
       "      <td>CNH</td>\n",
       "      <td>Fundamental Incompleto</td>\n",
       "      <td>1. &lt; Medio Completo</td>\n",
       "      <td>20</td>\n",
       "      <td>M</td>\n",
       "      <td>0</td>\n",
       "      <td>0</td>\n",
       "      <td>NaN</td>\n",
       "      <td>06. Outros, &lt; 400 &amp; Null</td>\n",
       "      <td>NaN</td>\n",
       "      <td>NaN</td>\n",
       "      <td>2018-11-11 17:07:23</td>\n",
       "      <td>2019-01-01 01:11:32</td>\n",
       "      <td>NaN</td>\n",
       "      <td>NaN</td>\n",
       "    </tr>\n",
       "    <tr>\n",
       "      <th>3</th>\n",
       "      <td>3276564.0</td>\n",
       "      <td>3</td>\n",
       "      <td>1</td>\n",
       "      <td>CE</td>\n",
       "      <td>CNH</td>\n",
       "      <td>Fundamental Completo</td>\n",
       "      <td>1. &lt; Medio Completo</td>\n",
       "      <td>10</td>\n",
       "      <td>M</td>\n",
       "      <td>0</td>\n",
       "      <td>0</td>\n",
       "      <td>NaN</td>\n",
       "      <td>06. Outros, &lt; 400 &amp; Null</td>\n",
       "      <td>NaN</td>\n",
       "      <td>5.0</td>\n",
       "      <td>2019-01-01 00:57:28</td>\n",
       "      <td>2019-01-01 01:24:27</td>\n",
       "      <td>NaN</td>\n",
       "      <td>NaN</td>\n",
       "    </tr>\n",
       "    <tr>\n",
       "      <th>4</th>\n",
       "      <td>3276577.0</td>\n",
       "      <td>17</td>\n",
       "      <td>1</td>\n",
       "      <td>BA</td>\n",
       "      <td>RG</td>\n",
       "      <td>Fundamental Completo</td>\n",
       "      <td>1. &lt; Medio Completo</td>\n",
       "      <td>25</td>\n",
       "      <td>M</td>\n",
       "      <td>0</td>\n",
       "      <td>0</td>\n",
       "      <td>NaN</td>\n",
       "      <td>06. Outros, &lt; 400 &amp; Null</td>\n",
       "      <td>NaN</td>\n",
       "      <td>NaN</td>\n",
       "      <td>2019-01-01 01:48:56</td>\n",
       "      <td>2019-01-01 02:12:31</td>\n",
       "      <td>NaN</td>\n",
       "      <td>NaN</td>\n",
       "    </tr>\n",
       "  </tbody>\n",
       "</table>\n",
       "</div>"
      ],
      "text/plain": [
       "   cd_proposta  cd_situacao  proposta_finalizada ds_endereco_uf  \\\n",
       "0    3262198.0            3                    1             SP   \n",
       "1    3276543.0           17                    1             PB   \n",
       "2    2987697.0           17                    1             MG   \n",
       "3    3276564.0            3                    1             CE   \n",
       "4    3276577.0           17                    1             BA   \n",
       "\n",
       "  ds_tipo_documento         ds_escolaridade   faixa_escolaridade  \\\n",
       "0                RG          Médio Completo    2. Médio Completo   \n",
       "1                RG     Superior Incompleto  3. > Medio Completo   \n",
       "2               CNH  Fundamental Incompleto  1. < Medio Completo   \n",
       "3               CNH    Fundamental Completo  1. < Medio Completo   \n",
       "4                RG    Fundamental Completo  1. < Medio Completo   \n",
       "\n",
       "   nr_dia_vencimento ds_sexo  reprovado_suspeita_fraude_mesa  fra_pos_mesa  \\\n",
       "0                 15       F                               0             0   \n",
       "1                 15       M                               0             0   \n",
       "2                 20       M                               0             0   \n",
       "3                 10       M                               0             0   \n",
       "4                 25       M                               0             0   \n",
       "\n",
       "   rendapresumidatu     faixa_renda_presumida  decilcurtoprazo  \\\n",
       "0               NaN  06. Outros, < 400 & Null              NaN   \n",
       "1               NaN  06. Outros, < 400 & Null              NaN   \n",
       "2               NaN  06. Outros, < 400 & Null              NaN   \n",
       "3               NaN  06. Outros, < 400 & Null              NaN   \n",
       "4               NaN  06. Outros, < 400 & Null              NaN   \n",
       "\n",
       "   decillongoprazo       dt_fila_espera horario_decisao_motorcredito  \\\n",
       "0              NaN  2018-12-27 17:16:20          2019-01-01 00:24:05   \n",
       "1              5.0  2019-01-01 00:25:56          2019-01-01 00:36:25   \n",
       "2              NaN  2018-11-11 17:07:23          2019-01-01 01:11:32   \n",
       "3              5.0  2019-01-01 00:57:28          2019-01-01 01:24:27   \n",
       "4              NaN  2019-01-01 01:48:56          2019-01-01 02:12:31   \n",
       "\n",
       "   limite_aprovado coc_dt_abertura_conta_cartao  \n",
       "0              NaN                          NaN  \n",
       "1              NaN                          NaN  \n",
       "2              NaN                          NaN  \n",
       "3              NaN                          NaN  \n",
       "4              NaN                          NaN  "
      ]
     },
     "execution_count": 12,
     "metadata": {},
     "output_type": "execute_result"
    }
   ],
   "source": [
    "df_pro.head()"
   ]
  },
  {
   "cell_type": "markdown",
   "metadata": {},
   "source": [
    "Alguns dos nomes das colunas/series foram alterados como desejado, sendo retirado o prefixo `pro_`"
   ]
  },
  {
   "cell_type": "markdown",
   "metadata": {},
   "source": [
    "## 2.1 Inspenção da coluna `cd_proposta`"
   ]
  },
  {
   "cell_type": "markdown",
   "metadata": {},
   "source": [
    "O campo `cd_proposta`, corresponde ao código de proposta, que nós sabemos que é inteiro. Então por que está como um tipo `float64`?"
   ]
  },
  {
   "cell_type": "code",
   "execution_count": 13,
   "metadata": {},
   "outputs": [
    {
     "name": "stdout",
     "output_type": "stream",
     "text": [
      "pro_cd_proposta|pro_cd_situacao|proposta_finalizada|pro_ds_endereco_uf|pro_ds_tipo_documento|pro_ds_escolaridade|pro_faixa_escolaridade|pro_nr_dia_vencimento|pro_ds_sexo|reprovado_suspeita_fraude_mesa|fra_pos_mesa|rendapresumidatu|faixa_renda_presumida|decilcurtoprazo|decillongoprazo|pro_dt_fila_espera|horario_decisao_motorcredito|pro_limite_aprovado|coc_dt_abertura_conta_cartao\r\n",
      "3262198|3|1|SP|RG|Médio Completo|2. Médio Completo|15|F|0|0||06. Outros, < 400 & Null|||2018-12-27 17:16:20|2019-01-01 00:24:05||\r\n",
      "3276543|17|1|PB|RG|Superior Incompleto|3. > Medio Completo|15|M|0|0||06. Outros, < 400 & Null||5|2019-01-01 00:25:56|2019-01-01 00:36:25||\r\n",
      "2987697|17|1|MG|CNH|Fundamental Incompleto|1. < Medio Completo|20|M|0|0||06. Outros, < 400 & Null|||2018-11-11 17:07:23|2019-01-01 01:11:32||\r\n",
      "3276564|3|1|CE|CNH|Fundamental Completo|1. < Medio Completo|10|M|0|0||06. Outros, < 400 & Null||5|2019-01-01 00:57:28|2019-01-01 01:24:27||\r\n",
      "3276577|17|1|BA|RG|Fundamental Completo|1. < Medio Completo|25|M|0|0||06. Outros, < 400 & Null|||2019-01-01 01:48:56|2019-01-01 02:12:31||\r\n",
      "3276594|3|1|BA|CNH|Médio Completo|2. Médio Completo|20|M|0|0||06. Outros, < 400 & Null|||2019-01-01 02:49:01|2019-01-01 03:07:40||\r\n",
      "2854263|4|0|SC|RG|Médio Completo|2. Médio Completo|5|M|0|0|4000.00|05. (2000.0, 30000.0]|9|8|2018-10-25 11:58:08|2019-01-01 03:19:56|2000.00|\r\n",
      "3276601|2|1|MG|CNH|Médio Completo|2. Médio Completo|25|M|0|0|8500.00|05. (2000.0, 30000.0]|5|12|2019-01-01 03:18:23|2019-01-01 03:27:51|800.00|2019-01-04 08:14:43\r\n",
      "|3|1|MA|RG|Médio Completo|2. Médio Completo|15|F|0|0||06. Outros, < 400 & Null|||2018-02-26 15:23:50|2019-01-01 04:29:53||\r\n"
     ]
    }
   ],
   "source": [
    "!head mini_propostas.csv"
   ]
  },
  {
   "cell_type": "markdown",
   "metadata": {},
   "source": [
    "Ao inspecionarmos os primeiros registros do `csv` de onde `df_pro` foi carregado, tudo parece correto `pro_cd_proposta` que foi renomeado para `cd_proposta` de fato é um número inteiro."
   ]
  },
  {
   "cell_type": "markdown",
   "metadata": {},
   "source": [
    "Vamos então tentar converter a `df_pro['cd_proposta']` para inteiro."
   ]
  },
  {
   "cell_type": "code",
   "execution_count": 14,
   "metadata": {},
   "outputs": [
    {
     "ename": "ValueError",
     "evalue": "Cannot convert non-finite values (NA or inf) to integer",
     "output_type": "error",
     "traceback": [
      "\u001b[0;31m---------------------------------------------------------------------------\u001b[0m",
      "\u001b[0;31mValueError\u001b[0m                                Traceback (most recent call last)",
      "\u001b[0;32m<ipython-input-14-0a927a5b530d>\u001b[0m in \u001b[0;36m<module>\u001b[0;34m\u001b[0m\n\u001b[0;32m----> 1\u001b[0;31m \u001b[0mdf_pro\u001b[0m\u001b[0;34m[\u001b[0m\u001b[0;34m'cd_proposta'\u001b[0m\u001b[0;34m]\u001b[0m \u001b[0;34m=\u001b[0m \u001b[0mdf_pro\u001b[0m\u001b[0;34m[\u001b[0m\u001b[0;34m'cd_proposta'\u001b[0m\u001b[0;34m]\u001b[0m\u001b[0;34m.\u001b[0m\u001b[0mastype\u001b[0m\u001b[0;34m(\u001b[0m\u001b[0mint\u001b[0m\u001b[0;34m)\u001b[0m\u001b[0;34m\u001b[0m\u001b[0;34m\u001b[0m\u001b[0m\n\u001b[0m",
      "\u001b[0;32m~/.pyenv/versions/3.7.4/envs/projects/lib/python3.7/site-packages/pandas/core/generic.py\u001b[0m in \u001b[0;36mastype\u001b[0;34m(self, dtype, copy, errors, **kwargs)\u001b[0m\n\u001b[1;32m   5689\u001b[0m             \u001b[0;31m# else, only a single dtype is given\u001b[0m\u001b[0;34m\u001b[0m\u001b[0;34m\u001b[0m\u001b[0;34m\u001b[0m\u001b[0m\n\u001b[1;32m   5690\u001b[0m             new_data = self._data.astype(dtype=dtype, copy=copy, errors=errors,\n\u001b[0;32m-> 5691\u001b[0;31m                                          **kwargs)\n\u001b[0m\u001b[1;32m   5692\u001b[0m             \u001b[0;32mreturn\u001b[0m \u001b[0mself\u001b[0m\u001b[0;34m.\u001b[0m\u001b[0m_constructor\u001b[0m\u001b[0;34m(\u001b[0m\u001b[0mnew_data\u001b[0m\u001b[0;34m)\u001b[0m\u001b[0;34m.\u001b[0m\u001b[0m__finalize__\u001b[0m\u001b[0;34m(\u001b[0m\u001b[0mself\u001b[0m\u001b[0;34m)\u001b[0m\u001b[0;34m\u001b[0m\u001b[0;34m\u001b[0m\u001b[0m\n\u001b[1;32m   5693\u001b[0m \u001b[0;34m\u001b[0m\u001b[0m\n",
      "\u001b[0;32m~/.pyenv/versions/3.7.4/envs/projects/lib/python3.7/site-packages/pandas/core/internals/managers.py\u001b[0m in \u001b[0;36mastype\u001b[0;34m(self, dtype, **kwargs)\u001b[0m\n\u001b[1;32m    529\u001b[0m \u001b[0;34m\u001b[0m\u001b[0m\n\u001b[1;32m    530\u001b[0m     \u001b[0;32mdef\u001b[0m \u001b[0mastype\u001b[0m\u001b[0;34m(\u001b[0m\u001b[0mself\u001b[0m\u001b[0;34m,\u001b[0m \u001b[0mdtype\u001b[0m\u001b[0;34m,\u001b[0m \u001b[0;34m**\u001b[0m\u001b[0mkwargs\u001b[0m\u001b[0;34m)\u001b[0m\u001b[0;34m:\u001b[0m\u001b[0;34m\u001b[0m\u001b[0;34m\u001b[0m\u001b[0m\n\u001b[0;32m--> 531\u001b[0;31m         \u001b[0;32mreturn\u001b[0m \u001b[0mself\u001b[0m\u001b[0;34m.\u001b[0m\u001b[0mapply\u001b[0m\u001b[0;34m(\u001b[0m\u001b[0;34m'astype'\u001b[0m\u001b[0;34m,\u001b[0m \u001b[0mdtype\u001b[0m\u001b[0;34m=\u001b[0m\u001b[0mdtype\u001b[0m\u001b[0;34m,\u001b[0m \u001b[0;34m**\u001b[0m\u001b[0mkwargs\u001b[0m\u001b[0;34m)\u001b[0m\u001b[0;34m\u001b[0m\u001b[0;34m\u001b[0m\u001b[0m\n\u001b[0m\u001b[1;32m    532\u001b[0m \u001b[0;34m\u001b[0m\u001b[0m\n\u001b[1;32m    533\u001b[0m     \u001b[0;32mdef\u001b[0m \u001b[0mconvert\u001b[0m\u001b[0;34m(\u001b[0m\u001b[0mself\u001b[0m\u001b[0;34m,\u001b[0m \u001b[0;34m**\u001b[0m\u001b[0mkwargs\u001b[0m\u001b[0;34m)\u001b[0m\u001b[0;34m:\u001b[0m\u001b[0;34m\u001b[0m\u001b[0;34m\u001b[0m\u001b[0m\n",
      "\u001b[0;32m~/.pyenv/versions/3.7.4/envs/projects/lib/python3.7/site-packages/pandas/core/internals/managers.py\u001b[0m in \u001b[0;36mapply\u001b[0;34m(self, f, axes, filter, do_integrity_check, consolidate, **kwargs)\u001b[0m\n\u001b[1;32m    393\u001b[0m                                             copy=align_copy)\n\u001b[1;32m    394\u001b[0m \u001b[0;34m\u001b[0m\u001b[0m\n\u001b[0;32m--> 395\u001b[0;31m             \u001b[0mapplied\u001b[0m \u001b[0;34m=\u001b[0m \u001b[0mgetattr\u001b[0m\u001b[0;34m(\u001b[0m\u001b[0mb\u001b[0m\u001b[0;34m,\u001b[0m \u001b[0mf\u001b[0m\u001b[0;34m)\u001b[0m\u001b[0;34m(\u001b[0m\u001b[0;34m**\u001b[0m\u001b[0mkwargs\u001b[0m\u001b[0;34m)\u001b[0m\u001b[0;34m\u001b[0m\u001b[0;34m\u001b[0m\u001b[0m\n\u001b[0m\u001b[1;32m    396\u001b[0m             \u001b[0mresult_blocks\u001b[0m \u001b[0;34m=\u001b[0m \u001b[0m_extend_blocks\u001b[0m\u001b[0;34m(\u001b[0m\u001b[0mapplied\u001b[0m\u001b[0;34m,\u001b[0m \u001b[0mresult_blocks\u001b[0m\u001b[0;34m)\u001b[0m\u001b[0;34m\u001b[0m\u001b[0;34m\u001b[0m\u001b[0m\n\u001b[1;32m    397\u001b[0m \u001b[0;34m\u001b[0m\u001b[0m\n",
      "\u001b[0;32m~/.pyenv/versions/3.7.4/envs/projects/lib/python3.7/site-packages/pandas/core/internals/blocks.py\u001b[0m in \u001b[0;36mastype\u001b[0;34m(self, dtype, copy, errors, values, **kwargs)\u001b[0m\n\u001b[1;32m    532\u001b[0m     \u001b[0;32mdef\u001b[0m \u001b[0mastype\u001b[0m\u001b[0;34m(\u001b[0m\u001b[0mself\u001b[0m\u001b[0;34m,\u001b[0m \u001b[0mdtype\u001b[0m\u001b[0;34m,\u001b[0m \u001b[0mcopy\u001b[0m\u001b[0;34m=\u001b[0m\u001b[0;32mFalse\u001b[0m\u001b[0;34m,\u001b[0m \u001b[0merrors\u001b[0m\u001b[0;34m=\u001b[0m\u001b[0;34m'raise'\u001b[0m\u001b[0;34m,\u001b[0m \u001b[0mvalues\u001b[0m\u001b[0;34m=\u001b[0m\u001b[0;32mNone\u001b[0m\u001b[0;34m,\u001b[0m \u001b[0;34m**\u001b[0m\u001b[0mkwargs\u001b[0m\u001b[0;34m)\u001b[0m\u001b[0;34m:\u001b[0m\u001b[0;34m\u001b[0m\u001b[0;34m\u001b[0m\u001b[0m\n\u001b[1;32m    533\u001b[0m         return self._astype(dtype, copy=copy, errors=errors, values=values,\n\u001b[0;32m--> 534\u001b[0;31m                             **kwargs)\n\u001b[0m\u001b[1;32m    535\u001b[0m \u001b[0;34m\u001b[0m\u001b[0m\n\u001b[1;32m    536\u001b[0m     def _astype(self, dtype, copy=False, errors='raise', values=None,\n",
      "\u001b[0;32m~/.pyenv/versions/3.7.4/envs/projects/lib/python3.7/site-packages/pandas/core/internals/blocks.py\u001b[0m in \u001b[0;36m_astype\u001b[0;34m(self, dtype, copy, errors, values, **kwargs)\u001b[0m\n\u001b[1;32m    631\u001b[0m \u001b[0;34m\u001b[0m\u001b[0m\n\u001b[1;32m    632\u001b[0m                     \u001b[0;31m# _astype_nansafe works fine with 1-d only\u001b[0m\u001b[0;34m\u001b[0m\u001b[0;34m\u001b[0m\u001b[0;34m\u001b[0m\u001b[0m\n\u001b[0;32m--> 633\u001b[0;31m                     \u001b[0mvalues\u001b[0m \u001b[0;34m=\u001b[0m \u001b[0mastype_nansafe\u001b[0m\u001b[0;34m(\u001b[0m\u001b[0mvalues\u001b[0m\u001b[0;34m.\u001b[0m\u001b[0mravel\u001b[0m\u001b[0;34m(\u001b[0m\u001b[0;34m)\u001b[0m\u001b[0;34m,\u001b[0m \u001b[0mdtype\u001b[0m\u001b[0;34m,\u001b[0m \u001b[0mcopy\u001b[0m\u001b[0;34m=\u001b[0m\u001b[0;32mTrue\u001b[0m\u001b[0;34m)\u001b[0m\u001b[0;34m\u001b[0m\u001b[0;34m\u001b[0m\u001b[0m\n\u001b[0m\u001b[1;32m    634\u001b[0m \u001b[0;34m\u001b[0m\u001b[0m\n\u001b[1;32m    635\u001b[0m                 \u001b[0;31m# TODO(extension)\u001b[0m\u001b[0;34m\u001b[0m\u001b[0;34m\u001b[0m\u001b[0;34m\u001b[0m\u001b[0m\n",
      "\u001b[0;32m~/.pyenv/versions/3.7.4/envs/projects/lib/python3.7/site-packages/pandas/core/dtypes/cast.py\u001b[0m in \u001b[0;36mastype_nansafe\u001b[0;34m(arr, dtype, copy, skipna)\u001b[0m\n\u001b[1;32m    674\u001b[0m \u001b[0;34m\u001b[0m\u001b[0m\n\u001b[1;32m    675\u001b[0m         \u001b[0;32mif\u001b[0m \u001b[0;32mnot\u001b[0m \u001b[0mnp\u001b[0m\u001b[0;34m.\u001b[0m\u001b[0misfinite\u001b[0m\u001b[0;34m(\u001b[0m\u001b[0marr\u001b[0m\u001b[0;34m)\u001b[0m\u001b[0;34m.\u001b[0m\u001b[0mall\u001b[0m\u001b[0;34m(\u001b[0m\u001b[0;34m)\u001b[0m\u001b[0;34m:\u001b[0m\u001b[0;34m\u001b[0m\u001b[0;34m\u001b[0m\u001b[0m\n\u001b[0;32m--> 676\u001b[0;31m             raise ValueError('Cannot convert non-finite values (NA or inf) to '\n\u001b[0m\u001b[1;32m    677\u001b[0m                              'integer')\n\u001b[1;32m    678\u001b[0m \u001b[0;34m\u001b[0m\u001b[0m\n",
      "\u001b[0;31mValueError\u001b[0m: Cannot convert non-finite values (NA or inf) to integer"
     ]
    }
   ],
   "source": [
    "df_pro['cd_proposta'] = df_pro['cd_proposta'].astype(int)"
   ]
  },
  {
   "cell_type": "markdown",
   "metadata": {},
   "source": [
    "Pelo erro ocorrido aparenta que temos registros sem seu respectivo código de proposta. Isto é fácil de descobrir."
   ]
  },
  {
   "cell_type": "code",
   "execution_count": 16,
   "metadata": {},
   "outputs": [
    {
     "data": {
      "text/plain": [
       "1"
      ]
     },
     "execution_count": 16,
     "metadata": {},
     "output_type": "execute_result"
    }
   ],
   "source": [
    "df_pro['cd_proposta'].isnull().sum()"
   ]
  },
  {
   "cell_type": "markdown",
   "metadata": {},
   "source": [
    "De fato temos um registro com `cd_proposta` nulo. Este único registro nulo alterou todo o tipo de sua respectiva coluna. Uma vez que o tipo inteiro no numpy e pandas não suporta np.nan, quando carregamos o `df_pro` o pandas automaticamente inferiu o tipo dessa coluna como np.float64 (promovendo todos os registros não nulos). E quando tentamos converter (rebaixar) esses elementos para np.int64, não foi possível por que essa operação não é suportado para o registro nulo. Situação semalhante a que ocorreu quando tentamos converter um número complexo em inteiro no começo do notebook de `PYTH-101`."
   ]
  },
  {
   "cell_type": "markdown",
   "metadata": {},
   "source": [
    "Para contornar essa situação, basta remover o registro com `cd_proposta` nulo."
   ]
  },
  {
   "cell_type": "code",
   "execution_count": 17,
   "metadata": {},
   "outputs": [],
   "source": [
    "df_pro.dropna(subset=['cd_proposta'], inplace=True)\n",
    "# XXX Atenção é importantíssimo que passemos o contexto de avaliação dos NAs\n",
    "# caso contrário será considerado todas as colunas do DataFrame e não apenas \n",
    "# de cd_proposta."
   ]
  },
  {
   "cell_type": "code",
   "execution_count": 18,
   "metadata": {},
   "outputs": [
    {
     "data": {
      "text/plain": [
       "(49999, 19)"
      ]
     },
     "execution_count": 18,
     "metadata": {},
     "output_type": "execute_result"
    }
   ],
   "source": [
    "df_pro.shape"
   ]
  },
  {
   "cell_type": "markdown",
   "metadata": {},
   "source": [
    "Registro removido como esperado, agora convertendo o tipo da coluna para inteiro. "
   ]
  },
  {
   "cell_type": "code",
   "execution_count": 19,
   "metadata": {},
   "outputs": [],
   "source": [
    "df_pro['cd_proposta'] = df_pro['cd_proposta'].astype(int)"
   ]
  },
  {
   "cell_type": "code",
   "execution_count": 20,
   "metadata": {},
   "outputs": [
    {
     "data": {
      "text/html": [
       "<div>\n",
       "<style scoped>\n",
       "    .dataframe tbody tr th:only-of-type {\n",
       "        vertical-align: middle;\n",
       "    }\n",
       "\n",
       "    .dataframe tbody tr th {\n",
       "        vertical-align: top;\n",
       "    }\n",
       "\n",
       "    .dataframe thead th {\n",
       "        text-align: right;\n",
       "    }\n",
       "</style>\n",
       "<table border=\"1\" class=\"dataframe\">\n",
       "  <thead>\n",
       "    <tr style=\"text-align: right;\">\n",
       "      <th></th>\n",
       "      <th>cd_proposta</th>\n",
       "      <th>cd_situacao</th>\n",
       "      <th>proposta_finalizada</th>\n",
       "      <th>ds_endereco_uf</th>\n",
       "      <th>ds_tipo_documento</th>\n",
       "      <th>ds_escolaridade</th>\n",
       "      <th>faixa_escolaridade</th>\n",
       "      <th>nr_dia_vencimento</th>\n",
       "      <th>ds_sexo</th>\n",
       "      <th>reprovado_suspeita_fraude_mesa</th>\n",
       "      <th>fra_pos_mesa</th>\n",
       "      <th>rendapresumidatu</th>\n",
       "      <th>faixa_renda_presumida</th>\n",
       "      <th>decilcurtoprazo</th>\n",
       "      <th>decillongoprazo</th>\n",
       "      <th>dt_fila_espera</th>\n",
       "      <th>horario_decisao_motorcredito</th>\n",
       "      <th>limite_aprovado</th>\n",
       "      <th>coc_dt_abertura_conta_cartao</th>\n",
       "    </tr>\n",
       "  </thead>\n",
       "  <tbody>\n",
       "    <tr>\n",
       "      <th>0</th>\n",
       "      <td>3262198</td>\n",
       "      <td>3</td>\n",
       "      <td>1</td>\n",
       "      <td>SP</td>\n",
       "      <td>RG</td>\n",
       "      <td>Médio Completo</td>\n",
       "      <td>2. Médio Completo</td>\n",
       "      <td>15</td>\n",
       "      <td>F</td>\n",
       "      <td>0</td>\n",
       "      <td>0</td>\n",
       "      <td>NaN</td>\n",
       "      <td>06. Outros, &lt; 400 &amp; Null</td>\n",
       "      <td>NaN</td>\n",
       "      <td>NaN</td>\n",
       "      <td>2018-12-27 17:16:20</td>\n",
       "      <td>2019-01-01 00:24:05</td>\n",
       "      <td>NaN</td>\n",
       "      <td>NaN</td>\n",
       "    </tr>\n",
       "    <tr>\n",
       "      <th>1</th>\n",
       "      <td>3276543</td>\n",
       "      <td>17</td>\n",
       "      <td>1</td>\n",
       "      <td>PB</td>\n",
       "      <td>RG</td>\n",
       "      <td>Superior Incompleto</td>\n",
       "      <td>3. &gt; Medio Completo</td>\n",
       "      <td>15</td>\n",
       "      <td>M</td>\n",
       "      <td>0</td>\n",
       "      <td>0</td>\n",
       "      <td>NaN</td>\n",
       "      <td>06. Outros, &lt; 400 &amp; Null</td>\n",
       "      <td>NaN</td>\n",
       "      <td>5.0</td>\n",
       "      <td>2019-01-01 00:25:56</td>\n",
       "      <td>2019-01-01 00:36:25</td>\n",
       "      <td>NaN</td>\n",
       "      <td>NaN</td>\n",
       "    </tr>\n",
       "    <tr>\n",
       "      <th>2</th>\n",
       "      <td>2987697</td>\n",
       "      <td>17</td>\n",
       "      <td>1</td>\n",
       "      <td>MG</td>\n",
       "      <td>CNH</td>\n",
       "      <td>Fundamental Incompleto</td>\n",
       "      <td>1. &lt; Medio Completo</td>\n",
       "      <td>20</td>\n",
       "      <td>M</td>\n",
       "      <td>0</td>\n",
       "      <td>0</td>\n",
       "      <td>NaN</td>\n",
       "      <td>06. Outros, &lt; 400 &amp; Null</td>\n",
       "      <td>NaN</td>\n",
       "      <td>NaN</td>\n",
       "      <td>2018-11-11 17:07:23</td>\n",
       "      <td>2019-01-01 01:11:32</td>\n",
       "      <td>NaN</td>\n",
       "      <td>NaN</td>\n",
       "    </tr>\n",
       "    <tr>\n",
       "      <th>3</th>\n",
       "      <td>3276564</td>\n",
       "      <td>3</td>\n",
       "      <td>1</td>\n",
       "      <td>CE</td>\n",
       "      <td>CNH</td>\n",
       "      <td>Fundamental Completo</td>\n",
       "      <td>1. &lt; Medio Completo</td>\n",
       "      <td>10</td>\n",
       "      <td>M</td>\n",
       "      <td>0</td>\n",
       "      <td>0</td>\n",
       "      <td>NaN</td>\n",
       "      <td>06. Outros, &lt; 400 &amp; Null</td>\n",
       "      <td>NaN</td>\n",
       "      <td>5.0</td>\n",
       "      <td>2019-01-01 00:57:28</td>\n",
       "      <td>2019-01-01 01:24:27</td>\n",
       "      <td>NaN</td>\n",
       "      <td>NaN</td>\n",
       "    </tr>\n",
       "    <tr>\n",
       "      <th>4</th>\n",
       "      <td>3276577</td>\n",
       "      <td>17</td>\n",
       "      <td>1</td>\n",
       "      <td>BA</td>\n",
       "      <td>RG</td>\n",
       "      <td>Fundamental Completo</td>\n",
       "      <td>1. &lt; Medio Completo</td>\n",
       "      <td>25</td>\n",
       "      <td>M</td>\n",
       "      <td>0</td>\n",
       "      <td>0</td>\n",
       "      <td>NaN</td>\n",
       "      <td>06. Outros, &lt; 400 &amp; Null</td>\n",
       "      <td>NaN</td>\n",
       "      <td>NaN</td>\n",
       "      <td>2019-01-01 01:48:56</td>\n",
       "      <td>2019-01-01 02:12:31</td>\n",
       "      <td>NaN</td>\n",
       "      <td>NaN</td>\n",
       "    </tr>\n",
       "  </tbody>\n",
       "</table>\n",
       "</div>"
      ],
      "text/plain": [
       "   cd_proposta  cd_situacao  proposta_finalizada ds_endereco_uf  \\\n",
       "0      3262198            3                    1             SP   \n",
       "1      3276543           17                    1             PB   \n",
       "2      2987697           17                    1             MG   \n",
       "3      3276564            3                    1             CE   \n",
       "4      3276577           17                    1             BA   \n",
       "\n",
       "  ds_tipo_documento         ds_escolaridade   faixa_escolaridade  \\\n",
       "0                RG          Médio Completo    2. Médio Completo   \n",
       "1                RG     Superior Incompleto  3. > Medio Completo   \n",
       "2               CNH  Fundamental Incompleto  1. < Medio Completo   \n",
       "3               CNH    Fundamental Completo  1. < Medio Completo   \n",
       "4                RG    Fundamental Completo  1. < Medio Completo   \n",
       "\n",
       "   nr_dia_vencimento ds_sexo  reprovado_suspeita_fraude_mesa  fra_pos_mesa  \\\n",
       "0                 15       F                               0             0   \n",
       "1                 15       M                               0             0   \n",
       "2                 20       M                               0             0   \n",
       "3                 10       M                               0             0   \n",
       "4                 25       M                               0             0   \n",
       "\n",
       "   rendapresumidatu     faixa_renda_presumida  decilcurtoprazo  \\\n",
       "0               NaN  06. Outros, < 400 & Null              NaN   \n",
       "1               NaN  06. Outros, < 400 & Null              NaN   \n",
       "2               NaN  06. Outros, < 400 & Null              NaN   \n",
       "3               NaN  06. Outros, < 400 & Null              NaN   \n",
       "4               NaN  06. Outros, < 400 & Null              NaN   \n",
       "\n",
       "   decillongoprazo       dt_fila_espera horario_decisao_motorcredito  \\\n",
       "0              NaN  2018-12-27 17:16:20          2019-01-01 00:24:05   \n",
       "1              5.0  2019-01-01 00:25:56          2019-01-01 00:36:25   \n",
       "2              NaN  2018-11-11 17:07:23          2019-01-01 01:11:32   \n",
       "3              5.0  2019-01-01 00:57:28          2019-01-01 01:24:27   \n",
       "4              NaN  2019-01-01 01:48:56          2019-01-01 02:12:31   \n",
       "\n",
       "   limite_aprovado coc_dt_abertura_conta_cartao  \n",
       "0              NaN                          NaN  \n",
       "1              NaN                          NaN  \n",
       "2              NaN                          NaN  \n",
       "3              NaN                          NaN  \n",
       "4              NaN                          NaN  "
      ]
     },
     "execution_count": 20,
     "metadata": {},
     "output_type": "execute_result"
    }
   ],
   "source": [
    "df_pro.head()"
   ]
  },
  {
   "cell_type": "markdown",
   "metadata": {},
   "source": [
    "Então se uma coluna que deveria ser do tipo `inteiro` está aparecendo como `float`, já sabemos de ante mão que contém registros nulos. Cabe avaliar se isso faz sentido com a base que está sendo trabalhada."
   ]
  },
  {
   "cell_type": "markdown",
   "metadata": {},
   "source": [
    "Uma outra checagem interessante de se fazer em chaves primárias, é checar se de fato são primárias. Isto é facilmente alcançado com o describe."
   ]
  },
  {
   "cell_type": "code",
   "execution_count": 23,
   "metadata": {},
   "outputs": [
    {
     "data": {
      "text/plain": [
       "count       49999\n",
       "unique      49999\n",
       "top       3281075\n",
       "freq            1\n",
       "Name: cd_proposta, dtype: object"
      ]
     },
     "execution_count": 23,
     "metadata": {},
     "output_type": "execute_result"
    }
   ],
   "source": [
    "df_pro['cd_proposta'].astype(str).describe()"
   ]
  },
  {
   "cell_type": "markdown",
   "metadata": {},
   "source": [
    "## 2.2 Inspeção dos campos de Data e Hora - dt_fila_espera e horario_decisao_motorcredito"
   ]
  },
  {
   "cell_type": "markdown",
   "metadata": {},
   "source": [
    "Ao olharmos para os tipo dos campos `dt_fila_espera` e `horario_decisao_motorcredito`, vemos que são do tipo `object` bem como campos de string. "
   ]
  },
  {
   "cell_type": "code",
   "execution_count": 25,
   "metadata": {},
   "outputs": [
    {
     "data": {
      "text/plain": [
       "cd_proposta                         int64\n",
       "cd_situacao                         int64\n",
       "proposta_finalizada                 int64\n",
       "ds_endereco_uf                     object\n",
       "ds_tipo_documento                  object\n",
       "ds_escolaridade                    object\n",
       "faixa_escolaridade                 object\n",
       "nr_dia_vencimento                   int64\n",
       "ds_sexo                            object\n",
       "reprovado_suspeita_fraude_mesa      int64\n",
       "fra_pos_mesa                        int64\n",
       "rendapresumidatu                  float64\n",
       "faixa_renda_presumida              object\n",
       "decilcurtoprazo                   float64\n",
       "decillongoprazo                   float64\n",
       "dt_fila_espera                     object\n",
       "horario_decisao_motorcredito       object\n",
       "limite_aprovado                   float64\n",
       "coc_dt_abertura_conta_cartao       object\n",
       "dtype: object"
      ]
     },
     "execution_count": 25,
     "metadata": {},
     "output_type": "execute_result"
    }
   ],
   "source": [
    "df_pro.dtypes"
   ]
  },
  {
   "cell_type": "code",
   "execution_count": 24,
   "metadata": {},
   "outputs": [
    {
     "data": {
      "text/plain": [
       "(str, str)"
      ]
     },
     "execution_count": 24,
     "metadata": {},
     "output_type": "execute_result"
    }
   ],
   "source": [
    "type(df_pro['dt_fila_espera'][0]), type(df_pro['horario_decisao_motorcredito'][0])"
   ]
  },
  {
   "cell_type": "markdown",
   "metadata": {},
   "source": [
    "Como suspeitávamos, os campos de data estão como string no DataFrame, isto pode ser solucionado de duas formas. A primeira é no momento da leitura do csv setarmos o parâmetro `dtypes` dessas colunas para `datetime`. Já a segunda opção, que utilizaremos, é usando o metódo `pd.to_datetime()`"
   ]
  },
  {
   "cell_type": "code",
   "execution_count": 26,
   "metadata": {},
   "outputs": [],
   "source": [
    "df_pro['dt_fila_espera'] = pd.to_datetime(df_pro['dt_fila_espera'])\n",
    "df_pro['horario_decisao_motorcredito'] = pd.to_datetime(df_pro['horario_decisao_motorcredito'])\n",
    "# XXX Como a data está no formato YYYY-MM-DD, não precisamos nos importar com tipo de formatação de data.\n",
    "# No entanto se estivesse no formato DD-MM-YYYY, teríamos que setar o parametro dayfirst=True"
   ]
  },
  {
   "cell_type": "code",
   "execution_count": 27,
   "metadata": {},
   "outputs": [
    {
     "data": {
      "text/plain": [
       "cd_proposta                                int64\n",
       "cd_situacao                                int64\n",
       "proposta_finalizada                        int64\n",
       "ds_endereco_uf                            object\n",
       "ds_tipo_documento                         object\n",
       "ds_escolaridade                           object\n",
       "faixa_escolaridade                        object\n",
       "nr_dia_vencimento                          int64\n",
       "ds_sexo                                   object\n",
       "reprovado_suspeita_fraude_mesa             int64\n",
       "fra_pos_mesa                               int64\n",
       "rendapresumidatu                         float64\n",
       "faixa_renda_presumida                     object\n",
       "decilcurtoprazo                          float64\n",
       "decillongoprazo                          float64\n",
       "dt_fila_espera                    datetime64[ns]\n",
       "horario_decisao_motorcredito      datetime64[ns]\n",
       "limite_aprovado                          float64\n",
       "coc_dt_abertura_conta_cartao              object\n",
       "dtype: object"
      ]
     },
     "execution_count": 27,
     "metadata": {},
     "output_type": "execute_result"
    }
   ],
   "source": [
    "df_pro.dtypes"
   ]
  },
  {
   "cell_type": "markdown",
   "metadata": {},
   "source": [
    "Agora que as datas são do tipo datetime64, temos todos metódos desse tipo para trabalharmos apropriadamente com as datas e horas."
   ]
  },
  {
   "cell_type": "markdown",
   "metadata": {},
   "source": [
    "# 3 Seleção de colunas para visualização"
   ]
  },
  {
   "cell_type": "markdown",
   "metadata": {},
   "source": [
    "Quando queremos visualizar o conteúdo de uma única coluna não temos problemas, basta realizar no nosso caso o comando `df_pro['coluna_desejada']`. Mas e quando queremos selecionar mais de uma coluna, o intuitivo não seria fazer:"
   ]
  },
  {
   "cell_type": "code",
   "execution_count": 30,
   "metadata": {},
   "outputs": [
    {
     "ename": "KeyError",
     "evalue": "('cd_proposta', 'cd_situacao')",
     "output_type": "error",
     "traceback": [
      "\u001b[0;31m---------------------------------------------------------------------------\u001b[0m",
      "\u001b[0;31mKeyError\u001b[0m                                  Traceback (most recent call last)",
      "\u001b[0;32m~/.pyenv/versions/3.7.4/envs/projects/lib/python3.7/site-packages/pandas/core/indexes/base.py\u001b[0m in \u001b[0;36mget_loc\u001b[0;34m(self, key, method, tolerance)\u001b[0m\n\u001b[1;32m   2656\u001b[0m             \u001b[0;32mtry\u001b[0m\u001b[0;34m:\u001b[0m\u001b[0;34m\u001b[0m\u001b[0;34m\u001b[0m\u001b[0m\n\u001b[0;32m-> 2657\u001b[0;31m                 \u001b[0;32mreturn\u001b[0m \u001b[0mself\u001b[0m\u001b[0;34m.\u001b[0m\u001b[0m_engine\u001b[0m\u001b[0;34m.\u001b[0m\u001b[0mget_loc\u001b[0m\u001b[0;34m(\u001b[0m\u001b[0mkey\u001b[0m\u001b[0;34m)\u001b[0m\u001b[0;34m\u001b[0m\u001b[0;34m\u001b[0m\u001b[0m\n\u001b[0m\u001b[1;32m   2658\u001b[0m             \u001b[0;32mexcept\u001b[0m \u001b[0mKeyError\u001b[0m\u001b[0;34m:\u001b[0m\u001b[0;34m\u001b[0m\u001b[0;34m\u001b[0m\u001b[0m\n",
      "\u001b[0;32mpandas/_libs/index.pyx\u001b[0m in \u001b[0;36mpandas._libs.index.IndexEngine.get_loc\u001b[0;34m()\u001b[0m\n",
      "\u001b[0;32mpandas/_libs/index.pyx\u001b[0m in \u001b[0;36mpandas._libs.index.IndexEngine.get_loc\u001b[0;34m()\u001b[0m\n",
      "\u001b[0;32mpandas/_libs/hashtable_class_helper.pxi\u001b[0m in \u001b[0;36mpandas._libs.hashtable.PyObjectHashTable.get_item\u001b[0;34m()\u001b[0m\n",
      "\u001b[0;32mpandas/_libs/hashtable_class_helper.pxi\u001b[0m in \u001b[0;36mpandas._libs.hashtable.PyObjectHashTable.get_item\u001b[0;34m()\u001b[0m\n",
      "\u001b[0;31mKeyError\u001b[0m: ('cd_proposta', 'cd_situacao')",
      "\nDuring handling of the above exception, another exception occurred:\n",
      "\u001b[0;31mKeyError\u001b[0m                                  Traceback (most recent call last)",
      "\u001b[0;32m<ipython-input-30-97b7c309d112>\u001b[0m in \u001b[0;36m<module>\u001b[0;34m\u001b[0m\n\u001b[0;32m----> 1\u001b[0;31m \u001b[0mdf_pro\u001b[0m\u001b[0;34m[\u001b[0m\u001b[0;34m'cd_proposta'\u001b[0m\u001b[0;34m,\u001b[0m \u001b[0;34m'cd_situacao'\u001b[0m\u001b[0;34m]\u001b[0m\u001b[0;34m\u001b[0m\u001b[0;34m\u001b[0m\u001b[0m\n\u001b[0m",
      "\u001b[0;32m~/.pyenv/versions/3.7.4/envs/projects/lib/python3.7/site-packages/pandas/core/frame.py\u001b[0m in \u001b[0;36m__getitem__\u001b[0;34m(self, key)\u001b[0m\n\u001b[1;32m   2925\u001b[0m             \u001b[0;32mif\u001b[0m \u001b[0mself\u001b[0m\u001b[0;34m.\u001b[0m\u001b[0mcolumns\u001b[0m\u001b[0;34m.\u001b[0m\u001b[0mnlevels\u001b[0m \u001b[0;34m>\u001b[0m \u001b[0;36m1\u001b[0m\u001b[0;34m:\u001b[0m\u001b[0;34m\u001b[0m\u001b[0;34m\u001b[0m\u001b[0m\n\u001b[1;32m   2926\u001b[0m                 \u001b[0;32mreturn\u001b[0m \u001b[0mself\u001b[0m\u001b[0;34m.\u001b[0m\u001b[0m_getitem_multilevel\u001b[0m\u001b[0;34m(\u001b[0m\u001b[0mkey\u001b[0m\u001b[0;34m)\u001b[0m\u001b[0;34m\u001b[0m\u001b[0;34m\u001b[0m\u001b[0m\n\u001b[0;32m-> 2927\u001b[0;31m             \u001b[0mindexer\u001b[0m \u001b[0;34m=\u001b[0m \u001b[0mself\u001b[0m\u001b[0;34m.\u001b[0m\u001b[0mcolumns\u001b[0m\u001b[0;34m.\u001b[0m\u001b[0mget_loc\u001b[0m\u001b[0;34m(\u001b[0m\u001b[0mkey\u001b[0m\u001b[0;34m)\u001b[0m\u001b[0;34m\u001b[0m\u001b[0;34m\u001b[0m\u001b[0m\n\u001b[0m\u001b[1;32m   2928\u001b[0m             \u001b[0;32mif\u001b[0m \u001b[0mis_integer\u001b[0m\u001b[0;34m(\u001b[0m\u001b[0mindexer\u001b[0m\u001b[0;34m)\u001b[0m\u001b[0;34m:\u001b[0m\u001b[0;34m\u001b[0m\u001b[0;34m\u001b[0m\u001b[0m\n\u001b[1;32m   2929\u001b[0m                 \u001b[0mindexer\u001b[0m \u001b[0;34m=\u001b[0m \u001b[0;34m[\u001b[0m\u001b[0mindexer\u001b[0m\u001b[0;34m]\u001b[0m\u001b[0;34m\u001b[0m\u001b[0;34m\u001b[0m\u001b[0m\n",
      "\u001b[0;32m~/.pyenv/versions/3.7.4/envs/projects/lib/python3.7/site-packages/pandas/core/indexes/base.py\u001b[0m in \u001b[0;36mget_loc\u001b[0;34m(self, key, method, tolerance)\u001b[0m\n\u001b[1;32m   2657\u001b[0m                 \u001b[0;32mreturn\u001b[0m \u001b[0mself\u001b[0m\u001b[0;34m.\u001b[0m\u001b[0m_engine\u001b[0m\u001b[0;34m.\u001b[0m\u001b[0mget_loc\u001b[0m\u001b[0;34m(\u001b[0m\u001b[0mkey\u001b[0m\u001b[0;34m)\u001b[0m\u001b[0;34m\u001b[0m\u001b[0;34m\u001b[0m\u001b[0m\n\u001b[1;32m   2658\u001b[0m             \u001b[0;32mexcept\u001b[0m \u001b[0mKeyError\u001b[0m\u001b[0;34m:\u001b[0m\u001b[0;34m\u001b[0m\u001b[0;34m\u001b[0m\u001b[0m\n\u001b[0;32m-> 2659\u001b[0;31m                 \u001b[0;32mreturn\u001b[0m \u001b[0mself\u001b[0m\u001b[0;34m.\u001b[0m\u001b[0m_engine\u001b[0m\u001b[0;34m.\u001b[0m\u001b[0mget_loc\u001b[0m\u001b[0;34m(\u001b[0m\u001b[0mself\u001b[0m\u001b[0;34m.\u001b[0m\u001b[0m_maybe_cast_indexer\u001b[0m\u001b[0;34m(\u001b[0m\u001b[0mkey\u001b[0m\u001b[0;34m)\u001b[0m\u001b[0;34m)\u001b[0m\u001b[0;34m\u001b[0m\u001b[0;34m\u001b[0m\u001b[0m\n\u001b[0m\u001b[1;32m   2660\u001b[0m         \u001b[0mindexer\u001b[0m \u001b[0;34m=\u001b[0m \u001b[0mself\u001b[0m\u001b[0;34m.\u001b[0m\u001b[0mget_indexer\u001b[0m\u001b[0;34m(\u001b[0m\u001b[0;34m[\u001b[0m\u001b[0mkey\u001b[0m\u001b[0;34m]\u001b[0m\u001b[0;34m,\u001b[0m \u001b[0mmethod\u001b[0m\u001b[0;34m=\u001b[0m\u001b[0mmethod\u001b[0m\u001b[0;34m,\u001b[0m \u001b[0mtolerance\u001b[0m\u001b[0;34m=\u001b[0m\u001b[0mtolerance\u001b[0m\u001b[0;34m)\u001b[0m\u001b[0;34m\u001b[0m\u001b[0;34m\u001b[0m\u001b[0m\n\u001b[1;32m   2661\u001b[0m         \u001b[0;32mif\u001b[0m \u001b[0mindexer\u001b[0m\u001b[0;34m.\u001b[0m\u001b[0mndim\u001b[0m \u001b[0;34m>\u001b[0m \u001b[0;36m1\u001b[0m \u001b[0;32mor\u001b[0m \u001b[0mindexer\u001b[0m\u001b[0;34m.\u001b[0m\u001b[0msize\u001b[0m \u001b[0;34m>\u001b[0m \u001b[0;36m1\u001b[0m\u001b[0;34m:\u001b[0m\u001b[0;34m\u001b[0m\u001b[0;34m\u001b[0m\u001b[0m\n",
      "\u001b[0;32mpandas/_libs/index.pyx\u001b[0m in \u001b[0;36mpandas._libs.index.IndexEngine.get_loc\u001b[0;34m()\u001b[0m\n",
      "\u001b[0;32mpandas/_libs/index.pyx\u001b[0m in \u001b[0;36mpandas._libs.index.IndexEngine.get_loc\u001b[0;34m()\u001b[0m\n",
      "\u001b[0;32mpandas/_libs/hashtable_class_helper.pxi\u001b[0m in \u001b[0;36mpandas._libs.hashtable.PyObjectHashTable.get_item\u001b[0;34m()\u001b[0m\n",
      "\u001b[0;32mpandas/_libs/hashtable_class_helper.pxi\u001b[0m in \u001b[0;36mpandas._libs.hashtable.PyObjectHashTable.get_item\u001b[0;34m()\u001b[0m\n",
      "\u001b[0;31mKeyError\u001b[0m: ('cd_proposta', 'cd_situacao')"
     ]
    }
   ],
   "source": [
    "df_pro['cd_proposta', 'cd_situacao']"
   ]
  },
  {
   "cell_type": "markdown",
   "metadata": {},
   "source": [
    "O `KeyError` acontece e era esperado que ocorresse porque ao fazermos `df_pro['cd_proposta', 'cd_situacao']` estamos passando uma tupla como chave indexadora e o que pandas faz é procurar por uma coluna que tenha tal tupla como chave, que sabemos que não existe. Quando queremos visualizar mais de uma coluna de um DataFrame devemos fazer:"
   ]
  },
  {
   "cell_type": "code",
   "execution_count": 31,
   "metadata": {},
   "outputs": [
    {
     "data": {
      "text/html": [
       "<div>\n",
       "<style scoped>\n",
       "    .dataframe tbody tr th:only-of-type {\n",
       "        vertical-align: middle;\n",
       "    }\n",
       "\n",
       "    .dataframe tbody tr th {\n",
       "        vertical-align: top;\n",
       "    }\n",
       "\n",
       "    .dataframe thead th {\n",
       "        text-align: right;\n",
       "    }\n",
       "</style>\n",
       "<table border=\"1\" class=\"dataframe\">\n",
       "  <thead>\n",
       "    <tr style=\"text-align: right;\">\n",
       "      <th></th>\n",
       "      <th>cd_proposta</th>\n",
       "      <th>cd_situacao</th>\n",
       "    </tr>\n",
       "  </thead>\n",
       "  <tbody>\n",
       "    <tr>\n",
       "      <th>0</th>\n",
       "      <td>3262198</td>\n",
       "      <td>3</td>\n",
       "    </tr>\n",
       "    <tr>\n",
       "      <th>1</th>\n",
       "      <td>3276543</td>\n",
       "      <td>17</td>\n",
       "    </tr>\n",
       "    <tr>\n",
       "      <th>2</th>\n",
       "      <td>2987697</td>\n",
       "      <td>17</td>\n",
       "    </tr>\n",
       "    <tr>\n",
       "      <th>3</th>\n",
       "      <td>3276564</td>\n",
       "      <td>3</td>\n",
       "    </tr>\n",
       "    <tr>\n",
       "      <th>4</th>\n",
       "      <td>3276577</td>\n",
       "      <td>17</td>\n",
       "    </tr>\n",
       "  </tbody>\n",
       "</table>\n",
       "</div>"
      ],
      "text/plain": [
       "   cd_proposta  cd_situacao\n",
       "0      3262198            3\n",
       "1      3276543           17\n",
       "2      2987697           17\n",
       "3      3276564            3\n",
       "4      3276577           17"
      ]
     },
     "execution_count": 31,
     "metadata": {},
     "output_type": "execute_result"
    }
   ],
   "source": [
    "df_pro[['cd_proposta', 'cd_situacao']].head()"
   ]
  },
  {
   "cell_type": "markdown",
   "metadata": {},
   "source": [
    "Ao passarmos as colunas desejadas dentro de uma lista o pandas consegue compreender que queremos visualizar um conjunto de colunas/séries. No entanto, devemos ter consciência de que o DataFrame retornado por essa operação é uma `view`/cópia do original. "
   ]
  },
  {
   "cell_type": "markdown",
   "metadata": {},
   "source": [
    "## 4 Métodos de indexação, seleção e alteração de dados "
   ]
  },
  {
   "cell_type": "markdown",
   "metadata": {},
   "source": [
    "No pandas temos essencialmente, dois métodos de indexação/seleção o `.loc` e o `.iloc`. Enquanto `.loc` a seleção é baseados nos rótulos (nomes das colunas), o `.iloc` é baseado na posição do registro no DataFrame."
   ]
  },
  {
   "cell_type": "markdown",
   "metadata": {},
   "source": [
    "### `.loc`"
   ]
  },
  {
   "cell_type": "code",
   "execution_count": 32,
   "metadata": {},
   "outputs": [
    {
     "data": {
      "text/plain": [
       "0    3262198\n",
       "1    3276543\n",
       "2    2987697\n",
       "3    3276564\n",
       "4    3276577\n",
       "Name: cd_proposta, dtype: int64"
      ]
     },
     "execution_count": 32,
     "metadata": {},
     "output_type": "execute_result"
    }
   ],
   "source": [
    "df_pro.loc[:, 'cd_proposta'].head()"
   ]
  },
  {
   "cell_type": "markdown",
   "metadata": {},
   "source": [
    "O primeiro parametro dentro do `.loc` diz respeito aos filtros a serem realizados, já o segundo as colunas que queremos visualizar. No exemplo acima não aplicamos filtros algum e estamos visualizando a coluna `cd_proposta`, se adicionarmos a coluna `cd_situacao` (dentro de uma lista), teremos a mesma visualização apresentada no item anterior. A única diferença é que neste caso não teremos uma cópia do DataFrame."
   ]
  },
  {
   "cell_type": "markdown",
   "metadata": {},
   "source": [
    "O uso do `.loc` explicitamente faz mais sentido quando vamos alterar os valores no DataFrame. Como por exemplo."
   ]
  },
  {
   "cell_type": "code",
   "execution_count": 35,
   "metadata": {},
   "outputs": [
    {
     "data": {
      "text/plain": [
       "0    NaN\n",
       "3    NaN\n",
       "5    NaN\n",
       "10   NaN\n",
       "11   NaN\n",
       "Name: limite_aprovado, dtype: float64"
      ]
     },
     "execution_count": 35,
     "metadata": {},
     "output_type": "execute_result"
    }
   ],
   "source": [
    "df_pro.loc[df_pro['cd_situacao']==3, 'limite_aprovado'].head()"
   ]
  },
  {
   "cell_type": "code",
   "execution_count": 36,
   "metadata": {},
   "outputs": [],
   "source": [
    "df_pro.loc[df_pro['cd_situacao']==3, 'limite_aprovado'] = 0"
   ]
  },
  {
   "cell_type": "code",
   "execution_count": 37,
   "metadata": {},
   "outputs": [
    {
     "data": {
      "text/plain": [
       "0     0.0\n",
       "3     0.0\n",
       "5     0.0\n",
       "10    0.0\n",
       "11    0.0\n",
       "Name: limite_aprovado, dtype: float64"
      ]
     },
     "execution_count": 37,
     "metadata": {},
     "output_type": "execute_result"
    }
   ],
   "source": [
    "df_pro.loc[df_pro['cd_situacao']==3, 'limite_aprovado'].head()"
   ]
  },
  {
   "cell_type": "markdown",
   "metadata": {},
   "source": [
    "Como podemos ver alteramos os valores de `limite_aprovado` para 0 quando o `cd_situacao` é 3. O mesmo não seria possível se utilizássemos a versão mais limpa de seleção baseada nos rótulos equivalentes."
   ]
  },
  {
   "cell_type": "code",
   "execution_count": 38,
   "metadata": {},
   "outputs": [
    {
     "name": "stderr",
     "output_type": "stream",
     "text": [
      "/home/jpcoelho/.pyenv/versions/3.7.4/envs/projects/lib/python3.7/site-packages/ipykernel_launcher.py:1: SettingWithCopyWarning: \n",
      "A value is trying to be set on a copy of a slice from a DataFrame.\n",
      "Try using .loc[row_indexer,col_indexer] = value instead\n",
      "\n",
      "See the caveats in the documentation: http://pandas.pydata.org/pandas-docs/stable/indexing.html#indexing-view-versus-copy\n",
      "  \"\"\"Entry point for launching an IPython kernel.\n"
     ]
    }
   ],
   "source": [
    "df_pro[(df_pro['cd_situacao']==3)]['limite_aprovado'] = 1"
   ]
  },
  {
   "cell_type": "code",
   "execution_count": 39,
   "metadata": {},
   "outputs": [
    {
     "data": {
      "text/plain": [
       "0     0.0\n",
       "3     0.0\n",
       "5     0.0\n",
       "10    0.0\n",
       "11    0.0\n",
       "Name: limite_aprovado, dtype: float64"
      ]
     },
     "execution_count": 39,
     "metadata": {},
     "output_type": "execute_result"
    }
   ],
   "source": [
    "df_pro[(df_pro['cd_situacao']==3)]['limite_aprovado'].head()"
   ]
  },
  {
   "cell_type": "markdown",
   "metadata": {},
   "source": [
    "Como esperávamos não foi possível, realizar as alterações desejadas porque tentamos alterar valores de uma cópia do DataFrame."
   ]
  },
  {
   "cell_type": "markdown",
   "metadata": {},
   "source": [
    "### `.iloc`"
   ]
  },
  {
   "cell_type": "markdown",
   "metadata": {},
   "source": [
    "O `.iloc` permite que acessemos os valores de forma iterativa numericamente."
   ]
  },
  {
   "cell_type": "code",
   "execution_count": 40,
   "metadata": {},
   "outputs": [
    {
     "data": {
      "text/plain": [
       "cd_proposta                                        3262198\n",
       "cd_situacao                                              3\n",
       "proposta_finalizada                                      1\n",
       "ds_endereco_uf                                          SP\n",
       "ds_tipo_documento                                       RG\n",
       "ds_escolaridade                             Médio Completo\n",
       "faixa_escolaridade                       2. Médio Completo\n",
       "nr_dia_vencimento                                       15\n",
       "ds_sexo                                                  F\n",
       "reprovado_suspeita_fraude_mesa                           0\n",
       "fra_pos_mesa                                             0\n",
       "rendapresumidatu                                       NaN\n",
       "faixa_renda_presumida             06. Outros, < 400 & Null\n",
       "decilcurtoprazo                                        NaN\n",
       "decillongoprazo                                        NaN\n",
       "dt_fila_espera                         2018-12-27 17:16:20\n",
       "horario_decisao_motorcredito           2019-01-01 00:24:05\n",
       "limite_aprovado                                          0\n",
       "coc_dt_abertura_conta_cartao                           NaN\n",
       "Name: 0, dtype: object"
      ]
     },
     "execution_count": 40,
     "metadata": {},
     "output_type": "execute_result"
    }
   ],
   "source": [
    "df_pro.iloc[0] # Selecionando todos os valores associados ao primeiro registro do DataFrame"
   ]
  },
  {
   "cell_type": "code",
   "execution_count": 42,
   "metadata": {},
   "outputs": [
    {
     "data": {
      "text/plain": [
       "0        3262198\n",
       "1        3276543\n",
       "2        2987697\n",
       "3        3276564\n",
       "4        3276577\n",
       "5        3276594\n",
       "6        2854263\n",
       "7        3276601\n",
       "9        3276615\n",
       "10       3276668\n",
       "11       3072930\n",
       "12       3276695\n",
       "13       3276714\n",
       "14       3276766\n",
       "15       3276800\n",
       "16       3276823\n",
       "17       3276859\n",
       "18       3276849\n",
       "19       3008964\n",
       "20       3276908\n",
       "21       3272689\n",
       "22       3276942\n",
       "23       1955437\n",
       "24       3265431\n",
       "25       3276962\n",
       "26       3277005\n",
       "27       3277041\n",
       "28       3275975\n",
       "29       3277080\n",
       "30       3277082\n",
       "          ...   \n",
       "49970    3332164\n",
       "49971    3332479\n",
       "49972    3332528\n",
       "49973    3332505\n",
       "49974    3332557\n",
       "49975    3332552\n",
       "49976    3331824\n",
       "49977    3332564\n",
       "49978    3332576\n",
       "49979    3332604\n",
       "49980    3332504\n",
       "49981    3332635\n",
       "49982    3327470\n",
       "49983    3332631\n",
       "49984    3332634\n",
       "49985    3332687\n",
       "49986    3332700\n",
       "49987    3332722\n",
       "49988    3332772\n",
       "49989    3332637\n",
       "49990    3332656\n",
       "49991    3332799\n",
       "49992    3332841\n",
       "49993    3332860\n",
       "49994    3326469\n",
       "49995    3334867\n",
       "49996    3334886\n",
       "49997     672404\n",
       "49998    3334768\n",
       "49999    3334908\n",
       "Name: cd_proposta, Length: 49999, dtype: int64"
      ]
     },
     "execution_count": 42,
     "metadata": {},
     "output_type": "execute_result"
    }
   ],
   "source": [
    "df_pro.iloc[:,0] # Selecionando todos as registros da primeira coluna do DataFrame"
   ]
  },
  {
   "cell_type": "markdown",
   "metadata": {},
   "source": [
    "## 5 Criando novas colunas com `.apply()`"
   ]
  },
  {
   "cell_type": "markdown",
   "metadata": {},
   "source": [
    "Para exemplificar como utilizamos o `.apply` iremos criar colunas de região usando os dados presentes em `ds_endereco_uf`"
   ]
  },
  {
   "cell_type": "code",
   "execution_count": 43,
   "metadata": {},
   "outputs": [],
   "source": [
    "def apply_regions(st, nr_dasa, cep, ):\n",
    "    if st in ['SP', 'RJ', 'MG', 'ES']:\n",
    "        return 'SUDESTE'\n",
    "    elif st in ['SC', 'RS', 'PR']:\n",
    "        return 'SUL'\n",
    "    elif st in ['AC', 'AP', 'AM', 'PA', 'RR', 'RO', 'TO']:\n",
    "        return 'NORTE'\n",
    "    elif st in ['AL', 'BA', 'CE', 'MA', 'PB', 'PE', 'PI', 'RN', 'SE']:\n",
    "        return 'NORDESTE'\n",
    "    elif st in ['MT', 'MS', 'GO', 'DF']:\n",
    "        return 'CENTRO-OESTE'"
   ]
  },
  {
   "cell_type": "code",
   "execution_count": 44,
   "metadata": {},
   "outputs": [],
   "source": [
    "df_pro.loc[:,'regiao'] = df_pro[['ds_endereco_uf'].apply(apply_regions)"
   ]
  },
  {
   "cell_type": "markdown",
   "metadata": {},
   "source": [
    "Que é equivalente a:"
   ]
  },
  {
   "cell_type": "code",
   "execution_count": 47,
   "metadata": {},
   "outputs": [],
   "source": [
    "df_pro.loc[:, 'regiao2'] = df_pro.apply(lambda x: apply_regions(x['ds_endereco_uf']), axis=1)"
   ]
  },
  {
   "cell_type": "markdown",
   "metadata": {},
   "source": [
    "Quando utilizamos o `.apply`, iremos realizar alguma operação sobre todo o DataFrame selecionado. No caso a operação em questão é um agrupamento em regiões à partir dos estados, com a função `apply_regions`. A diferença de ambas implementações consiste que na primeira estamos passando uma `Serie` para uma função com um único argumento, que o pandas é capaz de fazer o \"casamento\" entre as variáveis. Já na segunda implemntação ao utilizarmos `lambda` que está sendo definido como um registro completo do DataFrame (uma linha), temos que explicitar qual das colunas devemos passar para a função `apply_regions`, bem como em qual eixo devemos fazer a operação."
   ]
  },
  {
   "cell_type": "markdown",
   "metadata": {},
   "source": [
    "# 6 Groupby"
   ]
  },
  {
   "cell_type": "markdown",
   "metadata": {},
   "source": [
    "Com o auxílio do `groupby` vamos checar se de fatos ambos implementaçãoes de regiões são equivalentes."
   ]
  },
  {
   "cell_type": "code",
   "execution_count": 45,
   "metadata": {},
   "outputs": [
    {
     "data": {
      "text/plain": [
       "regiao\n",
       "CENTRO-OESTE     3000\n",
       "NORDESTE        23705\n",
       "NORTE            1939\n",
       "SUDESTE         17877\n",
       "SUL              3478\n",
       "dtype: int64"
      ]
     },
     "execution_count": 45,
     "metadata": {},
     "output_type": "execute_result"
    }
   ],
   "source": [
    "df_pro.groupby(by=['regiao']).size()"
   ]
  },
  {
   "cell_type": "code",
   "execution_count": 48,
   "metadata": {},
   "outputs": [
    {
     "data": {
      "text/plain": [
       "regiao2\n",
       "CENTRO-OESTE     3000\n",
       "NORDESTE        23705\n",
       "NORTE            1939\n",
       "SUDESTE         17877\n",
       "SUL              3478\n",
       "dtype: int64"
      ]
     },
     "execution_count": 48,
     "metadata": {},
     "output_type": "execute_result"
    }
   ],
   "source": [
    "df_pro.groupby(by=['regiao2']).size()"
   ]
  },
  {
   "cell_type": "markdown",
   "metadata": {},
   "source": [
    "Como era de se esperar ambas implementações obtiveram o mesmo resultado."
   ]
  },
  {
   "cell_type": "code",
   "execution_count": 49,
   "metadata": {},
   "outputs": [
    {
     "data": {
      "text/plain": [
       "regiao\n",
       "CENTRO-OESTE     548600.0\n",
       "NORDESTE        4858200.0\n",
       "NORTE            282800.0\n",
       "SUDESTE         2108000.0\n",
       "SUL              656500.0\n",
       "Name: limite_aprovado, dtype: float64"
      ]
     },
     "execution_count": 49,
     "metadata": {},
     "output_type": "execute_result"
    }
   ],
   "source": [
    "df_pro.groupby(by=['regiao'])['limite_aprovado'].sum()"
   ]
  },
  {
   "cell_type": "code",
   "execution_count": 53,
   "metadata": {},
   "outputs": [
    {
     "data": {
      "text/plain": [
       "dt_fila_espera\n",
       "2017-05        7\n",
       "2017-06        5\n",
       "2017-07        9\n",
       "2017-08       55\n",
       "2017-09       73\n",
       "2017-10       56\n",
       "2017-11      122\n",
       "2017-12       40\n",
       "2018-01       44\n",
       "2018-02       80\n",
       "2018-03      109\n",
       "2018-04      140\n",
       "2018-05       92\n",
       "2018-06      160\n",
       "2018-07      267\n",
       "2018-08      231\n",
       "2018-09      238\n",
       "2018-10      359\n",
       "2018-11      549\n",
       "2018-12     1951\n",
       "2019-01    45412\n",
       "Freq: M, dtype: int64"
      ]
     },
     "execution_count": 53,
     "metadata": {},
     "output_type": "execute_result"
    }
   ],
   "source": [
    "df_pro.groupby(df_pro['dt_fila_espera'].dt.to_period('M')).size()"
   ]
  },
  {
   "cell_type": "markdown",
   "metadata": {},
   "source": [
    "# 7 Merge"
   ]
  },
  {
   "cell_type": "markdown",
   "metadata": {},
   "source": [
    "O `merge` de pandas são equivalentes aos `joins` de `sql`. Iremos ler um novo DataFrame para depois fazer um `inner join` e um `left join`.\n",
    "Ref: https://pandas.pydata.org/pandas-docs/stable/user_guide/merging.html"
   ]
  },
  {
   "cell_type": "code",
   "execution_count": 54,
   "metadata": {},
   "outputs": [],
   "source": [
    "df_jur = pd.read_csv('jur_data.csv', sep='|')"
   ]
  },
  {
   "cell_type": "code",
   "execution_count": 55,
   "metadata": {},
   "outputs": [
    {
     "data": {
      "text/html": [
       "<div>\n",
       "<style scoped>\n",
       "    .dataframe tbody tr th:only-of-type {\n",
       "        vertical-align: middle;\n",
       "    }\n",
       "\n",
       "    .dataframe tbody tr th {\n",
       "        vertical-align: top;\n",
       "    }\n",
       "\n",
       "    .dataframe thead th {\n",
       "        text-align: right;\n",
       "    }\n",
       "</style>\n",
       "<table border=\"1\" class=\"dataframe\">\n",
       "  <thead>\n",
       "    <tr style=\"text-align: right;\">\n",
       "      <th></th>\n",
       "      <th>pro_cd_proposta</th>\n",
       "      <th>valor_causa</th>\n",
       "      <th>valor_envolvido</th>\n",
       "      <th>valor_pago</th>\n",
       "      <th>flag_valor_causa</th>\n",
       "      <th>flag_valor_envolvido</th>\n",
       "      <th>flag_valor_pago</th>\n",
       "    </tr>\n",
       "  </thead>\n",
       "  <tbody>\n",
       "    <tr>\n",
       "      <th>0</th>\n",
       "      <td>739677</td>\n",
       "      <td>13000.00</td>\n",
       "      <td>9500.0</td>\n",
       "      <td>0.00</td>\n",
       "      <td>1</td>\n",
       "      <td>1</td>\n",
       "      <td>0</td>\n",
       "    </tr>\n",
       "    <tr>\n",
       "      <th>1</th>\n",
       "      <td>483627</td>\n",
       "      <td>39920.00</td>\n",
       "      <td>5000.0</td>\n",
       "      <td>6185.06</td>\n",
       "      <td>1</td>\n",
       "      <td>1</td>\n",
       "      <td>1</td>\n",
       "    </tr>\n",
       "    <tr>\n",
       "      <th>2</th>\n",
       "      <td>1528755</td>\n",
       "      <td>21270.97</td>\n",
       "      <td>5000.0</td>\n",
       "      <td>0.00</td>\n",
       "      <td>1</td>\n",
       "      <td>1</td>\n",
       "      <td>0</td>\n",
       "    </tr>\n",
       "    <tr>\n",
       "      <th>3</th>\n",
       "      <td>2075716</td>\n",
       "      <td>10000.00</td>\n",
       "      <td>9000.0</td>\n",
       "      <td>0.00</td>\n",
       "      <td>1</td>\n",
       "      <td>1</td>\n",
       "      <td>0</td>\n",
       "    </tr>\n",
       "    <tr>\n",
       "      <th>4</th>\n",
       "      <td>3496103</td>\n",
       "      <td>0.00</td>\n",
       "      <td>0.0</td>\n",
       "      <td>0.00</td>\n",
       "      <td>0</td>\n",
       "      <td>0</td>\n",
       "      <td>0</td>\n",
       "    </tr>\n",
       "  </tbody>\n",
       "</table>\n",
       "</div>"
      ],
      "text/plain": [
       "   pro_cd_proposta  valor_causa  valor_envolvido  valor_pago  \\\n",
       "0           739677     13000.00           9500.0        0.00   \n",
       "1           483627     39920.00           5000.0     6185.06   \n",
       "2          1528755     21270.97           5000.0        0.00   \n",
       "3          2075716     10000.00           9000.0        0.00   \n",
       "4          3496103         0.00              0.0        0.00   \n",
       "\n",
       "   flag_valor_causa  flag_valor_envolvido  flag_valor_pago  \n",
       "0                 1                     1                0  \n",
       "1                 1                     1                1  \n",
       "2                 1                     1                0  \n",
       "3                 1                     1                0  \n",
       "4                 0                     0                0  "
      ]
     },
     "execution_count": 55,
     "metadata": {},
     "output_type": "execute_result"
    }
   ],
   "source": [
    "df_jur.head()"
   ]
  },
  {
   "cell_type": "code",
   "execution_count": 56,
   "metadata": {},
   "outputs": [
    {
     "data": {
      "text/plain": [
       "(196, 7)"
      ]
     },
     "execution_count": 56,
     "metadata": {},
     "output_type": "execute_result"
    }
   ],
   "source": [
    "df_jur.shape"
   ]
  },
  {
   "cell_type": "markdown",
   "metadata": {},
   "source": [
    "Quando comparamos o `df_jur` com o `df_pro` vemos que a chave de ligação será `pro_cd_proposta` e `cd_proposta` respectivamente."
   ]
  },
  {
   "cell_type": "code",
   "execution_count": 57,
   "metadata": {},
   "outputs": [
    {
     "data": {
      "text/html": [
       "<div>\n",
       "<style scoped>\n",
       "    .dataframe tbody tr th:only-of-type {\n",
       "        vertical-align: middle;\n",
       "    }\n",
       "\n",
       "    .dataframe tbody tr th {\n",
       "        vertical-align: top;\n",
       "    }\n",
       "\n",
       "    .dataframe thead th {\n",
       "        text-align: right;\n",
       "    }\n",
       "</style>\n",
       "<table border=\"1\" class=\"dataframe\">\n",
       "  <thead>\n",
       "    <tr style=\"text-align: right;\">\n",
       "      <th></th>\n",
       "      <th>cd_proposta</th>\n",
       "      <th>cd_situacao</th>\n",
       "      <th>proposta_finalizada</th>\n",
       "      <th>ds_endereco_uf</th>\n",
       "      <th>ds_tipo_documento</th>\n",
       "      <th>ds_escolaridade</th>\n",
       "      <th>faixa_escolaridade</th>\n",
       "      <th>nr_dia_vencimento</th>\n",
       "      <th>ds_sexo</th>\n",
       "      <th>reprovado_suspeita_fraude_mesa</th>\n",
       "      <th>...</th>\n",
       "      <th>rendapresumidatu</th>\n",
       "      <th>faixa_renda_presumida</th>\n",
       "      <th>decilcurtoprazo</th>\n",
       "      <th>decillongoprazo</th>\n",
       "      <th>dt_fila_espera</th>\n",
       "      <th>horario_decisao_motorcredito</th>\n",
       "      <th>limite_aprovado</th>\n",
       "      <th>coc_dt_abertura_conta_cartao</th>\n",
       "      <th>regiao</th>\n",
       "      <th>regiao2</th>\n",
       "    </tr>\n",
       "  </thead>\n",
       "  <tbody>\n",
       "    <tr>\n",
       "      <th>0</th>\n",
       "      <td>3262198</td>\n",
       "      <td>3</td>\n",
       "      <td>1</td>\n",
       "      <td>SP</td>\n",
       "      <td>RG</td>\n",
       "      <td>Médio Completo</td>\n",
       "      <td>2. Médio Completo</td>\n",
       "      <td>15</td>\n",
       "      <td>F</td>\n",
       "      <td>0</td>\n",
       "      <td>...</td>\n",
       "      <td>NaN</td>\n",
       "      <td>06. Outros, &lt; 400 &amp; Null</td>\n",
       "      <td>NaN</td>\n",
       "      <td>NaN</td>\n",
       "      <td>2018-12-27 17:16:20</td>\n",
       "      <td>2019-01-01 00:24:05</td>\n",
       "      <td>0.0</td>\n",
       "      <td>NaN</td>\n",
       "      <td>SUDESTE</td>\n",
       "      <td>SUDESTE</td>\n",
       "    </tr>\n",
       "    <tr>\n",
       "      <th>1</th>\n",
       "      <td>3276543</td>\n",
       "      <td>17</td>\n",
       "      <td>1</td>\n",
       "      <td>PB</td>\n",
       "      <td>RG</td>\n",
       "      <td>Superior Incompleto</td>\n",
       "      <td>3. &gt; Medio Completo</td>\n",
       "      <td>15</td>\n",
       "      <td>M</td>\n",
       "      <td>0</td>\n",
       "      <td>...</td>\n",
       "      <td>NaN</td>\n",
       "      <td>06. Outros, &lt; 400 &amp; Null</td>\n",
       "      <td>NaN</td>\n",
       "      <td>5.0</td>\n",
       "      <td>2019-01-01 00:25:56</td>\n",
       "      <td>2019-01-01 00:36:25</td>\n",
       "      <td>NaN</td>\n",
       "      <td>NaN</td>\n",
       "      <td>NORDESTE</td>\n",
       "      <td>NORDESTE</td>\n",
       "    </tr>\n",
       "    <tr>\n",
       "      <th>2</th>\n",
       "      <td>2987697</td>\n",
       "      <td>17</td>\n",
       "      <td>1</td>\n",
       "      <td>MG</td>\n",
       "      <td>CNH</td>\n",
       "      <td>Fundamental Incompleto</td>\n",
       "      <td>1. &lt; Medio Completo</td>\n",
       "      <td>20</td>\n",
       "      <td>M</td>\n",
       "      <td>0</td>\n",
       "      <td>...</td>\n",
       "      <td>NaN</td>\n",
       "      <td>06. Outros, &lt; 400 &amp; Null</td>\n",
       "      <td>NaN</td>\n",
       "      <td>NaN</td>\n",
       "      <td>2018-11-11 17:07:23</td>\n",
       "      <td>2019-01-01 01:11:32</td>\n",
       "      <td>NaN</td>\n",
       "      <td>NaN</td>\n",
       "      <td>SUDESTE</td>\n",
       "      <td>SUDESTE</td>\n",
       "    </tr>\n",
       "    <tr>\n",
       "      <th>3</th>\n",
       "      <td>3276564</td>\n",
       "      <td>3</td>\n",
       "      <td>1</td>\n",
       "      <td>CE</td>\n",
       "      <td>CNH</td>\n",
       "      <td>Fundamental Completo</td>\n",
       "      <td>1. &lt; Medio Completo</td>\n",
       "      <td>10</td>\n",
       "      <td>M</td>\n",
       "      <td>0</td>\n",
       "      <td>...</td>\n",
       "      <td>NaN</td>\n",
       "      <td>06. Outros, &lt; 400 &amp; Null</td>\n",
       "      <td>NaN</td>\n",
       "      <td>5.0</td>\n",
       "      <td>2019-01-01 00:57:28</td>\n",
       "      <td>2019-01-01 01:24:27</td>\n",
       "      <td>0.0</td>\n",
       "      <td>NaN</td>\n",
       "      <td>NORDESTE</td>\n",
       "      <td>NORDESTE</td>\n",
       "    </tr>\n",
       "    <tr>\n",
       "      <th>4</th>\n",
       "      <td>3276577</td>\n",
       "      <td>17</td>\n",
       "      <td>1</td>\n",
       "      <td>BA</td>\n",
       "      <td>RG</td>\n",
       "      <td>Fundamental Completo</td>\n",
       "      <td>1. &lt; Medio Completo</td>\n",
       "      <td>25</td>\n",
       "      <td>M</td>\n",
       "      <td>0</td>\n",
       "      <td>...</td>\n",
       "      <td>NaN</td>\n",
       "      <td>06. Outros, &lt; 400 &amp; Null</td>\n",
       "      <td>NaN</td>\n",
       "      <td>NaN</td>\n",
       "      <td>2019-01-01 01:48:56</td>\n",
       "      <td>2019-01-01 02:12:31</td>\n",
       "      <td>NaN</td>\n",
       "      <td>NaN</td>\n",
       "      <td>NORDESTE</td>\n",
       "      <td>NORDESTE</td>\n",
       "    </tr>\n",
       "  </tbody>\n",
       "</table>\n",
       "<p>5 rows × 21 columns</p>\n",
       "</div>"
      ],
      "text/plain": [
       "   cd_proposta  cd_situacao  proposta_finalizada ds_endereco_uf  \\\n",
       "0      3262198            3                    1             SP   \n",
       "1      3276543           17                    1             PB   \n",
       "2      2987697           17                    1             MG   \n",
       "3      3276564            3                    1             CE   \n",
       "4      3276577           17                    1             BA   \n",
       "\n",
       "  ds_tipo_documento         ds_escolaridade   faixa_escolaridade  \\\n",
       "0                RG          Médio Completo    2. Médio Completo   \n",
       "1                RG     Superior Incompleto  3. > Medio Completo   \n",
       "2               CNH  Fundamental Incompleto  1. < Medio Completo   \n",
       "3               CNH    Fundamental Completo  1. < Medio Completo   \n",
       "4                RG    Fundamental Completo  1. < Medio Completo   \n",
       "\n",
       "   nr_dia_vencimento ds_sexo  reprovado_suspeita_fraude_mesa  ...  \\\n",
       "0                 15       F                               0  ...   \n",
       "1                 15       M                               0  ...   \n",
       "2                 20       M                               0  ...   \n",
       "3                 10       M                               0  ...   \n",
       "4                 25       M                               0  ...   \n",
       "\n",
       "   rendapresumidatu     faixa_renda_presumida decilcurtoprazo  \\\n",
       "0               NaN  06. Outros, < 400 & Null             NaN   \n",
       "1               NaN  06. Outros, < 400 & Null             NaN   \n",
       "2               NaN  06. Outros, < 400 & Null             NaN   \n",
       "3               NaN  06. Outros, < 400 & Null             NaN   \n",
       "4               NaN  06. Outros, < 400 & Null             NaN   \n",
       "\n",
       "   decillongoprazo      dt_fila_espera horario_decisao_motorcredito  \\\n",
       "0              NaN 2018-12-27 17:16:20          2019-01-01 00:24:05   \n",
       "1              5.0 2019-01-01 00:25:56          2019-01-01 00:36:25   \n",
       "2              NaN 2018-11-11 17:07:23          2019-01-01 01:11:32   \n",
       "3              5.0 2019-01-01 00:57:28          2019-01-01 01:24:27   \n",
       "4              NaN 2019-01-01 01:48:56          2019-01-01 02:12:31   \n",
       "\n",
       "  limite_aprovado  coc_dt_abertura_conta_cartao    regiao   regiao2  \n",
       "0             0.0                           NaN   SUDESTE   SUDESTE  \n",
       "1             NaN                           NaN  NORDESTE  NORDESTE  \n",
       "2             NaN                           NaN   SUDESTE   SUDESTE  \n",
       "3             0.0                           NaN  NORDESTE  NORDESTE  \n",
       "4             NaN                           NaN  NORDESTE  NORDESTE  \n",
       "\n",
       "[5 rows x 21 columns]"
      ]
     },
     "execution_count": 57,
     "metadata": {},
     "output_type": "execute_result"
    }
   ],
   "source": [
    "df_pro.head()"
   ]
  },
  {
   "cell_type": "markdown",
   "metadata": {},
   "source": [
    "Primieramente realizando o `inner join`"
   ]
  },
  {
   "cell_type": "code",
   "execution_count": 58,
   "metadata": {},
   "outputs": [],
   "source": [
    "df_inner = df_jur.merge(df_pro, how='inner', left_on='pro_cd_proposta', right_on='cd_proposta')"
   ]
  },
  {
   "cell_type": "code",
   "execution_count": 59,
   "metadata": {},
   "outputs": [
    {
     "data": {
      "text/html": [
       "<div>\n",
       "<style scoped>\n",
       "    .dataframe tbody tr th:only-of-type {\n",
       "        vertical-align: middle;\n",
       "    }\n",
       "\n",
       "    .dataframe tbody tr th {\n",
       "        vertical-align: top;\n",
       "    }\n",
       "\n",
       "    .dataframe thead th {\n",
       "        text-align: right;\n",
       "    }\n",
       "</style>\n",
       "<table border=\"1\" class=\"dataframe\">\n",
       "  <thead>\n",
       "    <tr style=\"text-align: right;\">\n",
       "      <th></th>\n",
       "      <th>pro_cd_proposta</th>\n",
       "      <th>valor_causa</th>\n",
       "      <th>valor_envolvido</th>\n",
       "      <th>valor_pago</th>\n",
       "      <th>flag_valor_causa</th>\n",
       "      <th>flag_valor_envolvido</th>\n",
       "      <th>flag_valor_pago</th>\n",
       "      <th>cd_proposta</th>\n",
       "      <th>cd_situacao</th>\n",
       "      <th>proposta_finalizada</th>\n",
       "      <th>...</th>\n",
       "      <th>rendapresumidatu</th>\n",
       "      <th>faixa_renda_presumida</th>\n",
       "      <th>decilcurtoprazo</th>\n",
       "      <th>decillongoprazo</th>\n",
       "      <th>dt_fila_espera</th>\n",
       "      <th>horario_decisao_motorcredito</th>\n",
       "      <th>limite_aprovado</th>\n",
       "      <th>coc_dt_abertura_conta_cartao</th>\n",
       "      <th>regiao</th>\n",
       "      <th>regiao2</th>\n",
       "    </tr>\n",
       "  </thead>\n",
       "  <tbody>\n",
       "    <tr>\n",
       "      <th>0</th>\n",
       "      <td>3323083</td>\n",
       "      <td>19960.0</td>\n",
       "      <td>3000.0</td>\n",
       "      <td>3000.0</td>\n",
       "      <td>1</td>\n",
       "      <td>1</td>\n",
       "      <td>1</td>\n",
       "      <td>3323083</td>\n",
       "      <td>2</td>\n",
       "      <td>1</td>\n",
       "      <td>...</td>\n",
       "      <td>9000.0</td>\n",
       "      <td>05. (2000.0, 30000.0]</td>\n",
       "      <td>8.0</td>\n",
       "      <td>17.0</td>\n",
       "      <td>2019-01-08 19:34:54</td>\n",
       "      <td>2019-01-08 22:07:43</td>\n",
       "      <td>2500.0</td>\n",
       "      <td>2019-01-11 10:24:22</td>\n",
       "      <td>NORDESTE</td>\n",
       "      <td>NORDESTE</td>\n",
       "    </tr>\n",
       "    <tr>\n",
       "      <th>1</th>\n",
       "      <td>3303023</td>\n",
       "      <td>39920.0</td>\n",
       "      <td>0.0</td>\n",
       "      <td>0.0</td>\n",
       "      <td>1</td>\n",
       "      <td>0</td>\n",
       "      <td>0</td>\n",
       "      <td>3303023</td>\n",
       "      <td>2</td>\n",
       "      <td>1</td>\n",
       "      <td>...</td>\n",
       "      <td>8500.0</td>\n",
       "      <td>05. (2000.0, 30000.0]</td>\n",
       "      <td>8.0</td>\n",
       "      <td>11.0</td>\n",
       "      <td>2019-01-06 17:00:06</td>\n",
       "      <td>2019-01-07 09:32:57</td>\n",
       "      <td>1500.0</td>\n",
       "      <td>2019-01-16 15:45:00</td>\n",
       "      <td>SUDESTE</td>\n",
       "      <td>SUDESTE</td>\n",
       "    </tr>\n",
       "    <tr>\n",
       "      <th>2</th>\n",
       "      <td>3323003</td>\n",
       "      <td>6000.0</td>\n",
       "      <td>0.0</td>\n",
       "      <td>0.0</td>\n",
       "      <td>1</td>\n",
       "      <td>0</td>\n",
       "      <td>0</td>\n",
       "      <td>3323003</td>\n",
       "      <td>2</td>\n",
       "      <td>1</td>\n",
       "      <td>...</td>\n",
       "      <td>400.0</td>\n",
       "      <td>01. (399.99, 800.0]</td>\n",
       "      <td>6.0</td>\n",
       "      <td>8.0</td>\n",
       "      <td>2019-01-06 19:30:27</td>\n",
       "      <td>2019-01-08 21:58:24</td>\n",
       "      <td>500.0</td>\n",
       "      <td>2019-01-22 14:30:07</td>\n",
       "      <td>NORDESTE</td>\n",
       "      <td>NORDESTE</td>\n",
       "    </tr>\n",
       "  </tbody>\n",
       "</table>\n",
       "<p>3 rows × 28 columns</p>\n",
       "</div>"
      ],
      "text/plain": [
       "   pro_cd_proposta  valor_causa  valor_envolvido  valor_pago  \\\n",
       "0          3323083      19960.0           3000.0      3000.0   \n",
       "1          3303023      39920.0              0.0         0.0   \n",
       "2          3323003       6000.0              0.0         0.0   \n",
       "\n",
       "   flag_valor_causa  flag_valor_envolvido  flag_valor_pago  cd_proposta  \\\n",
       "0                 1                     1                1      3323083   \n",
       "1                 1                     0                0      3303023   \n",
       "2                 1                     0                0      3323003   \n",
       "\n",
       "   cd_situacao  proposta_finalizada  ... rendapresumidatu  \\\n",
       "0            2                    1  ...           9000.0   \n",
       "1            2                    1  ...           8500.0   \n",
       "2            2                    1  ...            400.0   \n",
       "\n",
       "   faixa_renda_presumida decilcurtoprazo decillongoprazo      dt_fila_espera  \\\n",
       "0  05. (2000.0, 30000.0]             8.0            17.0 2019-01-08 19:34:54   \n",
       "1  05. (2000.0, 30000.0]             8.0            11.0 2019-01-06 17:00:06   \n",
       "2    01. (399.99, 800.0]             6.0             8.0 2019-01-06 19:30:27   \n",
       "\n",
       "  horario_decisao_motorcredito  limite_aprovado  coc_dt_abertura_conta_cartao  \\\n",
       "0          2019-01-08 22:07:43           2500.0           2019-01-11 10:24:22   \n",
       "1          2019-01-07 09:32:57           1500.0           2019-01-16 15:45:00   \n",
       "2          2019-01-08 21:58:24            500.0           2019-01-22 14:30:07   \n",
       "\n",
       "     regiao   regiao2  \n",
       "0  NORDESTE  NORDESTE  \n",
       "1   SUDESTE   SUDESTE  \n",
       "2  NORDESTE  NORDESTE  \n",
       "\n",
       "[3 rows x 28 columns]"
      ]
     },
     "execution_count": 59,
     "metadata": {},
     "output_type": "execute_result"
    }
   ],
   "source": [
    "df_inner"
   ]
  },
  {
   "cell_type": "markdown",
   "metadata": {},
   "source": [
    "Apenas três registros estão em ambas as bases"
   ]
  },
  {
   "cell_type": "markdown",
   "metadata": {},
   "source": [
    "Realizando o `left_join`"
   ]
  },
  {
   "cell_type": "code",
   "execution_count": 60,
   "metadata": {},
   "outputs": [],
   "source": [
    "df_left = df_jur.merge(df_pro, how='left', left_on='pro_cd_proposta', right_on='cd_proposta', copy=False)"
   ]
  },
  {
   "cell_type": "code",
   "execution_count": 61,
   "metadata": {},
   "outputs": [
    {
     "data": {
      "text/plain": [
       "(196, 28)"
      ]
     },
     "execution_count": 61,
     "metadata": {},
     "output_type": "execute_result"
    }
   ],
   "source": [
    "df_left.shape"
   ]
  },
  {
   "cell_type": "code",
   "execution_count": 80,
   "metadata": {},
   "outputs": [
    {
     "data": {
      "text/html": [
       "<div>\n",
       "<style scoped>\n",
       "    .dataframe tbody tr th:only-of-type {\n",
       "        vertical-align: middle;\n",
       "    }\n",
       "\n",
       "    .dataframe tbody tr th {\n",
       "        vertical-align: top;\n",
       "    }\n",
       "\n",
       "    .dataframe thead th {\n",
       "        text-align: right;\n",
       "    }\n",
       "</style>\n",
       "<table border=\"1\" class=\"dataframe\">\n",
       "  <thead>\n",
       "    <tr style=\"text-align: right;\">\n",
       "      <th></th>\n",
       "      <th>pro_cd_proposta</th>\n",
       "      <th>valor_causa</th>\n",
       "      <th>valor_envolvido</th>\n",
       "      <th>valor_pago</th>\n",
       "      <th>flag_valor_causa</th>\n",
       "      <th>flag_valor_envolvido</th>\n",
       "      <th>flag_valor_pago</th>\n",
       "      <th>cd_proposta</th>\n",
       "      <th>cd_situacao</th>\n",
       "      <th>proposta_finalizada</th>\n",
       "      <th>ds_endereco_uf</th>\n",
       "      <th>ds_tipo_documento</th>\n",
       "      <th>ds_escolaridade</th>\n",
       "      <th>faixa_escolaridade</th>\n",
       "      <th>nr_dia_vencimento</th>\n",
       "      <th>ds_sexo</th>\n",
       "      <th>reprovado_suspeita_fraude_mesa</th>\n",
       "      <th>fra_pos_mesa</th>\n",
       "      <th>rendapresumidatu</th>\n",
       "      <th>faixa_renda_presumida</th>\n",
       "      <th>decilcurtoprazo</th>\n",
       "      <th>decillongoprazo</th>\n",
       "      <th>dt_fila_espera</th>\n",
       "      <th>horario_decisao_motorcredito</th>\n",
       "      <th>limite_aprovado</th>\n",
       "      <th>coc_dt_abertura_conta_cartao</th>\n",
       "      <th>regiao</th>\n",
       "      <th>regiao2</th>\n",
       "    </tr>\n",
       "  </thead>\n",
       "  <tbody>\n",
       "    <tr>\n",
       "      <th>0</th>\n",
       "      <td>739677</td>\n",
       "      <td>13000.00</td>\n",
       "      <td>9500.0</td>\n",
       "      <td>0.00</td>\n",
       "      <td>1</td>\n",
       "      <td>1</td>\n",
       "      <td>0</td>\n",
       "      <td>NaN</td>\n",
       "      <td>NaN</td>\n",
       "      <td>NaN</td>\n",
       "      <td>NaN</td>\n",
       "      <td>NaN</td>\n",
       "      <td>NaN</td>\n",
       "      <td>NaN</td>\n",
       "      <td>NaN</td>\n",
       "      <td>NaN</td>\n",
       "      <td>NaN</td>\n",
       "      <td>NaN</td>\n",
       "      <td>NaN</td>\n",
       "      <td>NaN</td>\n",
       "      <td>NaN</td>\n",
       "      <td>NaN</td>\n",
       "      <td>NaT</td>\n",
       "      <td>NaT</td>\n",
       "      <td>NaN</td>\n",
       "      <td>NaN</td>\n",
       "      <td>NaN</td>\n",
       "      <td>NaN</td>\n",
       "    </tr>\n",
       "    <tr>\n",
       "      <th>1</th>\n",
       "      <td>483627</td>\n",
       "      <td>39920.00</td>\n",
       "      <td>5000.0</td>\n",
       "      <td>6185.06</td>\n",
       "      <td>1</td>\n",
       "      <td>1</td>\n",
       "      <td>1</td>\n",
       "      <td>NaN</td>\n",
       "      <td>NaN</td>\n",
       "      <td>NaN</td>\n",
       "      <td>NaN</td>\n",
       "      <td>NaN</td>\n",
       "      <td>NaN</td>\n",
       "      <td>NaN</td>\n",
       "      <td>NaN</td>\n",
       "      <td>NaN</td>\n",
       "      <td>NaN</td>\n",
       "      <td>NaN</td>\n",
       "      <td>NaN</td>\n",
       "      <td>NaN</td>\n",
       "      <td>NaN</td>\n",
       "      <td>NaN</td>\n",
       "      <td>NaT</td>\n",
       "      <td>NaT</td>\n",
       "      <td>NaN</td>\n",
       "      <td>NaN</td>\n",
       "      <td>NaN</td>\n",
       "      <td>NaN</td>\n",
       "    </tr>\n",
       "    <tr>\n",
       "      <th>2</th>\n",
       "      <td>1528755</td>\n",
       "      <td>21270.97</td>\n",
       "      <td>5000.0</td>\n",
       "      <td>0.00</td>\n",
       "      <td>1</td>\n",
       "      <td>1</td>\n",
       "      <td>0</td>\n",
       "      <td>NaN</td>\n",
       "      <td>NaN</td>\n",
       "      <td>NaN</td>\n",
       "      <td>NaN</td>\n",
       "      <td>NaN</td>\n",
       "      <td>NaN</td>\n",
       "      <td>NaN</td>\n",
       "      <td>NaN</td>\n",
       "      <td>NaN</td>\n",
       "      <td>NaN</td>\n",
       "      <td>NaN</td>\n",
       "      <td>NaN</td>\n",
       "      <td>NaN</td>\n",
       "      <td>NaN</td>\n",
       "      <td>NaN</td>\n",
       "      <td>NaT</td>\n",
       "      <td>NaT</td>\n",
       "      <td>NaN</td>\n",
       "      <td>NaN</td>\n",
       "      <td>NaN</td>\n",
       "      <td>NaN</td>\n",
       "    </tr>\n",
       "    <tr>\n",
       "      <th>3</th>\n",
       "      <td>2075716</td>\n",
       "      <td>10000.00</td>\n",
       "      <td>9000.0</td>\n",
       "      <td>0.00</td>\n",
       "      <td>1</td>\n",
       "      <td>1</td>\n",
       "      <td>0</td>\n",
       "      <td>NaN</td>\n",
       "      <td>NaN</td>\n",
       "      <td>NaN</td>\n",
       "      <td>NaN</td>\n",
       "      <td>NaN</td>\n",
       "      <td>NaN</td>\n",
       "      <td>NaN</td>\n",
       "      <td>NaN</td>\n",
       "      <td>NaN</td>\n",
       "      <td>NaN</td>\n",
       "      <td>NaN</td>\n",
       "      <td>NaN</td>\n",
       "      <td>NaN</td>\n",
       "      <td>NaN</td>\n",
       "      <td>NaN</td>\n",
       "      <td>NaT</td>\n",
       "      <td>NaT</td>\n",
       "      <td>NaN</td>\n",
       "      <td>NaN</td>\n",
       "      <td>NaN</td>\n",
       "      <td>NaN</td>\n",
       "    </tr>\n",
       "    <tr>\n",
       "      <th>4</th>\n",
       "      <td>3496103</td>\n",
       "      <td>0.00</td>\n",
       "      <td>0.0</td>\n",
       "      <td>0.00</td>\n",
       "      <td>0</td>\n",
       "      <td>0</td>\n",
       "      <td>0</td>\n",
       "      <td>NaN</td>\n",
       "      <td>NaN</td>\n",
       "      <td>NaN</td>\n",
       "      <td>NaN</td>\n",
       "      <td>NaN</td>\n",
       "      <td>NaN</td>\n",
       "      <td>NaN</td>\n",
       "      <td>NaN</td>\n",
       "      <td>NaN</td>\n",
       "      <td>NaN</td>\n",
       "      <td>NaN</td>\n",
       "      <td>NaN</td>\n",
       "      <td>NaN</td>\n",
       "      <td>NaN</td>\n",
       "      <td>NaN</td>\n",
       "      <td>NaT</td>\n",
       "      <td>NaT</td>\n",
       "      <td>NaN</td>\n",
       "      <td>NaN</td>\n",
       "      <td>NaN</td>\n",
       "      <td>NaN</td>\n",
       "    </tr>\n",
       "  </tbody>\n",
       "</table>\n",
       "</div>"
      ],
      "text/plain": [
       "   pro_cd_proposta  valor_causa  valor_envolvido  valor_pago  \\\n",
       "0           739677     13000.00           9500.0        0.00   \n",
       "1           483627     39920.00           5000.0     6185.06   \n",
       "2          1528755     21270.97           5000.0        0.00   \n",
       "3          2075716     10000.00           9000.0        0.00   \n",
       "4          3496103         0.00              0.0        0.00   \n",
       "\n",
       "   flag_valor_causa  flag_valor_envolvido  flag_valor_pago  cd_proposta  \\\n",
       "0                 1                     1                0          NaN   \n",
       "1                 1                     1                1          NaN   \n",
       "2                 1                     1                0          NaN   \n",
       "3                 1                     1                0          NaN   \n",
       "4                 0                     0                0          NaN   \n",
       "\n",
       "   cd_situacao  proposta_finalizada ds_endereco_uf ds_tipo_documento  \\\n",
       "0          NaN                  NaN            NaN               NaN   \n",
       "1          NaN                  NaN            NaN               NaN   \n",
       "2          NaN                  NaN            NaN               NaN   \n",
       "3          NaN                  NaN            NaN               NaN   \n",
       "4          NaN                  NaN            NaN               NaN   \n",
       "\n",
       "  ds_escolaridade faixa_escolaridade  nr_dia_vencimento ds_sexo  \\\n",
       "0             NaN                NaN                NaN     NaN   \n",
       "1             NaN                NaN                NaN     NaN   \n",
       "2             NaN                NaN                NaN     NaN   \n",
       "3             NaN                NaN                NaN     NaN   \n",
       "4             NaN                NaN                NaN     NaN   \n",
       "\n",
       "   reprovado_suspeita_fraude_mesa  fra_pos_mesa  rendapresumidatu  \\\n",
       "0                             NaN           NaN               NaN   \n",
       "1                             NaN           NaN               NaN   \n",
       "2                             NaN           NaN               NaN   \n",
       "3                             NaN           NaN               NaN   \n",
       "4                             NaN           NaN               NaN   \n",
       "\n",
       "  faixa_renda_presumida  decilcurtoprazo  decillongoprazo dt_fila_espera  \\\n",
       "0                   NaN              NaN              NaN            NaT   \n",
       "1                   NaN              NaN              NaN            NaT   \n",
       "2                   NaN              NaN              NaN            NaT   \n",
       "3                   NaN              NaN              NaN            NaT   \n",
       "4                   NaN              NaN              NaN            NaT   \n",
       "\n",
       "  horario_decisao_motorcredito  limite_aprovado coc_dt_abertura_conta_cartao  \\\n",
       "0                          NaT              NaN                          NaN   \n",
       "1                          NaT              NaN                          NaN   \n",
       "2                          NaT              NaN                          NaN   \n",
       "3                          NaT              NaN                          NaN   \n",
       "4                          NaT              NaN                          NaN   \n",
       "\n",
       "  regiao regiao2  \n",
       "0    NaN     NaN  \n",
       "1    NaN     NaN  \n",
       "2    NaN     NaN  \n",
       "3    NaN     NaN  \n",
       "4    NaN     NaN  "
      ]
     },
     "execution_count": 80,
     "metadata": {},
     "output_type": "execute_result"
    }
   ],
   "source": [
    "df_left.head()"
   ]
  },
  {
   "cell_type": "markdown",
   "metadata": {},
   "source": [
    "Para visualizar todas as colunas"
   ]
  },
  {
   "cell_type": "code",
   "execution_count": 83,
   "metadata": {},
   "outputs": [],
   "source": [
    "pd.set_option('display.max_columns', None)"
   ]
  },
  {
   "cell_type": "code",
   "execution_count": 84,
   "metadata": {},
   "outputs": [
    {
     "data": {
      "text/html": [
       "<div>\n",
       "<style scoped>\n",
       "    .dataframe tbody tr th:only-of-type {\n",
       "        vertical-align: middle;\n",
       "    }\n",
       "\n",
       "    .dataframe tbody tr th {\n",
       "        vertical-align: top;\n",
       "    }\n",
       "\n",
       "    .dataframe thead th {\n",
       "        text-align: right;\n",
       "    }\n",
       "</style>\n",
       "<table border=\"1\" class=\"dataframe\">\n",
       "  <thead>\n",
       "    <tr style=\"text-align: right;\">\n",
       "      <th></th>\n",
       "      <th>pro_cd_proposta</th>\n",
       "      <th>valor_causa</th>\n",
       "      <th>valor_envolvido</th>\n",
       "      <th>valor_pago</th>\n",
       "      <th>flag_valor_causa</th>\n",
       "      <th>flag_valor_envolvido</th>\n",
       "      <th>flag_valor_pago</th>\n",
       "      <th>cd_proposta</th>\n",
       "      <th>cd_situacao</th>\n",
       "      <th>proposta_finalizada</th>\n",
       "      <th>ds_endereco_uf</th>\n",
       "      <th>ds_tipo_documento</th>\n",
       "      <th>ds_escolaridade</th>\n",
       "      <th>faixa_escolaridade</th>\n",
       "      <th>nr_dia_vencimento</th>\n",
       "      <th>ds_sexo</th>\n",
       "      <th>reprovado_suspeita_fraude_mesa</th>\n",
       "      <th>fra_pos_mesa</th>\n",
       "      <th>rendapresumidatu</th>\n",
       "      <th>faixa_renda_presumida</th>\n",
       "      <th>decilcurtoprazo</th>\n",
       "      <th>decillongoprazo</th>\n",
       "      <th>dt_fila_espera</th>\n",
       "      <th>horario_decisao_motorcredito</th>\n",
       "      <th>limite_aprovado</th>\n",
       "      <th>coc_dt_abertura_conta_cartao</th>\n",
       "      <th>regiao</th>\n",
       "      <th>regiao2</th>\n",
       "    </tr>\n",
       "  </thead>\n",
       "  <tbody>\n",
       "    <tr>\n",
       "      <th>0</th>\n",
       "      <td>739677</td>\n",
       "      <td>13000.00</td>\n",
       "      <td>9500.0</td>\n",
       "      <td>0.00</td>\n",
       "      <td>1</td>\n",
       "      <td>1</td>\n",
       "      <td>0</td>\n",
       "      <td>NaN</td>\n",
       "      <td>NaN</td>\n",
       "      <td>NaN</td>\n",
       "      <td>NaN</td>\n",
       "      <td>NaN</td>\n",
       "      <td>NaN</td>\n",
       "      <td>NaN</td>\n",
       "      <td>NaN</td>\n",
       "      <td>NaN</td>\n",
       "      <td>NaN</td>\n",
       "      <td>NaN</td>\n",
       "      <td>NaN</td>\n",
       "      <td>NaN</td>\n",
       "      <td>NaN</td>\n",
       "      <td>NaN</td>\n",
       "      <td>NaT</td>\n",
       "      <td>NaT</td>\n",
       "      <td>NaN</td>\n",
       "      <td>NaN</td>\n",
       "      <td>NaN</td>\n",
       "      <td>NaN</td>\n",
       "    </tr>\n",
       "    <tr>\n",
       "      <th>1</th>\n",
       "      <td>483627</td>\n",
       "      <td>39920.00</td>\n",
       "      <td>5000.0</td>\n",
       "      <td>6185.06</td>\n",
       "      <td>1</td>\n",
       "      <td>1</td>\n",
       "      <td>1</td>\n",
       "      <td>NaN</td>\n",
       "      <td>NaN</td>\n",
       "      <td>NaN</td>\n",
       "      <td>NaN</td>\n",
       "      <td>NaN</td>\n",
       "      <td>NaN</td>\n",
       "      <td>NaN</td>\n",
       "      <td>NaN</td>\n",
       "      <td>NaN</td>\n",
       "      <td>NaN</td>\n",
       "      <td>NaN</td>\n",
       "      <td>NaN</td>\n",
       "      <td>NaN</td>\n",
       "      <td>NaN</td>\n",
       "      <td>NaN</td>\n",
       "      <td>NaT</td>\n",
       "      <td>NaT</td>\n",
       "      <td>NaN</td>\n",
       "      <td>NaN</td>\n",
       "      <td>NaN</td>\n",
       "      <td>NaN</td>\n",
       "    </tr>\n",
       "    <tr>\n",
       "      <th>2</th>\n",
       "      <td>1528755</td>\n",
       "      <td>21270.97</td>\n",
       "      <td>5000.0</td>\n",
       "      <td>0.00</td>\n",
       "      <td>1</td>\n",
       "      <td>1</td>\n",
       "      <td>0</td>\n",
       "      <td>NaN</td>\n",
       "      <td>NaN</td>\n",
       "      <td>NaN</td>\n",
       "      <td>NaN</td>\n",
       "      <td>NaN</td>\n",
       "      <td>NaN</td>\n",
       "      <td>NaN</td>\n",
       "      <td>NaN</td>\n",
       "      <td>NaN</td>\n",
       "      <td>NaN</td>\n",
       "      <td>NaN</td>\n",
       "      <td>NaN</td>\n",
       "      <td>NaN</td>\n",
       "      <td>NaN</td>\n",
       "      <td>NaN</td>\n",
       "      <td>NaT</td>\n",
       "      <td>NaT</td>\n",
       "      <td>NaN</td>\n",
       "      <td>NaN</td>\n",
       "      <td>NaN</td>\n",
       "      <td>NaN</td>\n",
       "    </tr>\n",
       "    <tr>\n",
       "      <th>3</th>\n",
       "      <td>2075716</td>\n",
       "      <td>10000.00</td>\n",
       "      <td>9000.0</td>\n",
       "      <td>0.00</td>\n",
       "      <td>1</td>\n",
       "      <td>1</td>\n",
       "      <td>0</td>\n",
       "      <td>NaN</td>\n",
       "      <td>NaN</td>\n",
       "      <td>NaN</td>\n",
       "      <td>NaN</td>\n",
       "      <td>NaN</td>\n",
       "      <td>NaN</td>\n",
       "      <td>NaN</td>\n",
       "      <td>NaN</td>\n",
       "      <td>NaN</td>\n",
       "      <td>NaN</td>\n",
       "      <td>NaN</td>\n",
       "      <td>NaN</td>\n",
       "      <td>NaN</td>\n",
       "      <td>NaN</td>\n",
       "      <td>NaN</td>\n",
       "      <td>NaT</td>\n",
       "      <td>NaT</td>\n",
       "      <td>NaN</td>\n",
       "      <td>NaN</td>\n",
       "      <td>NaN</td>\n",
       "      <td>NaN</td>\n",
       "    </tr>\n",
       "    <tr>\n",
       "      <th>4</th>\n",
       "      <td>3496103</td>\n",
       "      <td>0.00</td>\n",
       "      <td>0.0</td>\n",
       "      <td>0.00</td>\n",
       "      <td>0</td>\n",
       "      <td>0</td>\n",
       "      <td>0</td>\n",
       "      <td>NaN</td>\n",
       "      <td>NaN</td>\n",
       "      <td>NaN</td>\n",
       "      <td>NaN</td>\n",
       "      <td>NaN</td>\n",
       "      <td>NaN</td>\n",
       "      <td>NaN</td>\n",
       "      <td>NaN</td>\n",
       "      <td>NaN</td>\n",
       "      <td>NaN</td>\n",
       "      <td>NaN</td>\n",
       "      <td>NaN</td>\n",
       "      <td>NaN</td>\n",
       "      <td>NaN</td>\n",
       "      <td>NaN</td>\n",
       "      <td>NaT</td>\n",
       "      <td>NaT</td>\n",
       "      <td>NaN</td>\n",
       "      <td>NaN</td>\n",
       "      <td>NaN</td>\n",
       "      <td>NaN</td>\n",
       "    </tr>\n",
       "  </tbody>\n",
       "</table>\n",
       "</div>"
      ],
      "text/plain": [
       "   pro_cd_proposta  valor_causa  valor_envolvido  valor_pago  \\\n",
       "0           739677     13000.00           9500.0        0.00   \n",
       "1           483627     39920.00           5000.0     6185.06   \n",
       "2          1528755     21270.97           5000.0        0.00   \n",
       "3          2075716     10000.00           9000.0        0.00   \n",
       "4          3496103         0.00              0.0        0.00   \n",
       "\n",
       "   flag_valor_causa  flag_valor_envolvido  flag_valor_pago  cd_proposta  \\\n",
       "0                 1                     1                0          NaN   \n",
       "1                 1                     1                1          NaN   \n",
       "2                 1                     1                0          NaN   \n",
       "3                 1                     1                0          NaN   \n",
       "4                 0                     0                0          NaN   \n",
       "\n",
       "   cd_situacao  proposta_finalizada ds_endereco_uf ds_tipo_documento  \\\n",
       "0          NaN                  NaN            NaN               NaN   \n",
       "1          NaN                  NaN            NaN               NaN   \n",
       "2          NaN                  NaN            NaN               NaN   \n",
       "3          NaN                  NaN            NaN               NaN   \n",
       "4          NaN                  NaN            NaN               NaN   \n",
       "\n",
       "  ds_escolaridade faixa_escolaridade  nr_dia_vencimento ds_sexo  \\\n",
       "0             NaN                NaN                NaN     NaN   \n",
       "1             NaN                NaN                NaN     NaN   \n",
       "2             NaN                NaN                NaN     NaN   \n",
       "3             NaN                NaN                NaN     NaN   \n",
       "4             NaN                NaN                NaN     NaN   \n",
       "\n",
       "   reprovado_suspeita_fraude_mesa  fra_pos_mesa  rendapresumidatu  \\\n",
       "0                             NaN           NaN               NaN   \n",
       "1                             NaN           NaN               NaN   \n",
       "2                             NaN           NaN               NaN   \n",
       "3                             NaN           NaN               NaN   \n",
       "4                             NaN           NaN               NaN   \n",
       "\n",
       "  faixa_renda_presumida  decilcurtoprazo  decillongoprazo dt_fila_espera  \\\n",
       "0                   NaN              NaN              NaN            NaT   \n",
       "1                   NaN              NaN              NaN            NaT   \n",
       "2                   NaN              NaN              NaN            NaT   \n",
       "3                   NaN              NaN              NaN            NaT   \n",
       "4                   NaN              NaN              NaN            NaT   \n",
       "\n",
       "  horario_decisao_motorcredito  limite_aprovado coc_dt_abertura_conta_cartao  \\\n",
       "0                          NaT              NaN                          NaN   \n",
       "1                          NaT              NaN                          NaN   \n",
       "2                          NaT              NaN                          NaN   \n",
       "3                          NaT              NaN                          NaN   \n",
       "4                          NaT              NaN                          NaN   \n",
       "\n",
       "  regiao regiao2  \n",
       "0    NaN     NaN  \n",
       "1    NaN     NaN  \n",
       "2    NaN     NaN  \n",
       "3    NaN     NaN  \n",
       "4    NaN     NaN  "
      ]
     },
     "execution_count": 84,
     "metadata": {},
     "output_type": "execute_result"
    }
   ],
   "source": [
    "df_left.head()"
   ]
  },
  {
   "cell_type": "markdown",
   "metadata": {},
   "source": [
    "Selecionando os dados com informações em ambas bases novamente:"
   ]
  },
  {
   "cell_type": "code",
   "execution_count": 78,
   "metadata": {},
   "outputs": [
    {
     "data": {
      "text/html": [
       "<div>\n",
       "<style scoped>\n",
       "    .dataframe tbody tr th:only-of-type {\n",
       "        vertical-align: middle;\n",
       "    }\n",
       "\n",
       "    .dataframe tbody tr th {\n",
       "        vertical-align: top;\n",
       "    }\n",
       "\n",
       "    .dataframe thead th {\n",
       "        text-align: right;\n",
       "    }\n",
       "</style>\n",
       "<table border=\"1\" class=\"dataframe\">\n",
       "  <thead>\n",
       "    <tr style=\"text-align: right;\">\n",
       "      <th></th>\n",
       "      <th>pro_cd_proposta</th>\n",
       "      <th>valor_causa</th>\n",
       "      <th>valor_envolvido</th>\n",
       "      <th>valor_pago</th>\n",
       "      <th>flag_valor_causa</th>\n",
       "      <th>flag_valor_envolvido</th>\n",
       "      <th>flag_valor_pago</th>\n",
       "      <th>cd_proposta</th>\n",
       "      <th>cd_situacao</th>\n",
       "      <th>proposta_finalizada</th>\n",
       "      <th>ds_endereco_uf</th>\n",
       "      <th>ds_tipo_documento</th>\n",
       "      <th>ds_escolaridade</th>\n",
       "      <th>faixa_escolaridade</th>\n",
       "      <th>nr_dia_vencimento</th>\n",
       "      <th>ds_sexo</th>\n",
       "      <th>reprovado_suspeita_fraude_mesa</th>\n",
       "      <th>fra_pos_mesa</th>\n",
       "      <th>rendapresumidatu</th>\n",
       "      <th>faixa_renda_presumida</th>\n",
       "      <th>decilcurtoprazo</th>\n",
       "      <th>decillongoprazo</th>\n",
       "      <th>dt_fila_espera</th>\n",
       "      <th>horario_decisao_motorcredito</th>\n",
       "      <th>limite_aprovado</th>\n",
       "      <th>coc_dt_abertura_conta_cartao</th>\n",
       "      <th>regiao</th>\n",
       "      <th>regiao2</th>\n",
       "    </tr>\n",
       "  </thead>\n",
       "  <tbody>\n",
       "    <tr>\n",
       "      <th>12</th>\n",
       "      <td>3323083</td>\n",
       "      <td>19960.0</td>\n",
       "      <td>3000.0</td>\n",
       "      <td>3000.0</td>\n",
       "      <td>1</td>\n",
       "      <td>1</td>\n",
       "      <td>1</td>\n",
       "      <td>3323083.0</td>\n",
       "      <td>2.0</td>\n",
       "      <td>1.0</td>\n",
       "      <td>MA</td>\n",
       "      <td>RG</td>\n",
       "      <td>Fundamental Completo</td>\n",
       "      <td>1. &lt; Medio Completo</td>\n",
       "      <td>25.0</td>\n",
       "      <td>F</td>\n",
       "      <td>0.0</td>\n",
       "      <td>1.0</td>\n",
       "      <td>9000.0</td>\n",
       "      <td>05. (2000.0, 30000.0]</td>\n",
       "      <td>8.0</td>\n",
       "      <td>17.0</td>\n",
       "      <td>2019-01-08 19:34:54</td>\n",
       "      <td>2019-01-08 22:07:43</td>\n",
       "      <td>2500.0</td>\n",
       "      <td>2019-01-11 10:24:22</td>\n",
       "      <td>NORDESTE</td>\n",
       "      <td>NORDESTE</td>\n",
       "    </tr>\n",
       "    <tr>\n",
       "      <th>101</th>\n",
       "      <td>3303023</td>\n",
       "      <td>39920.0</td>\n",
       "      <td>0.0</td>\n",
       "      <td>0.0</td>\n",
       "      <td>1</td>\n",
       "      <td>0</td>\n",
       "      <td>0</td>\n",
       "      <td>3303023.0</td>\n",
       "      <td>2.0</td>\n",
       "      <td>1.0</td>\n",
       "      <td>RJ</td>\n",
       "      <td>RG</td>\n",
       "      <td>Superior Completo</td>\n",
       "      <td>3. &gt; Medio Completo</td>\n",
       "      <td>20.0</td>\n",
       "      <td>M</td>\n",
       "      <td>0.0</td>\n",
       "      <td>1.0</td>\n",
       "      <td>8500.0</td>\n",
       "      <td>05. (2000.0, 30000.0]</td>\n",
       "      <td>8.0</td>\n",
       "      <td>11.0</td>\n",
       "      <td>2019-01-06 17:00:06</td>\n",
       "      <td>2019-01-07 09:32:57</td>\n",
       "      <td>1500.0</td>\n",
       "      <td>2019-01-16 15:45:00</td>\n",
       "      <td>SUDESTE</td>\n",
       "      <td>SUDESTE</td>\n",
       "    </tr>\n",
       "    <tr>\n",
       "      <th>104</th>\n",
       "      <td>3323003</td>\n",
       "      <td>6000.0</td>\n",
       "      <td>0.0</td>\n",
       "      <td>0.0</td>\n",
       "      <td>1</td>\n",
       "      <td>0</td>\n",
       "      <td>0</td>\n",
       "      <td>3323003.0</td>\n",
       "      <td>2.0</td>\n",
       "      <td>1.0</td>\n",
       "      <td>PB</td>\n",
       "      <td>RG</td>\n",
       "      <td>Fundamental Incompleto</td>\n",
       "      <td>1. &lt; Medio Completo</td>\n",
       "      <td>15.0</td>\n",
       "      <td>F</td>\n",
       "      <td>0.0</td>\n",
       "      <td>0.0</td>\n",
       "      <td>400.0</td>\n",
       "      <td>01. (399.99, 800.0]</td>\n",
       "      <td>6.0</td>\n",
       "      <td>8.0</td>\n",
       "      <td>2019-01-06 19:30:27</td>\n",
       "      <td>2019-01-08 21:58:24</td>\n",
       "      <td>500.0</td>\n",
       "      <td>2019-01-22 14:30:07</td>\n",
       "      <td>NORDESTE</td>\n",
       "      <td>NORDESTE</td>\n",
       "    </tr>\n",
       "  </tbody>\n",
       "</table>\n",
       "</div>"
      ],
      "text/plain": [
       "     pro_cd_proposta  valor_causa  valor_envolvido  valor_pago  \\\n",
       "12           3323083      19960.0           3000.0      3000.0   \n",
       "101          3303023      39920.0              0.0         0.0   \n",
       "104          3323003       6000.0              0.0         0.0   \n",
       "\n",
       "     flag_valor_causa  flag_valor_envolvido  flag_valor_pago  cd_proposta  \\\n",
       "12                  1                     1                1    3323083.0   \n",
       "101                 1                     0                0    3303023.0   \n",
       "104                 1                     0                0    3323003.0   \n",
       "\n",
       "     cd_situacao  proposta_finalizada ds_endereco_uf ds_tipo_documento  \\\n",
       "12           2.0                  1.0             MA                RG   \n",
       "101          2.0                  1.0             RJ                RG   \n",
       "104          2.0                  1.0             PB                RG   \n",
       "\n",
       "            ds_escolaridade   faixa_escolaridade  nr_dia_vencimento ds_sexo  \\\n",
       "12     Fundamental Completo  1. < Medio Completo               25.0       F   \n",
       "101       Superior Completo  3. > Medio Completo               20.0       M   \n",
       "104  Fundamental Incompleto  1. < Medio Completo               15.0       F   \n",
       "\n",
       "     reprovado_suspeita_fraude_mesa  fra_pos_mesa  rendapresumidatu  \\\n",
       "12                              0.0           1.0            9000.0   \n",
       "101                             0.0           1.0            8500.0   \n",
       "104                             0.0           0.0             400.0   \n",
       "\n",
       "     faixa_renda_presumida  decilcurtoprazo  decillongoprazo  \\\n",
       "12   05. (2000.0, 30000.0]              8.0             17.0   \n",
       "101  05. (2000.0, 30000.0]              8.0             11.0   \n",
       "104    01. (399.99, 800.0]              6.0              8.0   \n",
       "\n",
       "         dt_fila_espera horario_decisao_motorcredito  limite_aprovado  \\\n",
       "12  2019-01-08 19:34:54          2019-01-08 22:07:43           2500.0   \n",
       "101 2019-01-06 17:00:06          2019-01-07 09:32:57           1500.0   \n",
       "104 2019-01-06 19:30:27          2019-01-08 21:58:24            500.0   \n",
       "\n",
       "    coc_dt_abertura_conta_cartao    regiao   regiao2  \n",
       "12           2019-01-11 10:24:22  NORDESTE  NORDESTE  \n",
       "101          2019-01-16 15:45:00   SUDESTE   SUDESTE  \n",
       "104          2019-01-22 14:30:07  NORDESTE  NORDESTE  "
      ]
     },
     "execution_count": 78,
     "metadata": {},
     "output_type": "execute_result"
    }
   ],
   "source": [
    "df_left[(~df_left['cd_proposta'].isnull())]"
   ]
  },
  {
   "cell_type": "markdown",
   "metadata": {},
   "source": [
    "Colando mais filtro na segmentação:"
   ]
  },
  {
   "cell_type": "code",
   "execution_count": 79,
   "metadata": {},
   "outputs": [
    {
     "data": {
      "text/html": [
       "<div>\n",
       "<style scoped>\n",
       "    .dataframe tbody tr th:only-of-type {\n",
       "        vertical-align: middle;\n",
       "    }\n",
       "\n",
       "    .dataframe tbody tr th {\n",
       "        vertical-align: top;\n",
       "    }\n",
       "\n",
       "    .dataframe thead th {\n",
       "        text-align: right;\n",
       "    }\n",
       "</style>\n",
       "<table border=\"1\" class=\"dataframe\">\n",
       "  <thead>\n",
       "    <tr style=\"text-align: right;\">\n",
       "      <th></th>\n",
       "      <th>pro_cd_proposta</th>\n",
       "      <th>valor_causa</th>\n",
       "      <th>valor_envolvido</th>\n",
       "      <th>valor_pago</th>\n",
       "      <th>flag_valor_causa</th>\n",
       "      <th>flag_valor_envolvido</th>\n",
       "      <th>flag_valor_pago</th>\n",
       "      <th>cd_proposta</th>\n",
       "      <th>cd_situacao</th>\n",
       "      <th>proposta_finalizada</th>\n",
       "      <th>ds_endereco_uf</th>\n",
       "      <th>ds_tipo_documento</th>\n",
       "      <th>ds_escolaridade</th>\n",
       "      <th>faixa_escolaridade</th>\n",
       "      <th>nr_dia_vencimento</th>\n",
       "      <th>ds_sexo</th>\n",
       "      <th>reprovado_suspeita_fraude_mesa</th>\n",
       "      <th>fra_pos_mesa</th>\n",
       "      <th>rendapresumidatu</th>\n",
       "      <th>faixa_renda_presumida</th>\n",
       "      <th>decilcurtoprazo</th>\n",
       "      <th>decillongoprazo</th>\n",
       "      <th>dt_fila_espera</th>\n",
       "      <th>horario_decisao_motorcredito</th>\n",
       "      <th>limite_aprovado</th>\n",
       "      <th>coc_dt_abertura_conta_cartao</th>\n",
       "      <th>regiao</th>\n",
       "      <th>regiao2</th>\n",
       "    </tr>\n",
       "  </thead>\n",
       "  <tbody>\n",
       "    <tr>\n",
       "      <th>12</th>\n",
       "      <td>3323083</td>\n",
       "      <td>19960.0</td>\n",
       "      <td>3000.0</td>\n",
       "      <td>3000.0</td>\n",
       "      <td>1</td>\n",
       "      <td>1</td>\n",
       "      <td>1</td>\n",
       "      <td>3323083.0</td>\n",
       "      <td>2.0</td>\n",
       "      <td>1.0</td>\n",
       "      <td>MA</td>\n",
       "      <td>RG</td>\n",
       "      <td>Fundamental Completo</td>\n",
       "      <td>1. &lt; Medio Completo</td>\n",
       "      <td>25.0</td>\n",
       "      <td>F</td>\n",
       "      <td>0.0</td>\n",
       "      <td>1.0</td>\n",
       "      <td>9000.0</td>\n",
       "      <td>05. (2000.0, 30000.0]</td>\n",
       "      <td>8.0</td>\n",
       "      <td>17.0</td>\n",
       "      <td>2019-01-08 19:34:54</td>\n",
       "      <td>2019-01-08 22:07:43</td>\n",
       "      <td>2500.0</td>\n",
       "      <td>2019-01-11 10:24:22</td>\n",
       "      <td>NORDESTE</td>\n",
       "      <td>NORDESTE</td>\n",
       "    </tr>\n",
       "  </tbody>\n",
       "</table>\n",
       "</div>"
      ],
      "text/plain": [
       "    pro_cd_proposta  valor_causa  valor_envolvido  valor_pago  \\\n",
       "12          3323083      19960.0           3000.0      3000.0   \n",
       "\n",
       "    flag_valor_causa  flag_valor_envolvido  flag_valor_pago  cd_proposta  \\\n",
       "12                 1                     1                1    3323083.0   \n",
       "\n",
       "    cd_situacao  proposta_finalizada ds_endereco_uf ds_tipo_documento  \\\n",
       "12          2.0                  1.0             MA                RG   \n",
       "\n",
       "         ds_escolaridade   faixa_escolaridade  nr_dia_vencimento ds_sexo  \\\n",
       "12  Fundamental Completo  1. < Medio Completo               25.0       F   \n",
       "\n",
       "    reprovado_suspeita_fraude_mesa  fra_pos_mesa  rendapresumidatu  \\\n",
       "12                             0.0           1.0            9000.0   \n",
       "\n",
       "    faixa_renda_presumida  decilcurtoprazo  decillongoprazo  \\\n",
       "12  05. (2000.0, 30000.0]              8.0             17.0   \n",
       "\n",
       "        dt_fila_espera horario_decisao_motorcredito  limite_aprovado  \\\n",
       "12 2019-01-08 19:34:54          2019-01-08 22:07:43           2500.0   \n",
       "\n",
       "   coc_dt_abertura_conta_cartao    regiao   regiao2  \n",
       "12          2019-01-11 10:24:22  NORDESTE  NORDESTE  "
      ]
     },
     "execution_count": 79,
     "metadata": {},
     "output_type": "execute_result"
    }
   ],
   "source": [
    "df_left[(~df_left['cd_proposta'].isnull())\n",
    "       & (df_left['flag_valor_pago']==1)]"
   ]
  },
  {
   "cell_type": "code",
   "execution_count": null,
   "metadata": {},
   "outputs": [],
   "source": []
  }
 ],
 "metadata": {
  "kernelspec": {
   "display_name": "Python 3",
   "language": "python",
   "name": "python3"
  },
  "language_info": {
   "codemirror_mode": {
    "name": "ipython",
    "version": 3
   },
   "file_extension": ".py",
   "mimetype": "text/x-python",
   "name": "python",
   "nbconvert_exporter": "python",
   "pygments_lexer": "ipython3",
   "version": "3.7.4"
  }
 },
 "nbformat": 4,
 "nbformat_minor": 2
}
