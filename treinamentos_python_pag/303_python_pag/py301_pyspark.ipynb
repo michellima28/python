{
 "cells": [
  {
   "cell_type": "markdown",
   "metadata": {},
   "source": [
    "# <b> Python 301 - Análise de dados com PySpark </b>"
   ]
  },
  {
   "cell_type": "markdown",
   "metadata": {},
   "source": [
    "### <b> O que é Spark? </b>\n",
    "\n",
    "Apache Spark™ is a unified analytics engine for large-scale data processing.\n",
    "\n",
    "### <b> Porquê utilizar PySpark? </b>\n",
    "\n",
    "###### *PySpark é a biblioteca Python utilizada para escrever aplicações utilizando Spark. __[pyspark.sql module — PySpark 2.1.0 documentation](https://spark.apache.org/docs/2.1.0/api/python/pyspark.sql.html#)__\n",
    "\n",
    "Se você:\n",
    "\n",
    "1. sabe utilizar Python e Pandas?\n",
    "2. trabalha com DataFrames?\n",
    "3. quer trabalhar com massa de dados gigante?\n",
    "\n",
    "__Então, utilize PySpark!__\n",
    "\n",
    "### <b> Prós e Contras </b>\n",
    "\n",
    "Prós:\n",
    "\n",
    "* trabalhar com Big Data;\n",
    "* SQL nativo na ferramenta;\n",
    "* velocidade de processamento;\n",
    "\n",
    "Contras:\n",
    "\n",
    "* data visualization;\n",
    "* material de pesquisa na web;\n",
    "\n",
    "### <b> PySpark vs Pandas </b>"
   ]
  },
  {
   "cell_type": "markdown",
   "metadata": {},
   "source": [
    "#### <b> Importando bibliotecas </b>"
   ]
  },
  {
   "cell_type": "markdown",
   "metadata": {},
   "source": [
    "pandas e numpy"
   ]
  },
  {
   "cell_type": "code",
   "execution_count": 1,
   "metadata": {},
   "outputs": [],
   "source": [
    "import pandas as pd\n",
    "import numpy as np"
   ]
  },
  {
   "cell_type": "markdown",
   "metadata": {},
   "source": [
    "pyspark\n",
    "###### obs.: da forma como está configurado, não é necessário importar uma biblioteca específica para PySpark, no momento que se inicia no JupyterLab é carregado automaticamente."
   ]
  },
  {
   "cell_type": "code",
   "execution_count": 2,
   "metadata": {},
   "outputs": [],
   "source": [
    "import pyspark.sql.types as t\n",
    "import pyspark.sql.functions as f"
   ]
  },
  {
   "cell_type": "markdown",
   "metadata": {},
   "source": [
    "#### <b> Ler arquivos </b>"
   ]
  },
  {
   "cell_type": "markdown",
   "metadata": {},
   "source": [
    "pandas"
   ]
  },
  {
   "cell_type": "code",
   "execution_count": 3,
   "metadata": {},
   "outputs": [],
   "source": [
    "pandas_file = pd.read_csv('base_dados_py301.csv', delimiter = '|')"
   ]
  },
  {
   "cell_type": "markdown",
   "metadata": {},
   "source": [
    "spark"
   ]
  },
  {
   "cell_type": "code",
   "execution_count": 4,
   "metadata": {},
   "outputs": [],
   "source": [
    "spark_file = spark.read \\\n",
    "                  .option('inferSchema', 'true') \\\n",
    "                  .option('header', 'true') \\\n",
    "                  .option('delimiter', '|') \\\n",
    "                  .csv('base_dados_py301.csv')"
   ]
  },
  {
   "cell_type": "markdown",
   "metadata": {},
   "source": [
    "#### <b> Visualizar DataFrame </b>"
   ]
  },
  {
   "cell_type": "markdown",
   "metadata": {},
   "source": [
    "pandas"
   ]
  },
  {
   "cell_type": "code",
   "execution_count": 5,
   "metadata": {},
   "outputs": [
    {
     "data": {
      "text/html": [
       "<div>\n",
       "<style scoped>\n",
       "    .dataframe tbody tr th:only-of-type {\n",
       "        vertical-align: middle;\n",
       "    }\n",
       "\n",
       "    .dataframe tbody tr th {\n",
       "        vertical-align: top;\n",
       "    }\n",
       "\n",
       "    .dataframe thead th {\n",
       "        text-align: right;\n",
       "    }\n",
       "</style>\n",
       "<table border=\"1\" class=\"dataframe\">\n",
       "  <thead>\n",
       "    <tr style=\"text-align: right;\">\n",
       "      <th></th>\n",
       "      <th>pla_cd_conta_cartao</th>\n",
       "      <th>mes_ref</th>\n",
       "      <th>auf_vl_real</th>\n",
       "      <th>auf_nm_unidade_credenciada</th>\n",
       "      <th>auf_cd_adquirente</th>\n",
       "    </tr>\n",
       "  </thead>\n",
       "  <tbody>\n",
       "    <tr>\n",
       "      <th>0</th>\n",
       "      <td>3718344</td>\n",
       "      <td>2020-01</td>\n",
       "      <td>10.00</td>\n",
       "      <td>BOM PRECO AUTO POSTO   ESPINOSA      BRA</td>\n",
       "      <td>NaN</td>\n",
       "    </tr>\n",
       "    <tr>\n",
       "      <th>1</th>\n",
       "      <td>4266609</td>\n",
       "      <td>2020-01</td>\n",
       "      <td>15.00</td>\n",
       "      <td>RECVIVO     *879815639 SAO PAULO     BRA</td>\n",
       "      <td>39.0</td>\n",
       "    </tr>\n",
       "    <tr>\n",
       "      <th>2</th>\n",
       "      <td>4241912</td>\n",
       "      <td>2019-12</td>\n",
       "      <td>100.01</td>\n",
       "      <td>POSTO PARAKY           DIAS D AVILA  BRA</td>\n",
       "      <td>NaN</td>\n",
       "    </tr>\n",
       "    <tr>\n",
       "      <th>3</th>\n",
       "      <td>3586037</td>\n",
       "      <td>2019-12</td>\n",
       "      <td>34.00</td>\n",
       "      <td>MERCADOPAGO *LANCHONE  OSASCO        BRA</td>\n",
       "      <td>NaN</td>\n",
       "    </tr>\n",
       "    <tr>\n",
       "      <th>4</th>\n",
       "      <td>43883520</td>\n",
       "      <td>2019-12</td>\n",
       "      <td>31.82</td>\n",
       "      <td>LUIZ CARLOS PEREIRA DE PIRIPIRI      BRA</td>\n",
       "      <td>20.0</td>\n",
       "    </tr>\n",
       "  </tbody>\n",
       "</table>\n",
       "</div>"
      ],
      "text/plain": [
       "   pla_cd_conta_cartao  mes_ref  auf_vl_real  \\\n",
       "0              3718344  2020-01        10.00   \n",
       "1              4266609  2020-01        15.00   \n",
       "2              4241912  2019-12       100.01   \n",
       "3              3586037  2019-12        34.00   \n",
       "4             43883520  2019-12        31.82   \n",
       "\n",
       "                 auf_nm_unidade_credenciada  auf_cd_adquirente  \n",
       "0  BOM PRECO AUTO POSTO   ESPINOSA      BRA                NaN  \n",
       "1  RECVIVO     *879815639 SAO PAULO     BRA               39.0  \n",
       "2  POSTO PARAKY           DIAS D AVILA  BRA                NaN  \n",
       "3  MERCADOPAGO *LANCHONE  OSASCO        BRA                NaN  \n",
       "4  LUIZ CARLOS PEREIRA DE PIRIPIRI      BRA               20.0  "
      ]
     },
     "execution_count": 5,
     "metadata": {},
     "output_type": "execute_result"
    }
   ],
   "source": [
    "pandas_file.head(5)"
   ]
  },
  {
   "cell_type": "markdown",
   "metadata": {},
   "source": [
    "spark"
   ]
  },
  {
   "cell_type": "code",
   "execution_count": 6,
   "metadata": {},
   "outputs": [
    {
     "name": "stdout",
     "output_type": "stream",
     "text": [
      "+-------------------+-------+-----------+--------------------------+-----------------+\n",
      "|pla_cd_conta_cartao|mes_ref|auf_vl_real|auf_nm_unidade_credenciada|auf_cd_adquirente|\n",
      "+-------------------+-------+-----------+--------------------------+-----------------+\n",
      "|            3718344|2020-01|       10.0|      BOM PRECO AUTO PO...|             null|\n",
      "|            4266609|2020-01|       15.0|      RECVIVO     *8798...|               39|\n",
      "|            4241912|2019-12|     100.01|      POSTO PARAKY     ...|             null|\n",
      "|            3586037|2019-12|       34.0|      MERCADOPAGO *LANC...|             null|\n",
      "|           43883520|2019-12|      31.82|      LUIZ CARLOS PEREI...|               20|\n",
      "+-------------------+-------+-----------+--------------------------+-----------------+\n",
      "only showing top 5 rows\n",
      "\n"
     ]
    }
   ],
   "source": [
    "spark_file.show(5)"
   ]
  },
  {
   "cell_type": "markdown",
   "metadata": {},
   "source": [
    "#### <b> Visualizar Colunas e Tipo de Dado </b>"
   ]
  },
  {
   "cell_type": "markdown",
   "metadata": {},
   "source": [
    "pandas"
   ]
  },
  {
   "cell_type": "code",
   "execution_count": 7,
   "metadata": {},
   "outputs": [
    {
     "data": {
      "text/plain": [
       "Index(['pla_cd_conta_cartao', 'mes_ref', 'auf_vl_real',\n",
       "       'auf_nm_unidade_credenciada', 'auf_cd_adquirente'],\n",
       "      dtype='object')"
      ]
     },
     "execution_count": 7,
     "metadata": {},
     "output_type": "execute_result"
    }
   ],
   "source": [
    "pandas_file.columns"
   ]
  },
  {
   "cell_type": "code",
   "execution_count": 8,
   "metadata": {},
   "outputs": [
    {
     "data": {
      "text/plain": [
       "pla_cd_conta_cartao             int64\n",
       "mes_ref                        object\n",
       "auf_vl_real                   float64\n",
       "auf_nm_unidade_credenciada     object\n",
       "auf_cd_adquirente             float64\n",
       "dtype: object"
      ]
     },
     "execution_count": 8,
     "metadata": {},
     "output_type": "execute_result"
    }
   ],
   "source": [
    "pandas_file.dtypes"
   ]
  },
  {
   "cell_type": "markdown",
   "metadata": {},
   "source": [
    "spark"
   ]
  },
  {
   "cell_type": "code",
   "execution_count": 9,
   "metadata": {},
   "outputs": [
    {
     "data": {
      "text/plain": [
       "['pla_cd_conta_cartao',\n",
       " 'mes_ref',\n",
       " 'auf_vl_real',\n",
       " 'auf_nm_unidade_credenciada',\n",
       " 'auf_cd_adquirente']"
      ]
     },
     "execution_count": 9,
     "metadata": {},
     "output_type": "execute_result"
    }
   ],
   "source": [
    "spark_file.columns"
   ]
  },
  {
   "cell_type": "code",
   "execution_count": 10,
   "metadata": {},
   "outputs": [
    {
     "data": {
      "text/plain": [
       "[('pla_cd_conta_cartao', 'int'),\n",
       " ('mes_ref', 'string'),\n",
       " ('auf_vl_real', 'double'),\n",
       " ('auf_nm_unidade_credenciada', 'string'),\n",
       " ('auf_cd_adquirente', 'int')]"
      ]
     },
     "execution_count": 10,
     "metadata": {},
     "output_type": "execute_result"
    }
   ],
   "source": [
    "spark_file.dtypes"
   ]
  },
  {
   "cell_type": "markdown",
   "metadata": {},
   "source": [
    "#### <b> Renomear colunas </b>"
   ]
  },
  {
   "cell_type": "markdown",
   "metadata": {},
   "source": [
    "pandas"
   ]
  },
  {
   "cell_type": "code",
   "execution_count": 11,
   "metadata": {},
   "outputs": [
    {
     "data": {
      "text/html": [
       "<div>\n",
       "<style scoped>\n",
       "    .dataframe tbody tr th:only-of-type {\n",
       "        vertical-align: middle;\n",
       "    }\n",
       "\n",
       "    .dataframe tbody tr th {\n",
       "        vertical-align: top;\n",
       "    }\n",
       "\n",
       "    .dataframe thead th {\n",
       "        text-align: right;\n",
       "    }\n",
       "</style>\n",
       "<table border=\"1\" class=\"dataframe\">\n",
       "  <thead>\n",
       "    <tr style=\"text-align: right;\">\n",
       "      <th></th>\n",
       "      <th>cd_conta_cartao</th>\n",
       "      <th>mes_ref</th>\n",
       "      <th>valor_autorizacao</th>\n",
       "      <th>unidade_credenciada</th>\n",
       "      <th>adquirente</th>\n",
       "    </tr>\n",
       "  </thead>\n",
       "  <tbody>\n",
       "    <tr>\n",
       "      <th>0</th>\n",
       "      <td>3718344</td>\n",
       "      <td>2020-01</td>\n",
       "      <td>10.00</td>\n",
       "      <td>BOM PRECO AUTO POSTO   ESPINOSA      BRA</td>\n",
       "      <td>NaN</td>\n",
       "    </tr>\n",
       "    <tr>\n",
       "      <th>1</th>\n",
       "      <td>4266609</td>\n",
       "      <td>2020-01</td>\n",
       "      <td>15.00</td>\n",
       "      <td>RECVIVO     *879815639 SAO PAULO     BRA</td>\n",
       "      <td>39.0</td>\n",
       "    </tr>\n",
       "    <tr>\n",
       "      <th>2</th>\n",
       "      <td>4241912</td>\n",
       "      <td>2019-12</td>\n",
       "      <td>100.01</td>\n",
       "      <td>POSTO PARAKY           DIAS D AVILA  BRA</td>\n",
       "      <td>NaN</td>\n",
       "    </tr>\n",
       "    <tr>\n",
       "      <th>3</th>\n",
       "      <td>3586037</td>\n",
       "      <td>2019-12</td>\n",
       "      <td>34.00</td>\n",
       "      <td>MERCADOPAGO *LANCHONE  OSASCO        BRA</td>\n",
       "      <td>NaN</td>\n",
       "    </tr>\n",
       "    <tr>\n",
       "      <th>4</th>\n",
       "      <td>43883520</td>\n",
       "      <td>2019-12</td>\n",
       "      <td>31.82</td>\n",
       "      <td>LUIZ CARLOS PEREIRA DE PIRIPIRI      BRA</td>\n",
       "      <td>20.0</td>\n",
       "    </tr>\n",
       "  </tbody>\n",
       "</table>\n",
       "</div>"
      ],
      "text/plain": [
       "   cd_conta_cartao  mes_ref  valor_autorizacao  \\\n",
       "0          3718344  2020-01              10.00   \n",
       "1          4266609  2020-01              15.00   \n",
       "2          4241912  2019-12             100.01   \n",
       "3          3586037  2019-12              34.00   \n",
       "4         43883520  2019-12              31.82   \n",
       "\n",
       "                        unidade_credenciada  adquirente  \n",
       "0  BOM PRECO AUTO POSTO   ESPINOSA      BRA         NaN  \n",
       "1  RECVIVO     *879815639 SAO PAULO     BRA        39.0  \n",
       "2  POSTO PARAKY           DIAS D AVILA  BRA         NaN  \n",
       "3  MERCADOPAGO *LANCHONE  OSASCO        BRA         NaN  \n",
       "4  LUIZ CARLOS PEREIRA DE PIRIPIRI      BRA        20.0  "
      ]
     },
     "execution_count": 11,
     "metadata": {},
     "output_type": "execute_result"
    }
   ],
   "source": [
    "pandas_file.columns = ['cd_conta_cartao', 'mes_ref', 'valor_autorizacao', 'unidade_credenciada', 'adquirente']\n",
    "pandas_file.head(5)"
   ]
  },
  {
   "cell_type": "code",
   "execution_count": 12,
   "metadata": {},
   "outputs": [
    {
     "data": {
      "text/html": [
       "<div>\n",
       "<style scoped>\n",
       "    .dataframe tbody tr th:only-of-type {\n",
       "        vertical-align: middle;\n",
       "    }\n",
       "\n",
       "    .dataframe tbody tr th {\n",
       "        vertical-align: top;\n",
       "    }\n",
       "\n",
       "    .dataframe thead th {\n",
       "        text-align: right;\n",
       "    }\n",
       "</style>\n",
       "<table border=\"1\" class=\"dataframe\">\n",
       "  <thead>\n",
       "    <tr style=\"text-align: right;\">\n",
       "      <th></th>\n",
       "      <th>pla_cd_conta_cartao</th>\n",
       "      <th>mes_ref</th>\n",
       "      <th>auf_vl_real</th>\n",
       "      <th>auf_nm_unidade_credenciada</th>\n",
       "      <th>auf_cd_adquirente</th>\n",
       "    </tr>\n",
       "  </thead>\n",
       "  <tbody>\n",
       "    <tr>\n",
       "      <th>0</th>\n",
       "      <td>3718344</td>\n",
       "      <td>2020-01</td>\n",
       "      <td>10.0</td>\n",
       "      <td>BOM PRECO AUTO POSTO   ESPINOSA      BRA</td>\n",
       "      <td>NaN</td>\n",
       "    </tr>\n",
       "  </tbody>\n",
       "</table>\n",
       "</div>"
      ],
      "text/plain": [
       "   pla_cd_conta_cartao  mes_ref  auf_vl_real  \\\n",
       "0              3718344  2020-01         10.0   \n",
       "\n",
       "                 auf_nm_unidade_credenciada  auf_cd_adquirente  \n",
       "0  BOM PRECO AUTO POSTO   ESPINOSA      BRA                NaN  "
      ]
     },
     "execution_count": 12,
     "metadata": {},
     "output_type": "execute_result"
    }
   ],
   "source": [
    "pandas_file = pd.read_csv('base_dados_py301.csv', delimiter = '|')\n",
    "pandas_file.head(1)"
   ]
  },
  {
   "cell_type": "code",
   "execution_count": 13,
   "metadata": {},
   "outputs": [
    {
     "data": {
      "text/html": [
       "<div>\n",
       "<style scoped>\n",
       "    .dataframe tbody tr th:only-of-type {\n",
       "        vertical-align: middle;\n",
       "    }\n",
       "\n",
       "    .dataframe tbody tr th {\n",
       "        vertical-align: top;\n",
       "    }\n",
       "\n",
       "    .dataframe thead th {\n",
       "        text-align: right;\n",
       "    }\n",
       "</style>\n",
       "<table border=\"1\" class=\"dataframe\">\n",
       "  <thead>\n",
       "    <tr style=\"text-align: right;\">\n",
       "      <th></th>\n",
       "      <th>cd_conta_cartao</th>\n",
       "      <th>mes_ref</th>\n",
       "      <th>valor_autorizacao</th>\n",
       "      <th>unidade_credenciada</th>\n",
       "      <th>adquirente</th>\n",
       "    </tr>\n",
       "  </thead>\n",
       "  <tbody>\n",
       "    <tr>\n",
       "      <th>0</th>\n",
       "      <td>3718344</td>\n",
       "      <td>2020-01</td>\n",
       "      <td>10.00</td>\n",
       "      <td>BOM PRECO AUTO POSTO   ESPINOSA      BRA</td>\n",
       "      <td>NaN</td>\n",
       "    </tr>\n",
       "    <tr>\n",
       "      <th>1</th>\n",
       "      <td>4266609</td>\n",
       "      <td>2020-01</td>\n",
       "      <td>15.00</td>\n",
       "      <td>RECVIVO     *879815639 SAO PAULO     BRA</td>\n",
       "      <td>39.0</td>\n",
       "    </tr>\n",
       "    <tr>\n",
       "      <th>2</th>\n",
       "      <td>4241912</td>\n",
       "      <td>2019-12</td>\n",
       "      <td>100.01</td>\n",
       "      <td>POSTO PARAKY           DIAS D AVILA  BRA</td>\n",
       "      <td>NaN</td>\n",
       "    </tr>\n",
       "    <tr>\n",
       "      <th>3</th>\n",
       "      <td>3586037</td>\n",
       "      <td>2019-12</td>\n",
       "      <td>34.00</td>\n",
       "      <td>MERCADOPAGO *LANCHONE  OSASCO        BRA</td>\n",
       "      <td>NaN</td>\n",
       "    </tr>\n",
       "    <tr>\n",
       "      <th>4</th>\n",
       "      <td>43883520</td>\n",
       "      <td>2019-12</td>\n",
       "      <td>31.82</td>\n",
       "      <td>LUIZ CARLOS PEREIRA DE PIRIPIRI      BRA</td>\n",
       "      <td>20.0</td>\n",
       "    </tr>\n",
       "  </tbody>\n",
       "</table>\n",
       "</div>"
      ],
      "text/plain": [
       "   cd_conta_cartao  mes_ref  valor_autorizacao  \\\n",
       "0          3718344  2020-01              10.00   \n",
       "1          4266609  2020-01              15.00   \n",
       "2          4241912  2019-12             100.01   \n",
       "3          3586037  2019-12              34.00   \n",
       "4         43883520  2019-12              31.82   \n",
       "\n",
       "                        unidade_credenciada  adquirente  \n",
       "0  BOM PRECO AUTO POSTO   ESPINOSA      BRA         NaN  \n",
       "1  RECVIVO     *879815639 SAO PAULO     BRA        39.0  \n",
       "2  POSTO PARAKY           DIAS D AVILA  BRA         NaN  \n",
       "3  MERCADOPAGO *LANCHONE  OSASCO        BRA         NaN  \n",
       "4  LUIZ CARLOS PEREIRA DE PIRIPIRI      BRA        20.0  "
      ]
     },
     "execution_count": 13,
     "metadata": {},
     "output_type": "execute_result"
    }
   ],
   "source": [
    "pandas_file.rename(columns = {'pla_cd_conta_cartao': 'cd_conta_cartao',\n",
    "                              'auf_vl_real': 'valor_autorizacao',\n",
    "                              'auf_nm_unidade_credenciada': 'unidade_credenciada',\n",
    "                              'auf_cd_adquirente': 'adquirente'}, inplace = True)\n",
    "pandas_file.head(5)"
   ]
  },
  {
   "cell_type": "markdown",
   "metadata": {},
   "source": [
    "spark"
   ]
  },
  {
   "cell_type": "code",
   "execution_count": 14,
   "metadata": {},
   "outputs": [
    {
     "name": "stdout",
     "output_type": "stream",
     "text": [
      "+---------------+-------+-----------------+--------------------+----------+\n",
      "|cd_conta_cartao|mes_ref|valor_autorizacao| unidade_credenciada|adquirente|\n",
      "+---------------+-------+-----------------+--------------------+----------+\n",
      "|        3718344|2020-01|             10.0|BOM PRECO AUTO PO...|      null|\n",
      "|        4266609|2020-01|             15.0|RECVIVO     *8798...|        39|\n",
      "|        4241912|2019-12|           100.01|POSTO PARAKY     ...|      null|\n",
      "|        3586037|2019-12|             34.0|MERCADOPAGO *LANC...|      null|\n",
      "|       43883520|2019-12|            31.82|LUIZ CARLOS PEREI...|        20|\n",
      "+---------------+-------+-----------------+--------------------+----------+\n",
      "only showing top 5 rows\n",
      "\n"
     ]
    }
   ],
   "source": [
    "spark_file_renamed = spark_file.toDF('cd_conta_cartao', 'mes_ref', 'valor_autorizacao', 'unidade_credenciada', 'adquirente')\n",
    "spark_file_renamed.show(5)"
   ]
  },
  {
   "cell_type": "code",
   "execution_count": 15,
   "metadata": {},
   "outputs": [
    {
     "name": "stdout",
     "output_type": "stream",
     "text": [
      "+---------------+-------+-----------------+--------------------+----------+\n",
      "|cd_conta_cartao|mes_ref|valor_autorizacao| unidade_credenciada|adquirente|\n",
      "+---------------+-------+-----------------+--------------------+----------+\n",
      "|        3718344|2020-01|             10.0|BOM PRECO AUTO PO...|      null|\n",
      "|        4266609|2020-01|             15.0|RECVIVO     *8798...|        39|\n",
      "|        4241912|2019-12|           100.01|POSTO PARAKY     ...|      null|\n",
      "|        3586037|2019-12|             34.0|MERCADOPAGO *LANC...|      null|\n",
      "|       43883520|2019-12|            31.82|LUIZ CARLOS PEREI...|        20|\n",
      "+---------------+-------+-----------------+--------------------+----------+\n",
      "only showing top 5 rows\n",
      "\n"
     ]
    }
   ],
   "source": [
    "spark_file = spark_file.withColumnRenamed('pla_cd_conta_cartao', 'cd_conta_cartao') \\\n",
    "                       .withColumnRenamed('auf_vl_real', 'valor_autorizacao') \\\n",
    "                       .withColumnRenamed('auf_nm_unidade_credenciada', 'unidade_credenciada') \\\n",
    "                       .withColumnRenamed('auf_cd_adquirente', 'adquirente')\n",
    "spark_file.show(5)"
   ]
  },
  {
   "cell_type": "markdown",
   "metadata": {},
   "source": [
    "#### <b> Filtrar DataFrame </b>"
   ]
  },
  {
   "cell_type": "markdown",
   "metadata": {},
   "source": [
    "pandas"
   ]
  },
  {
   "cell_type": "code",
   "execution_count": 16,
   "metadata": {},
   "outputs": [
    {
     "data": {
      "text/html": [
       "<div>\n",
       "<style scoped>\n",
       "    .dataframe tbody tr th:only-of-type {\n",
       "        vertical-align: middle;\n",
       "    }\n",
       "\n",
       "    .dataframe tbody tr th {\n",
       "        vertical-align: top;\n",
       "    }\n",
       "\n",
       "    .dataframe thead th {\n",
       "        text-align: right;\n",
       "    }\n",
       "</style>\n",
       "<table border=\"1\" class=\"dataframe\">\n",
       "  <thead>\n",
       "    <tr style=\"text-align: right;\">\n",
       "      <th></th>\n",
       "      <th>cd_conta_cartao</th>\n",
       "      <th>mes_ref</th>\n",
       "      <th>valor_autorizacao</th>\n",
       "      <th>unidade_credenciada</th>\n",
       "      <th>adquirente</th>\n",
       "    </tr>\n",
       "  </thead>\n",
       "  <tbody>\n",
       "    <tr>\n",
       "      <th>19</th>\n",
       "      <td>4014677</td>\n",
       "      <td>2019-12</td>\n",
       "      <td>0.99</td>\n",
       "      <td>GOOGLE PLAY GARENA     SAO PAULO     BRA</td>\n",
       "      <td>NaN</td>\n",
       "    </tr>\n",
       "    <tr>\n",
       "      <th>74</th>\n",
       "      <td>3509638</td>\n",
       "      <td>2019-12</td>\n",
       "      <td>4.09</td>\n",
       "      <td>GOOGLE PLAY GARENA     SAO PAULO     BRA</td>\n",
       "      <td>NaN</td>\n",
       "    </tr>\n",
       "    <tr>\n",
       "      <th>115</th>\n",
       "      <td>4181061</td>\n",
       "      <td>2019-12</td>\n",
       "      <td>2.00</td>\n",
       "      <td>MULTMIX                JOAO PESSOA   BRA</td>\n",
       "      <td>NaN</td>\n",
       "    </tr>\n",
       "    <tr>\n",
       "      <th>117</th>\n",
       "      <td>4338727</td>\n",
       "      <td>2020-01</td>\n",
       "      <td>3.48</td>\n",
       "      <td>SUPERMERCADO COUTO LTD GOIANESIA     BRA</td>\n",
       "      <td>20.0</td>\n",
       "    </tr>\n",
       "    <tr>\n",
       "      <th>141</th>\n",
       "      <td>3747072</td>\n",
       "      <td>2020-01</td>\n",
       "      <td>0.99</td>\n",
       "      <td>GOOGLE PLAY GARENA     SAO PAULO     BRA</td>\n",
       "      <td>NaN</td>\n",
       "    </tr>\n",
       "    <tr>\n",
       "      <th>145</th>\n",
       "      <td>4189638</td>\n",
       "      <td>2020-01</td>\n",
       "      <td>0.63</td>\n",
       "      <td>MERCPAGO    *ROUPASUSA OSASCO        BRA</td>\n",
       "      <td>39.0</td>\n",
       "    </tr>\n",
       "    <tr>\n",
       "      <th>148</th>\n",
       "      <td>3942751</td>\n",
       "      <td>2020-01</td>\n",
       "      <td>3.50</td>\n",
       "      <td>PADARIA SARAIVA        ARARUAMA      BRA</td>\n",
       "      <td>20.0</td>\n",
       "    </tr>\n",
       "    <tr>\n",
       "      <th>166</th>\n",
       "      <td>3886062</td>\n",
       "      <td>2020-01</td>\n",
       "      <td>4.07</td>\n",
       "      <td>GOOGLE PLAY GARENA     SAO PAULO     BRA</td>\n",
       "      <td>NaN</td>\n",
       "    </tr>\n",
       "    <tr>\n",
       "      <th>177</th>\n",
       "      <td>4320276</td>\n",
       "      <td>2020-01</td>\n",
       "      <td>4.09</td>\n",
       "      <td>GOOGLE PLAY GARENA     SAO PAULO     BRA</td>\n",
       "      <td>NaN</td>\n",
       "    </tr>\n",
       "    <tr>\n",
       "      <th>263</th>\n",
       "      <td>44121360</td>\n",
       "      <td>2020-01</td>\n",
       "      <td>2.50</td>\n",
       "      <td>CHURRASCARIA POSTO SOL SOLONOPOLE    BRA</td>\n",
       "      <td>39.0</td>\n",
       "    </tr>\n",
       "  </tbody>\n",
       "</table>\n",
       "</div>"
      ],
      "text/plain": [
       "     cd_conta_cartao  mes_ref  valor_autorizacao  \\\n",
       "19           4014677  2019-12               0.99   \n",
       "74           3509638  2019-12               4.09   \n",
       "115          4181061  2019-12               2.00   \n",
       "117          4338727  2020-01               3.48   \n",
       "141          3747072  2020-01               0.99   \n",
       "145          4189638  2020-01               0.63   \n",
       "148          3942751  2020-01               3.50   \n",
       "166          3886062  2020-01               4.07   \n",
       "177          4320276  2020-01               4.09   \n",
       "263         44121360  2020-01               2.50   \n",
       "\n",
       "                          unidade_credenciada  adquirente  \n",
       "19   GOOGLE PLAY GARENA     SAO PAULO     BRA         NaN  \n",
       "74   GOOGLE PLAY GARENA     SAO PAULO     BRA         NaN  \n",
       "115  MULTMIX                JOAO PESSOA   BRA         NaN  \n",
       "117  SUPERMERCADO COUTO LTD GOIANESIA     BRA        20.0  \n",
       "141  GOOGLE PLAY GARENA     SAO PAULO     BRA         NaN  \n",
       "145  MERCPAGO    *ROUPASUSA OSASCO        BRA        39.0  \n",
       "148  PADARIA SARAIVA        ARARUAMA      BRA        20.0  \n",
       "166  GOOGLE PLAY GARENA     SAO PAULO     BRA         NaN  \n",
       "177  GOOGLE PLAY GARENA     SAO PAULO     BRA         NaN  \n",
       "263  CHURRASCARIA POSTO SOL SOLONOPOLE    BRA        39.0  "
      ]
     },
     "execution_count": 16,
     "metadata": {},
     "output_type": "execute_result"
    }
   ],
   "source": [
    "pandas_file[pandas_file.valor_autorizacao < 5].head(10)"
   ]
  },
  {
   "cell_type": "code",
   "execution_count": 17,
   "metadata": {},
   "outputs": [
    {
     "data": {
      "text/html": [
       "<div>\n",
       "<style scoped>\n",
       "    .dataframe tbody tr th:only-of-type {\n",
       "        vertical-align: middle;\n",
       "    }\n",
       "\n",
       "    .dataframe tbody tr th {\n",
       "        vertical-align: top;\n",
       "    }\n",
       "\n",
       "    .dataframe thead th {\n",
       "        text-align: right;\n",
       "    }\n",
       "</style>\n",
       "<table border=\"1\" class=\"dataframe\">\n",
       "  <thead>\n",
       "    <tr style=\"text-align: right;\">\n",
       "      <th></th>\n",
       "      <th>cd_conta_cartao</th>\n",
       "      <th>mes_ref</th>\n",
       "      <th>valor_autorizacao</th>\n",
       "      <th>unidade_credenciada</th>\n",
       "      <th>adquirente</th>\n",
       "    </tr>\n",
       "  </thead>\n",
       "  <tbody>\n",
       "    <tr>\n",
       "      <th>117</th>\n",
       "      <td>4338727</td>\n",
       "      <td>2020-01</td>\n",
       "      <td>3.48</td>\n",
       "      <td>SUPERMERCADO COUTO LTD GOIANESIA     BRA</td>\n",
       "      <td>20.0</td>\n",
       "    </tr>\n",
       "    <tr>\n",
       "      <th>141</th>\n",
       "      <td>3747072</td>\n",
       "      <td>2020-01</td>\n",
       "      <td>0.99</td>\n",
       "      <td>GOOGLE PLAY GARENA     SAO PAULO     BRA</td>\n",
       "      <td>NaN</td>\n",
       "    </tr>\n",
       "    <tr>\n",
       "      <th>145</th>\n",
       "      <td>4189638</td>\n",
       "      <td>2020-01</td>\n",
       "      <td>0.63</td>\n",
       "      <td>MERCPAGO    *ROUPASUSA OSASCO        BRA</td>\n",
       "      <td>39.0</td>\n",
       "    </tr>\n",
       "    <tr>\n",
       "      <th>148</th>\n",
       "      <td>3942751</td>\n",
       "      <td>2020-01</td>\n",
       "      <td>3.50</td>\n",
       "      <td>PADARIA SARAIVA        ARARUAMA      BRA</td>\n",
       "      <td>20.0</td>\n",
       "    </tr>\n",
       "    <tr>\n",
       "      <th>166</th>\n",
       "      <td>3886062</td>\n",
       "      <td>2020-01</td>\n",
       "      <td>4.07</td>\n",
       "      <td>GOOGLE PLAY GARENA     SAO PAULO     BRA</td>\n",
       "      <td>NaN</td>\n",
       "    </tr>\n",
       "    <tr>\n",
       "      <th>177</th>\n",
       "      <td>4320276</td>\n",
       "      <td>2020-01</td>\n",
       "      <td>4.09</td>\n",
       "      <td>GOOGLE PLAY GARENA     SAO PAULO     BRA</td>\n",
       "      <td>NaN</td>\n",
       "    </tr>\n",
       "    <tr>\n",
       "      <th>263</th>\n",
       "      <td>44121360</td>\n",
       "      <td>2020-01</td>\n",
       "      <td>2.50</td>\n",
       "      <td>CHURRASCARIA POSTO SOL SOLONOPOLE    BRA</td>\n",
       "      <td>39.0</td>\n",
       "    </tr>\n",
       "    <tr>\n",
       "      <th>314</th>\n",
       "      <td>4058820</td>\n",
       "      <td>2020-01</td>\n",
       "      <td>1.90</td>\n",
       "      <td>GOOGLE PLAY TINDER     SAO PAULO     BRA</td>\n",
       "      <td>NaN</td>\n",
       "    </tr>\n",
       "    <tr>\n",
       "      <th>333</th>\n",
       "      <td>4087804</td>\n",
       "      <td>2020-01</td>\n",
       "      <td>3.00</td>\n",
       "      <td>PAG*JESSICAMONIQUEPER  RECIFE        BRA</td>\n",
       "      <td>NaN</td>\n",
       "    </tr>\n",
       "    <tr>\n",
       "      <th>349</th>\n",
       "      <td>3413005</td>\n",
       "      <td>2020-01</td>\n",
       "      <td>0.99</td>\n",
       "      <td>GOOGLE PLAY GARENA     SAO PAULO     BRA</td>\n",
       "      <td>NaN</td>\n",
       "    </tr>\n",
       "  </tbody>\n",
       "</table>\n",
       "</div>"
      ],
      "text/plain": [
       "     cd_conta_cartao  mes_ref  valor_autorizacao  \\\n",
       "117          4338727  2020-01               3.48   \n",
       "141          3747072  2020-01               0.99   \n",
       "145          4189638  2020-01               0.63   \n",
       "148          3942751  2020-01               3.50   \n",
       "166          3886062  2020-01               4.07   \n",
       "177          4320276  2020-01               4.09   \n",
       "263         44121360  2020-01               2.50   \n",
       "314          4058820  2020-01               1.90   \n",
       "333          4087804  2020-01               3.00   \n",
       "349          3413005  2020-01               0.99   \n",
       "\n",
       "                          unidade_credenciada  adquirente  \n",
       "117  SUPERMERCADO COUTO LTD GOIANESIA     BRA        20.0  \n",
       "141  GOOGLE PLAY GARENA     SAO PAULO     BRA         NaN  \n",
       "145  MERCPAGO    *ROUPASUSA OSASCO        BRA        39.0  \n",
       "148  PADARIA SARAIVA        ARARUAMA      BRA        20.0  \n",
       "166  GOOGLE PLAY GARENA     SAO PAULO     BRA         NaN  \n",
       "177  GOOGLE PLAY GARENA     SAO PAULO     BRA         NaN  \n",
       "263  CHURRASCARIA POSTO SOL SOLONOPOLE    BRA        39.0  \n",
       "314  GOOGLE PLAY TINDER     SAO PAULO     BRA         NaN  \n",
       "333  PAG*JESSICAMONIQUEPER  RECIFE        BRA         NaN  \n",
       "349  GOOGLE PLAY GARENA     SAO PAULO     BRA         NaN  "
      ]
     },
     "execution_count": 17,
     "metadata": {},
     "output_type": "execute_result"
    }
   ],
   "source": [
    "pandas_file[(pandas_file.valor_autorizacao < 5) & (pandas_file.mes_ref == '2020-01')].head(10)"
   ]
  },
  {
   "cell_type": "markdown",
   "metadata": {},
   "source": [
    "spark"
   ]
  },
  {
   "cell_type": "code",
   "execution_count": 18,
   "metadata": {},
   "outputs": [
    {
     "name": "stdout",
     "output_type": "stream",
     "text": [
      "+---------------+-------+-----------------+--------------------+----------+\n",
      "|cd_conta_cartao|mes_ref|valor_autorizacao| unidade_credenciada|adquirente|\n",
      "+---------------+-------+-----------------+--------------------+----------+\n",
      "|        4014677|2019-12|             0.99|GOOGLE PLAY GAREN...|      null|\n",
      "|        3509638|2019-12|             4.09|GOOGLE PLAY GAREN...|      null|\n",
      "|        4181061|2019-12|              2.0|MULTMIX          ...|      null|\n",
      "|        4338727|2020-01|             3.48|SUPERMERCADO COUT...|        20|\n",
      "|        3747072|2020-01|             0.99|GOOGLE PLAY GAREN...|      null|\n",
      "|        4189638|2020-01|             0.63|MERCPAGO    *ROUP...|        39|\n",
      "|        3942751|2020-01|              3.5|PADARIA SARAIVA  ...|        20|\n",
      "|        3886062|2020-01|             4.07|GOOGLE PLAY GAREN...|      null|\n",
      "|        4320276|2020-01|             4.09|GOOGLE PLAY GAREN...|      null|\n",
      "|       44121360|2020-01|              2.5|CHURRASCARIA POST...|        39|\n",
      "+---------------+-------+-----------------+--------------------+----------+\n",
      "only showing top 10 rows\n",
      "\n",
      "+---------------+-------+-----------------+--------------------+----------+\n",
      "|cd_conta_cartao|mes_ref|valor_autorizacao| unidade_credenciada|adquirente|\n",
      "+---------------+-------+-----------------+--------------------+----------+\n",
      "|        4014677|2019-12|             0.99|GOOGLE PLAY GAREN...|      null|\n",
      "|        3509638|2019-12|             4.09|GOOGLE PLAY GAREN...|      null|\n",
      "|        4181061|2019-12|              2.0|MULTMIX          ...|      null|\n",
      "|        4338727|2020-01|             3.48|SUPERMERCADO COUT...|        20|\n",
      "|        3747072|2020-01|             0.99|GOOGLE PLAY GAREN...|      null|\n",
      "|        4189638|2020-01|             0.63|MERCPAGO    *ROUP...|        39|\n",
      "|        3942751|2020-01|              3.5|PADARIA SARAIVA  ...|        20|\n",
      "|        3886062|2020-01|             4.07|GOOGLE PLAY GAREN...|      null|\n",
      "|        4320276|2020-01|             4.09|GOOGLE PLAY GAREN...|      null|\n",
      "|       44121360|2020-01|              2.5|CHURRASCARIA POST...|        39|\n",
      "+---------------+-------+-----------------+--------------------+----------+\n",
      "only showing top 10 rows\n",
      "\n",
      "+---------------+-------+-----------------+--------------------+----------+\n",
      "|cd_conta_cartao|mes_ref|valor_autorizacao| unidade_credenciada|adquirente|\n",
      "+---------------+-------+-----------------+--------------------+----------+\n",
      "|        4014677|2019-12|             0.99|GOOGLE PLAY GAREN...|      null|\n",
      "|        3509638|2019-12|             4.09|GOOGLE PLAY GAREN...|      null|\n",
      "|        4181061|2019-12|              2.0|MULTMIX          ...|      null|\n",
      "|        4338727|2020-01|             3.48|SUPERMERCADO COUT...|        20|\n",
      "|        3747072|2020-01|             0.99|GOOGLE PLAY GAREN...|      null|\n",
      "|        4189638|2020-01|             0.63|MERCPAGO    *ROUP...|        39|\n",
      "|        3942751|2020-01|              3.5|PADARIA SARAIVA  ...|        20|\n",
      "|        3886062|2020-01|             4.07|GOOGLE PLAY GAREN...|      null|\n",
      "|        4320276|2020-01|             4.09|GOOGLE PLAY GAREN...|      null|\n",
      "|       44121360|2020-01|              2.5|CHURRASCARIA POST...|        39|\n",
      "+---------------+-------+-----------------+--------------------+----------+\n",
      "only showing top 10 rows\n",
      "\n"
     ]
    }
   ],
   "source": [
    "spark_file[spark_file.valor_autorizacao < 5].show(10)\n",
    "spark_file.filter(spark_file.valor_autorizacao < 5).show(10)\n",
    "spark_file.filter(f.col('valor_autorizacao') < 5).show(10)"
   ]
  },
  {
   "cell_type": "code",
   "execution_count": 19,
   "metadata": {},
   "outputs": [
    {
     "name": "stdout",
     "output_type": "stream",
     "text": [
      "+---------------+-------+-----------------+--------------------+----------+\n",
      "|cd_conta_cartao|mes_ref|valor_autorizacao| unidade_credenciada|adquirente|\n",
      "+---------------+-------+-----------------+--------------------+----------+\n",
      "|        4338727|2020-01|             3.48|SUPERMERCADO COUT...|        20|\n",
      "|        3747072|2020-01|             0.99|GOOGLE PLAY GAREN...|      null|\n",
      "|        4189638|2020-01|             0.63|MERCPAGO    *ROUP...|        39|\n",
      "|        3942751|2020-01|              3.5|PADARIA SARAIVA  ...|        20|\n",
      "|        3886062|2020-01|             4.07|GOOGLE PLAY GAREN...|      null|\n",
      "|        4320276|2020-01|             4.09|GOOGLE PLAY GAREN...|      null|\n",
      "|       44121360|2020-01|              2.5|CHURRASCARIA POST...|        39|\n",
      "|        4058820|2020-01|              1.9|GOOGLE PLAY TINDE...|      null|\n",
      "|        4087804|2020-01|              3.0|PAG*JESSICAMONIQU...|      null|\n",
      "|        3413005|2020-01|             0.99|GOOGLE PLAY GAREN...|      null|\n",
      "+---------------+-------+-----------------+--------------------+----------+\n",
      "only showing top 10 rows\n",
      "\n",
      "+---------------+-------+-----------------+--------------------+----------+\n",
      "|cd_conta_cartao|mes_ref|valor_autorizacao| unidade_credenciada|adquirente|\n",
      "+---------------+-------+-----------------+--------------------+----------+\n",
      "|        4338727|2020-01|             3.48|SUPERMERCADO COUT...|        20|\n",
      "|        3747072|2020-01|             0.99|GOOGLE PLAY GAREN...|      null|\n",
      "|        4189638|2020-01|             0.63|MERCPAGO    *ROUP...|        39|\n",
      "|        3942751|2020-01|              3.5|PADARIA SARAIVA  ...|        20|\n",
      "|        3886062|2020-01|             4.07|GOOGLE PLAY GAREN...|      null|\n",
      "|        4320276|2020-01|             4.09|GOOGLE PLAY GAREN...|      null|\n",
      "|       44121360|2020-01|              2.5|CHURRASCARIA POST...|        39|\n",
      "|        4058820|2020-01|              1.9|GOOGLE PLAY TINDE...|      null|\n",
      "|        4087804|2020-01|              3.0|PAG*JESSICAMONIQU...|      null|\n",
      "|        3413005|2020-01|             0.99|GOOGLE PLAY GAREN...|      null|\n",
      "+---------------+-------+-----------------+--------------------+----------+\n",
      "only showing top 10 rows\n",
      "\n",
      "+---------------+-------+-----------------+--------------------+----------+\n",
      "|cd_conta_cartao|mes_ref|valor_autorizacao| unidade_credenciada|adquirente|\n",
      "+---------------+-------+-----------------+--------------------+----------+\n",
      "|        4338727|2020-01|             3.48|SUPERMERCADO COUT...|        20|\n",
      "|        3747072|2020-01|             0.99|GOOGLE PLAY GAREN...|      null|\n",
      "|        4189638|2020-01|             0.63|MERCPAGO    *ROUP...|        39|\n",
      "|        3942751|2020-01|              3.5|PADARIA SARAIVA  ...|        20|\n",
      "|        3886062|2020-01|             4.07|GOOGLE PLAY GAREN...|      null|\n",
      "|        4320276|2020-01|             4.09|GOOGLE PLAY GAREN...|      null|\n",
      "|       44121360|2020-01|              2.5|CHURRASCARIA POST...|        39|\n",
      "|        4058820|2020-01|              1.9|GOOGLE PLAY TINDE...|      null|\n",
      "|        4087804|2020-01|              3.0|PAG*JESSICAMONIQU...|      null|\n",
      "|        3413005|2020-01|             0.99|GOOGLE PLAY GAREN...|      null|\n",
      "+---------------+-------+-----------------+--------------------+----------+\n",
      "only showing top 10 rows\n",
      "\n"
     ]
    }
   ],
   "source": [
    "spark_file[(spark_file.valor_autorizacao < 5) & (spark_file.mes_ref == '2020-01')].show(10)\n",
    "spark_file.filter((spark_file.valor_autorizacao < 5) & (spark_file.mes_ref == '2020-01')).show(10)\n",
    "spark_file.filter((f.col('valor_autorizacao') < 5) & (f.col('mes_ref') == '2020-01')).show(10)"
   ]
  },
  {
   "cell_type": "markdown",
   "metadata": {},
   "source": [
    "#### <b> Adicionar colunas </b>"
   ]
  },
  {
   "cell_type": "markdown",
   "metadata": {},
   "source": [
    "pandas"
   ]
  },
  {
   "cell_type": "code",
   "execution_count": 20,
   "metadata": {},
   "outputs": [
    {
     "data": {
      "text/html": [
       "<div>\n",
       "<style scoped>\n",
       "    .dataframe tbody tr th:only-of-type {\n",
       "        vertical-align: middle;\n",
       "    }\n",
       "\n",
       "    .dataframe tbody tr th {\n",
       "        vertical-align: top;\n",
       "    }\n",
       "\n",
       "    .dataframe thead th {\n",
       "        text-align: right;\n",
       "    }\n",
       "</style>\n",
       "<table border=\"1\" class=\"dataframe\">\n",
       "  <thead>\n",
       "    <tr style=\"text-align: right;\">\n",
       "      <th></th>\n",
       "      <th>cd_conta_cartao</th>\n",
       "      <th>mes_ref</th>\n",
       "      <th>valor_autorizacao</th>\n",
       "      <th>unidade_credenciada</th>\n",
       "      <th>adquirente</th>\n",
       "      <th>valor_inverso</th>\n",
       "    </tr>\n",
       "  </thead>\n",
       "  <tbody>\n",
       "    <tr>\n",
       "      <th>0</th>\n",
       "      <td>3718344</td>\n",
       "      <td>2020-01</td>\n",
       "      <td>10.00</td>\n",
       "      <td>BOM PRECO AUTO POSTO   ESPINOSA      BRA</td>\n",
       "      <td>NaN</td>\n",
       "      <td>0.100000</td>\n",
       "    </tr>\n",
       "    <tr>\n",
       "      <th>1</th>\n",
       "      <td>4266609</td>\n",
       "      <td>2020-01</td>\n",
       "      <td>15.00</td>\n",
       "      <td>RECVIVO     *879815639 SAO PAULO     BRA</td>\n",
       "      <td>39.0</td>\n",
       "      <td>0.066667</td>\n",
       "    </tr>\n",
       "    <tr>\n",
       "      <th>2</th>\n",
       "      <td>4241912</td>\n",
       "      <td>2019-12</td>\n",
       "      <td>100.01</td>\n",
       "      <td>POSTO PARAKY           DIAS D AVILA  BRA</td>\n",
       "      <td>NaN</td>\n",
       "      <td>0.009999</td>\n",
       "    </tr>\n",
       "  </tbody>\n",
       "</table>\n",
       "</div>"
      ],
      "text/plain": [
       "   cd_conta_cartao  mes_ref  valor_autorizacao  \\\n",
       "0          3718344  2020-01              10.00   \n",
       "1          4266609  2020-01              15.00   \n",
       "2          4241912  2019-12             100.01   \n",
       "\n",
       "                        unidade_credenciada  adquirente  valor_inverso  \n",
       "0  BOM PRECO AUTO POSTO   ESPINOSA      BRA         NaN       0.100000  \n",
       "1  RECVIVO     *879815639 SAO PAULO     BRA        39.0       0.066667  \n",
       "2  POSTO PARAKY           DIAS D AVILA  BRA         NaN       0.009999  "
      ]
     },
     "execution_count": 20,
     "metadata": {},
     "output_type": "execute_result"
    }
   ],
   "source": [
    "pandas_file['valor_inverso'] = 1 / pandas_file.valor_autorizacao\n",
    "pandas_file.head(3)"
   ]
  },
  {
   "cell_type": "markdown",
   "metadata": {},
   "source": [
    "spark"
   ]
  },
  {
   "cell_type": "code",
   "execution_count": 21,
   "metadata": {},
   "outputs": [
    {
     "name": "stdout",
     "output_type": "stream",
     "text": [
      "+---------------+-------+-----------------+--------------------+----------+-------------------+\n",
      "|cd_conta_cartao|mes_ref|valor_autorizacao| unidade_credenciada|adquirente|      valor_inverso|\n",
      "+---------------+-------+-----------------+--------------------+----------+-------------------+\n",
      "|        3718344|2020-01|             10.0|BOM PRECO AUTO PO...|      null|                0.1|\n",
      "|        4266609|2020-01|             15.0|RECVIVO     *8798...|        39|0.06666666666666667|\n",
      "|        4241912|2019-12|           100.01|POSTO PARAKY     ...|      null|   0.00999900009999|\n",
      "+---------------+-------+-----------------+--------------------+----------+-------------------+\n",
      "only showing top 3 rows\n",
      "\n"
     ]
    }
   ],
   "source": [
    "spark_file = spark_file.withColumn('valor_inverso', 1 / spark_file.valor_autorizacao)\n",
    "spark_file.show(3)"
   ]
  },
  {
   "cell_type": "markdown",
   "metadata": {},
   "source": [
    "#### <b> Preencher nulos </b>"
   ]
  },
  {
   "cell_type": "markdown",
   "metadata": {},
   "source": [
    "pandas"
   ]
  },
  {
   "cell_type": "code",
   "execution_count": 22,
   "metadata": {},
   "outputs": [
    {
     "name": "stdout",
     "output_type": "stream",
     "text": [
      "cd_conta_cartao            0\n",
      "mes_ref                    0\n",
      "valor_autorizacao          0\n",
      "unidade_credenciada        0\n",
      "adquirente             41983\n",
      "valor_inverso              0\n",
      "dtype: int64\n"
     ]
    }
   ],
   "source": [
    "print(pandas_file.isna().sum())"
   ]
  },
  {
   "cell_type": "code",
   "execution_count": 23,
   "metadata": {},
   "outputs": [
    {
     "data": {
      "text/html": [
       "<div>\n",
       "<style scoped>\n",
       "    .dataframe tbody tr th:only-of-type {\n",
       "        vertical-align: middle;\n",
       "    }\n",
       "\n",
       "    .dataframe tbody tr th {\n",
       "        vertical-align: top;\n",
       "    }\n",
       "\n",
       "    .dataframe thead th {\n",
       "        text-align: right;\n",
       "    }\n",
       "</style>\n",
       "<table border=\"1\" class=\"dataframe\">\n",
       "  <thead>\n",
       "    <tr style=\"text-align: right;\">\n",
       "      <th></th>\n",
       "      <th>cd_conta_cartao</th>\n",
       "      <th>mes_ref</th>\n",
       "      <th>valor_autorizacao</th>\n",
       "      <th>unidade_credenciada</th>\n",
       "      <th>adquirente</th>\n",
       "      <th>valor_inverso</th>\n",
       "    </tr>\n",
       "  </thead>\n",
       "  <tbody>\n",
       "    <tr>\n",
       "      <th>0</th>\n",
       "      <td>3718344</td>\n",
       "      <td>2020-01</td>\n",
       "      <td>10.00</td>\n",
       "      <td>BOM PRECO AUTO POSTO   ESPINOSA      BRA</td>\n",
       "      <td>99.0</td>\n",
       "      <td>0.100000</td>\n",
       "    </tr>\n",
       "    <tr>\n",
       "      <th>1</th>\n",
       "      <td>4266609</td>\n",
       "      <td>2020-01</td>\n",
       "      <td>15.00</td>\n",
       "      <td>RECVIVO     *879815639 SAO PAULO     BRA</td>\n",
       "      <td>39.0</td>\n",
       "      <td>0.066667</td>\n",
       "    </tr>\n",
       "    <tr>\n",
       "      <th>2</th>\n",
       "      <td>4241912</td>\n",
       "      <td>2019-12</td>\n",
       "      <td>100.01</td>\n",
       "      <td>POSTO PARAKY           DIAS D AVILA  BRA</td>\n",
       "      <td>99.0</td>\n",
       "      <td>0.009999</td>\n",
       "    </tr>\n",
       "    <tr>\n",
       "      <th>3</th>\n",
       "      <td>3586037</td>\n",
       "      <td>2019-12</td>\n",
       "      <td>34.00</td>\n",
       "      <td>MERCADOPAGO *LANCHONE  OSASCO        BRA</td>\n",
       "      <td>99.0</td>\n",
       "      <td>0.029412</td>\n",
       "    </tr>\n",
       "  </tbody>\n",
       "</table>\n",
       "</div>"
      ],
      "text/plain": [
       "   cd_conta_cartao  mes_ref  valor_autorizacao  \\\n",
       "0          3718344  2020-01              10.00   \n",
       "1          4266609  2020-01              15.00   \n",
       "2          4241912  2019-12             100.01   \n",
       "3          3586037  2019-12              34.00   \n",
       "\n",
       "                        unidade_credenciada  adquirente  valor_inverso  \n",
       "0  BOM PRECO AUTO POSTO   ESPINOSA      BRA        99.0       0.100000  \n",
       "1  RECVIVO     *879815639 SAO PAULO     BRA        39.0       0.066667  \n",
       "2  POSTO PARAKY           DIAS D AVILA  BRA        99.0       0.009999  \n",
       "3  MERCADOPAGO *LANCHONE  OSASCO        BRA        99.0       0.029412  "
      ]
     },
     "execution_count": 23,
     "metadata": {},
     "output_type": "execute_result"
    }
   ],
   "source": [
    "pandas_file.fillna(99, inplace = True)\n",
    "pandas_file.head(4)"
   ]
  },
  {
   "cell_type": "code",
   "execution_count": 24,
   "metadata": {},
   "outputs": [
    {
     "name": "stdout",
     "output_type": "stream",
     "text": [
      "cd_conta_cartao        0\n",
      "mes_ref                0\n",
      "valor_autorizacao      0\n",
      "unidade_credenciada    0\n",
      "adquirente             0\n",
      "valor_inverso          0\n",
      "dtype: int64\n"
     ]
    }
   ],
   "source": [
    "print(pandas_file.isna().sum())"
   ]
  },
  {
   "cell_type": "markdown",
   "metadata": {},
   "source": [
    "spark"
   ]
  },
  {
   "cell_type": "code",
   "execution_count": 25,
   "metadata": {},
   "outputs": [
    {
     "name": "stdout",
     "output_type": "stream",
     "text": [
      "cd_conta_cartao 0\n",
      "mes_ref 0\n",
      "valor_autorizacao 0\n",
      "unidade_credenciada 0\n",
      "adquirente 41983\n",
      "valor_inverso 0\n"
     ]
    }
   ],
   "source": [
    "for p in spark_file.columns:\n",
    "    print(p, spark_file.filter(spark_file[p].isNull()).count())"
   ]
  },
  {
   "cell_type": "code",
   "execution_count": 26,
   "metadata": {},
   "outputs": [
    {
     "name": "stdout",
     "output_type": "stream",
     "text": [
      "+---------------+-------+-----------------+--------------------+----------+--------------------+\n",
      "|cd_conta_cartao|mes_ref|valor_autorizacao| unidade_credenciada|adquirente|       valor_inverso|\n",
      "+---------------+-------+-----------------+--------------------+----------+--------------------+\n",
      "|        3718344|2020-01|             10.0|BOM PRECO AUTO PO...|        99|                 0.1|\n",
      "|        4266609|2020-01|             15.0|RECVIVO     *8798...|        39| 0.06666666666666667|\n",
      "|        4241912|2019-12|           100.01|POSTO PARAKY     ...|        99|    0.00999900009999|\n",
      "|        3586037|2019-12|             34.0|MERCADOPAGO *LANC...|        99|0.029411764705882353|\n",
      "+---------------+-------+-----------------+--------------------+----------+--------------------+\n",
      "only showing top 4 rows\n",
      "\n"
     ]
    }
   ],
   "source": [
    "spark_file = spark_file.fillna(99)\n",
    "spark_file.show(4)"
   ]
  },
  {
   "cell_type": "code",
   "execution_count": 27,
   "metadata": {},
   "outputs": [
    {
     "name": "stdout",
     "output_type": "stream",
     "text": [
      "cd_conta_cartao 0\n",
      "mes_ref 0\n",
      "valor_autorizacao 0\n",
      "unidade_credenciada 0\n",
      "adquirente 0\n",
      "valor_inverso 0\n"
     ]
    }
   ],
   "source": [
    "for p in spark_file.columns:\n",
    "    print(p, spark_file.filter(spark_file[p].isNull()).count())"
   ]
  },
  {
   "cell_type": "markdown",
   "metadata": {},
   "source": [
    "#### <b> Agregação (groupby) </b>"
   ]
  },
  {
   "cell_type": "markdown",
   "metadata": {},
   "source": [
    "pandas"
   ]
  },
  {
   "cell_type": "code",
   "execution_count": 28,
   "metadata": {},
   "outputs": [
    {
     "data": {
      "text/html": [
       "<div>\n",
       "<style scoped>\n",
       "    .dataframe tbody tr th:only-of-type {\n",
       "        vertical-align: middle;\n",
       "    }\n",
       "\n",
       "    .dataframe tbody tr th {\n",
       "        vertical-align: top;\n",
       "    }\n",
       "\n",
       "    .dataframe thead th {\n",
       "        text-align: right;\n",
       "    }\n",
       "</style>\n",
       "<table border=\"1\" class=\"dataframe\">\n",
       "  <thead>\n",
       "    <tr style=\"text-align: right;\">\n",
       "      <th></th>\n",
       "      <th>valor_autorizacao</th>\n",
       "      <th>cd_conta_cartao</th>\n",
       "    </tr>\n",
       "    <tr>\n",
       "      <th>mes_ref</th>\n",
       "      <th></th>\n",
       "      <th></th>\n",
       "    </tr>\n",
       "  </thead>\n",
       "  <tbody>\n",
       "    <tr>\n",
       "      <th>2019-12</th>\n",
       "      <td>4236757.98</td>\n",
       "      <td>52221</td>\n",
       "    </tr>\n",
       "    <tr>\n",
       "      <th>2020-01</th>\n",
       "      <td>3746833.88</td>\n",
       "      <td>47779</td>\n",
       "    </tr>\n",
       "  </tbody>\n",
       "</table>\n",
       "</div>"
      ],
      "text/plain": [
       "         valor_autorizacao  cd_conta_cartao\n",
       "mes_ref                                    \n",
       "2019-12         4236757.98            52221\n",
       "2020-01         3746833.88            47779"
      ]
     },
     "execution_count": 28,
     "metadata": {},
     "output_type": "execute_result"
    }
   ],
   "source": [
    "pandas_file.groupby('mes_ref') \\\n",
    "           .agg({'valor_autorizacao': 'sum', 'cd_conta_cartao': 'count'})"
   ]
  },
  {
   "cell_type": "markdown",
   "metadata": {},
   "source": [
    "spark"
   ]
  },
  {
   "cell_type": "code",
   "execution_count": 30,
   "metadata": {},
   "outputs": [
    {
     "name": "stdout",
     "output_type": "stream",
     "text": [
      "+-------+----------------------+----------------------+\n",
      "|mes_ref|count(cd_conta_cartao)|sum(valor_autorizacao)|\n",
      "+-------+----------------------+----------------------+\n",
      "|2019-12|                 52221|     4236757.979999894|\n",
      "|2020-01|                 47779|     3746833.879999902|\n",
      "+-------+----------------------+----------------------+\n",
      "\n"
     ]
    }
   ],
   "source": [
    "spark_file.groupBy('mes_ref') \\\n",
    "          .agg({'valor_autorizacao': 'sum', 'cd_conta_cartao': 'count'}) \\\n",
    "          .orderBy('mes_ref') \\\n",
    "          .show()"
   ]
  },
  {
   "cell_type": "markdown",
   "metadata": {},
   "source": [
    "#### <b> Transformações </b>"
   ]
  },
  {
   "cell_type": "markdown",
   "metadata": {},
   "source": [
    "pandas"
   ]
  },
  {
   "cell_type": "code",
   "execution_count": 31,
   "metadata": {},
   "outputs": [
    {
     "data": {
      "text/html": [
       "<div>\n",
       "<style scoped>\n",
       "    .dataframe tbody tr th:only-of-type {\n",
       "        vertical-align: middle;\n",
       "    }\n",
       "\n",
       "    .dataframe tbody tr th {\n",
       "        vertical-align: top;\n",
       "    }\n",
       "\n",
       "    .dataframe thead th {\n",
       "        text-align: right;\n",
       "    }\n",
       "</style>\n",
       "<table border=\"1\" class=\"dataframe\">\n",
       "  <thead>\n",
       "    <tr style=\"text-align: right;\">\n",
       "      <th></th>\n",
       "      <th>cd_conta_cartao</th>\n",
       "      <th>mes_ref</th>\n",
       "      <th>valor_autorizacao</th>\n",
       "      <th>unidade_credenciada</th>\n",
       "      <th>adquirente</th>\n",
       "      <th>valor_inverso</th>\n",
       "      <th>log_valor</th>\n",
       "    </tr>\n",
       "  </thead>\n",
       "  <tbody>\n",
       "    <tr>\n",
       "      <th>0</th>\n",
       "      <td>3718344</td>\n",
       "      <td>2020-01</td>\n",
       "      <td>10.00</td>\n",
       "      <td>BOM PRECO AUTO POSTO   ESPINOSA      BRA</td>\n",
       "      <td>99.0</td>\n",
       "      <td>0.100000</td>\n",
       "      <td>2.302585</td>\n",
       "    </tr>\n",
       "    <tr>\n",
       "      <th>1</th>\n",
       "      <td>4266609</td>\n",
       "      <td>2020-01</td>\n",
       "      <td>15.00</td>\n",
       "      <td>RECVIVO     *879815639 SAO PAULO     BRA</td>\n",
       "      <td>39.0</td>\n",
       "      <td>0.066667</td>\n",
       "      <td>2.708050</td>\n",
       "    </tr>\n",
       "    <tr>\n",
       "      <th>2</th>\n",
       "      <td>4241912</td>\n",
       "      <td>2019-12</td>\n",
       "      <td>100.01</td>\n",
       "      <td>POSTO PARAKY           DIAS D AVILA  BRA</td>\n",
       "      <td>99.0</td>\n",
       "      <td>0.009999</td>\n",
       "      <td>4.605270</td>\n",
       "    </tr>\n",
       "    <tr>\n",
       "      <th>3</th>\n",
       "      <td>3586037</td>\n",
       "      <td>2019-12</td>\n",
       "      <td>34.00</td>\n",
       "      <td>MERCADOPAGO *LANCHONE  OSASCO        BRA</td>\n",
       "      <td>99.0</td>\n",
       "      <td>0.029412</td>\n",
       "      <td>3.526361</td>\n",
       "    </tr>\n",
       "    <tr>\n",
       "      <th>4</th>\n",
       "      <td>43883520</td>\n",
       "      <td>2019-12</td>\n",
       "      <td>31.82</td>\n",
       "      <td>LUIZ CARLOS PEREIRA DE PIRIPIRI      BRA</td>\n",
       "      <td>20.0</td>\n",
       "      <td>0.031427</td>\n",
       "      <td>3.460095</td>\n",
       "    </tr>\n",
       "  </tbody>\n",
       "</table>\n",
       "</div>"
      ],
      "text/plain": [
       "   cd_conta_cartao  mes_ref  valor_autorizacao  \\\n",
       "0          3718344  2020-01              10.00   \n",
       "1          4266609  2020-01              15.00   \n",
       "2          4241912  2019-12             100.01   \n",
       "3          3586037  2019-12              34.00   \n",
       "4         43883520  2019-12              31.82   \n",
       "\n",
       "                        unidade_credenciada  adquirente  valor_inverso  \\\n",
       "0  BOM PRECO AUTO POSTO   ESPINOSA      BRA        99.0       0.100000   \n",
       "1  RECVIVO     *879815639 SAO PAULO     BRA        39.0       0.066667   \n",
       "2  POSTO PARAKY           DIAS D AVILA  BRA        99.0       0.009999   \n",
       "3  MERCADOPAGO *LANCHONE  OSASCO        BRA        99.0       0.029412   \n",
       "4  LUIZ CARLOS PEREIRA DE PIRIPIRI      BRA        20.0       0.031427   \n",
       "\n",
       "   log_valor  \n",
       "0   2.302585  \n",
       "1   2.708050  \n",
       "2   4.605270  \n",
       "3   3.526361  \n",
       "4   3.460095  "
      ]
     },
     "execution_count": 31,
     "metadata": {},
     "output_type": "execute_result"
    }
   ],
   "source": [
    "pandas_file['log_valor'] = np.log(pandas_file.valor_autorizacao)\n",
    "pandas_file.head(5)"
   ]
  },
  {
   "cell_type": "markdown",
   "metadata": {},
   "source": [
    "spark"
   ]
  },
  {
   "cell_type": "code",
   "execution_count": 32,
   "metadata": {},
   "outputs": [
    {
     "name": "stdout",
     "output_type": "stream",
     "text": [
      "+---------------+-------+-----------------+--------------------+----------+--------------------+------------------+\n",
      "|cd_conta_cartao|mes_ref|valor_autorizacao| unidade_credenciada|adquirente|       valor_inverso|         log_valor|\n",
      "+---------------+-------+-----------------+--------------------+----------+--------------------+------------------+\n",
      "|        3718344|2020-01|             10.0|BOM PRECO AUTO PO...|        99|                 0.1| 2.302585092994046|\n",
      "|        4266609|2020-01|             15.0|RECVIVO     *8798...|        39| 0.06666666666666667|  2.70805020110221|\n",
      "|        4241912|2019-12|           100.01|POSTO PARAKY     ...|        99|    0.00999900009999| 4.605270180988425|\n",
      "|        3586037|2019-12|             34.0|MERCADOPAGO *LANC...|        99|0.029411764705882353|3.5263605246161616|\n",
      "|       43883520|2019-12|            31.82|LUIZ CARLOS PEREI...|        20| 0.03142677561282212|3.4600950229096408|\n",
      "+---------------+-------+-----------------+--------------------+----------+--------------------+------------------+\n",
      "only showing top 5 rows\n",
      "\n"
     ]
    }
   ],
   "source": [
    "spark_file = spark_file.withColumn('log_valor', f.log(spark_file.valor_autorizacao))\n",
    "spark_file.show(5)"
   ]
  },
  {
   "cell_type": "markdown",
   "metadata": {},
   "source": [
    "#### <b> Novas features condicionais </b>"
   ]
  },
  {
   "cell_type": "markdown",
   "metadata": {},
   "source": [
    "pandas"
   ]
  },
  {
   "cell_type": "code",
   "execution_count": 33,
   "metadata": {},
   "outputs": [],
   "source": [
    "pandas_file['classif_valor'] = pandas_file.apply(lambda x:\n",
    "                                                 'baixo' if x.valor_autorizacao < 50 else \n",
    "                                                 'medio' if 50 <= x.valor_autorizacao <= 100 else\n",
    "                                                 'alto', axis = 1)"
   ]
  },
  {
   "cell_type": "code",
   "execution_count": 34,
   "metadata": {},
   "outputs": [
    {
     "data": {
      "text/html": [
       "<div>\n",
       "<style scoped>\n",
       "    .dataframe tbody tr th:only-of-type {\n",
       "        vertical-align: middle;\n",
       "    }\n",
       "\n",
       "    .dataframe tbody tr th {\n",
       "        vertical-align: top;\n",
       "    }\n",
       "\n",
       "    .dataframe thead th {\n",
       "        text-align: right;\n",
       "    }\n",
       "</style>\n",
       "<table border=\"1\" class=\"dataframe\">\n",
       "  <thead>\n",
       "    <tr style=\"text-align: right;\">\n",
       "      <th></th>\n",
       "      <th>cd_conta_cartao</th>\n",
       "      <th>mes_ref</th>\n",
       "      <th>valor_autorizacao</th>\n",
       "      <th>unidade_credenciada</th>\n",
       "      <th>adquirente</th>\n",
       "      <th>valor_inverso</th>\n",
       "      <th>log_valor</th>\n",
       "      <th>classif_valor</th>\n",
       "    </tr>\n",
       "  </thead>\n",
       "  <tbody>\n",
       "    <tr>\n",
       "      <th>0</th>\n",
       "      <td>3718344</td>\n",
       "      <td>2020-01</td>\n",
       "      <td>10.00</td>\n",
       "      <td>BOM PRECO AUTO POSTO   ESPINOSA      BRA</td>\n",
       "      <td>99.0</td>\n",
       "      <td>0.100000</td>\n",
       "      <td>2.302585</td>\n",
       "      <td>baixo</td>\n",
       "    </tr>\n",
       "    <tr>\n",
       "      <th>1</th>\n",
       "      <td>4266609</td>\n",
       "      <td>2020-01</td>\n",
       "      <td>15.00</td>\n",
       "      <td>RECVIVO     *879815639 SAO PAULO     BRA</td>\n",
       "      <td>39.0</td>\n",
       "      <td>0.066667</td>\n",
       "      <td>2.708050</td>\n",
       "      <td>baixo</td>\n",
       "    </tr>\n",
       "    <tr>\n",
       "      <th>2</th>\n",
       "      <td>4241912</td>\n",
       "      <td>2019-12</td>\n",
       "      <td>100.01</td>\n",
       "      <td>POSTO PARAKY           DIAS D AVILA  BRA</td>\n",
       "      <td>99.0</td>\n",
       "      <td>0.009999</td>\n",
       "      <td>4.605270</td>\n",
       "      <td>alto</td>\n",
       "    </tr>\n",
       "    <tr>\n",
       "      <th>3</th>\n",
       "      <td>3586037</td>\n",
       "      <td>2019-12</td>\n",
       "      <td>34.00</td>\n",
       "      <td>MERCADOPAGO *LANCHONE  OSASCO        BRA</td>\n",
       "      <td>99.0</td>\n",
       "      <td>0.029412</td>\n",
       "      <td>3.526361</td>\n",
       "      <td>baixo</td>\n",
       "    </tr>\n",
       "    <tr>\n",
       "      <th>4</th>\n",
       "      <td>43883520</td>\n",
       "      <td>2019-12</td>\n",
       "      <td>31.82</td>\n",
       "      <td>LUIZ CARLOS PEREIRA DE PIRIPIRI      BRA</td>\n",
       "      <td>20.0</td>\n",
       "      <td>0.031427</td>\n",
       "      <td>3.460095</td>\n",
       "      <td>baixo</td>\n",
       "    </tr>\n",
       "  </tbody>\n",
       "</table>\n",
       "</div>"
      ],
      "text/plain": [
       "   cd_conta_cartao  mes_ref  valor_autorizacao  \\\n",
       "0          3718344  2020-01              10.00   \n",
       "1          4266609  2020-01              15.00   \n",
       "2          4241912  2019-12             100.01   \n",
       "3          3586037  2019-12              34.00   \n",
       "4         43883520  2019-12              31.82   \n",
       "\n",
       "                        unidade_credenciada  adquirente  valor_inverso  \\\n",
       "0  BOM PRECO AUTO POSTO   ESPINOSA      BRA        99.0       0.100000   \n",
       "1  RECVIVO     *879815639 SAO PAULO     BRA        39.0       0.066667   \n",
       "2  POSTO PARAKY           DIAS D AVILA  BRA        99.0       0.009999   \n",
       "3  MERCADOPAGO *LANCHONE  OSASCO        BRA        99.0       0.029412   \n",
       "4  LUIZ CARLOS PEREIRA DE PIRIPIRI      BRA        20.0       0.031427   \n",
       "\n",
       "   log_valor classif_valor  \n",
       "0   2.302585         baixo  \n",
       "1   2.708050         baixo  \n",
       "2   4.605270          alto  \n",
       "3   3.526361         baixo  \n",
       "4   3.460095         baixo  "
      ]
     },
     "execution_count": 34,
     "metadata": {},
     "output_type": "execute_result"
    }
   ],
   "source": [
    "pandas_file.head(5)"
   ]
  },
  {
   "cell_type": "markdown",
   "metadata": {},
   "source": [
    "spark"
   ]
  },
  {
   "cell_type": "code",
   "execution_count": 35,
   "metadata": {},
   "outputs": [],
   "source": [
    "spark_file = spark_file.withColumn('classif_valor', \\\n",
    "                                   f.when(spark_file.valor_autorizacao < 50, 'baixo') \\\n",
    "                                    .when((spark_file.valor_autorizacao >= 50) & (spark_file.valor_autorizacao <= 100), 'medio') \\\n",
    "                                    .otherwise('alto'))"
   ]
  },
  {
   "cell_type": "code",
   "execution_count": 36,
   "metadata": {},
   "outputs": [
    {
     "name": "stdout",
     "output_type": "stream",
     "text": [
      "+---------------+-------+-----------------+--------------------+----------+--------------------+------------------+-------------+\n",
      "|cd_conta_cartao|mes_ref|valor_autorizacao| unidade_credenciada|adquirente|       valor_inverso|         log_valor|classif_valor|\n",
      "+---------------+-------+-----------------+--------------------+----------+--------------------+------------------+-------------+\n",
      "|        3718344|2020-01|             10.0|BOM PRECO AUTO PO...|        99|                 0.1| 2.302585092994046|        baixo|\n",
      "|        4266609|2020-01|             15.0|RECVIVO     *8798...|        39| 0.06666666666666667|  2.70805020110221|        baixo|\n",
      "|        4241912|2019-12|           100.01|POSTO PARAKY     ...|        99|    0.00999900009999| 4.605270180988425|         alto|\n",
      "|        3586037|2019-12|             34.0|MERCADOPAGO *LANC...|        99|0.029411764705882353|3.5263605246161616|        baixo|\n",
      "|       43883520|2019-12|            31.82|LUIZ CARLOS PEREI...|        20| 0.03142677561282212|3.4600950229096408|        baixo|\n",
      "+---------------+-------+-----------------+--------------------+----------+--------------------+------------------+-------------+\n",
      "only showing top 5 rows\n",
      "\n"
     ]
    }
   ],
   "source": [
    "spark_file.show(5)"
   ]
  },
  {
   "cell_type": "markdown",
   "metadata": {},
   "source": [
    "#### <b> Definição de funções </b>"
   ]
  },
  {
   "cell_type": "markdown",
   "metadata": {},
   "source": [
    "pandas"
   ]
  },
  {
   "cell_type": "code",
   "execution_count": 37,
   "metadata": {},
   "outputs": [
    {
     "data": {
      "text/html": [
       "<div>\n",
       "<style scoped>\n",
       "    .dataframe tbody tr th:only-of-type {\n",
       "        vertical-align: middle;\n",
       "    }\n",
       "\n",
       "    .dataframe tbody tr th {\n",
       "        vertical-align: top;\n",
       "    }\n",
       "\n",
       "    .dataframe thead th {\n",
       "        text-align: right;\n",
       "    }\n",
       "</style>\n",
       "<table border=\"1\" class=\"dataframe\">\n",
       "  <thead>\n",
       "    <tr style=\"text-align: right;\">\n",
       "      <th></th>\n",
       "      <th>cd_conta_cartao</th>\n",
       "      <th>mes_ref</th>\n",
       "      <th>valor_autorizacao</th>\n",
       "      <th>unidade_credenciada</th>\n",
       "      <th>adquirente</th>\n",
       "      <th>valor_inverso</th>\n",
       "      <th>log_valor</th>\n",
       "      <th>classif_valor</th>\n",
       "      <th>valor_mais_100</th>\n",
       "    </tr>\n",
       "  </thead>\n",
       "  <tbody>\n",
       "    <tr>\n",
       "      <th>0</th>\n",
       "      <td>3718344</td>\n",
       "      <td>2020-01</td>\n",
       "      <td>10.00</td>\n",
       "      <td>BOM PRECO AUTO POSTO   ESPINOSA      BRA</td>\n",
       "      <td>99.0</td>\n",
       "      <td>0.100000</td>\n",
       "      <td>2.302585</td>\n",
       "      <td>baixo</td>\n",
       "      <td>110.00</td>\n",
       "    </tr>\n",
       "    <tr>\n",
       "      <th>1</th>\n",
       "      <td>4266609</td>\n",
       "      <td>2020-01</td>\n",
       "      <td>15.00</td>\n",
       "      <td>RECVIVO     *879815639 SAO PAULO     BRA</td>\n",
       "      <td>39.0</td>\n",
       "      <td>0.066667</td>\n",
       "      <td>2.708050</td>\n",
       "      <td>baixo</td>\n",
       "      <td>115.00</td>\n",
       "    </tr>\n",
       "    <tr>\n",
       "      <th>2</th>\n",
       "      <td>4241912</td>\n",
       "      <td>2019-12</td>\n",
       "      <td>100.01</td>\n",
       "      <td>POSTO PARAKY           DIAS D AVILA  BRA</td>\n",
       "      <td>99.0</td>\n",
       "      <td>0.009999</td>\n",
       "      <td>4.605270</td>\n",
       "      <td>alto</td>\n",
       "      <td>200.01</td>\n",
       "    </tr>\n",
       "    <tr>\n",
       "      <th>3</th>\n",
       "      <td>3586037</td>\n",
       "      <td>2019-12</td>\n",
       "      <td>34.00</td>\n",
       "      <td>MERCADOPAGO *LANCHONE  OSASCO        BRA</td>\n",
       "      <td>99.0</td>\n",
       "      <td>0.029412</td>\n",
       "      <td>3.526361</td>\n",
       "      <td>baixo</td>\n",
       "      <td>134.00</td>\n",
       "    </tr>\n",
       "    <tr>\n",
       "      <th>4</th>\n",
       "      <td>43883520</td>\n",
       "      <td>2019-12</td>\n",
       "      <td>31.82</td>\n",
       "      <td>LUIZ CARLOS PEREIRA DE PIRIPIRI      BRA</td>\n",
       "      <td>20.0</td>\n",
       "      <td>0.031427</td>\n",
       "      <td>3.460095</td>\n",
       "      <td>baixo</td>\n",
       "      <td>131.82</td>\n",
       "    </tr>\n",
       "  </tbody>\n",
       "</table>\n",
       "</div>"
      ],
      "text/plain": [
       "   cd_conta_cartao  mes_ref  valor_autorizacao  \\\n",
       "0          3718344  2020-01              10.00   \n",
       "1          4266609  2020-01              15.00   \n",
       "2          4241912  2019-12             100.01   \n",
       "3          3586037  2019-12              34.00   \n",
       "4         43883520  2019-12              31.82   \n",
       "\n",
       "                        unidade_credenciada  adquirente  valor_inverso  \\\n",
       "0  BOM PRECO AUTO POSTO   ESPINOSA      BRA        99.0       0.100000   \n",
       "1  RECVIVO     *879815639 SAO PAULO     BRA        39.0       0.066667   \n",
       "2  POSTO PARAKY           DIAS D AVILA  BRA        99.0       0.009999   \n",
       "3  MERCADOPAGO *LANCHONE  OSASCO        BRA        99.0       0.029412   \n",
       "4  LUIZ CARLOS PEREIRA DE PIRIPIRI      BRA        20.0       0.031427   \n",
       "\n",
       "   log_valor classif_valor  valor_mais_100  \n",
       "0   2.302585         baixo          110.00  \n",
       "1   2.708050         baixo          115.00  \n",
       "2   4.605270          alto          200.01  \n",
       "3   3.526361         baixo          134.00  \n",
       "4   3.460095         baixo          131.82  "
      ]
     },
     "execution_count": 37,
     "metadata": {},
     "output_type": "execute_result"
    }
   ],
   "source": [
    "pandas_file['valor_mais_100'] = pandas_file.valor_autorizacao.apply(lambda x: x+100)\n",
    "pandas_file.head(5)"
   ]
  },
  {
   "cell_type": "markdown",
   "metadata": {},
   "source": [
    "spark"
   ]
  },
  {
   "cell_type": "code",
   "execution_count": 38,
   "metadata": {},
   "outputs": [
    {
     "name": "stdout",
     "output_type": "stream",
     "text": [
      "+---------------+-------+-----------------+--------------------+----------+--------------------+------------------+-------------+--------------+\n",
      "|cd_conta_cartao|mes_ref|valor_autorizacao| unidade_credenciada|adquirente|       valor_inverso|         log_valor|classif_valor|valor_mais_100|\n",
      "+---------------+-------+-----------------+--------------------+----------+--------------------+------------------+-------------+--------------+\n",
      "|        3718344|2020-01|             10.0|BOM PRECO AUTO PO...|        99|                 0.1| 2.302585092994046|        baixo|         110.0|\n",
      "|        4266609|2020-01|             15.0|RECVIVO     *8798...|        39| 0.06666666666666667|  2.70805020110221|        baixo|         115.0|\n",
      "|        4241912|2019-12|           100.01|POSTO PARAKY     ...|        99|    0.00999900009999| 4.605270180988425|         alto|        200.01|\n",
      "|        3586037|2019-12|             34.0|MERCADOPAGO *LANC...|        99|0.029411764705882353|3.5263605246161616|        baixo|         134.0|\n",
      "|       43883520|2019-12|            31.82|LUIZ CARLOS PEREI...|        20| 0.03142677561282212|3.4600950229096408|        baixo|        131.82|\n",
      "+---------------+-------+-----------------+--------------------+----------+--------------------+------------------+-------------+--------------+\n",
      "only showing top 5 rows\n",
      "\n"
     ]
    }
   ],
   "source": [
    "fn = f.udf(lambda x: x+100, t.DoubleType())\n",
    "\n",
    "spark_file = spark_file.withColumn('valor_mais_100', fn(spark_file.valor_autorizacao))\n",
    "spark_file.show(5)"
   ]
  },
  {
   "cell_type": "markdown",
   "metadata": {},
   "source": [
    "#### <b> Merge / Join DataFrame"
   ]
  },
  {
   "cell_type": "markdown",
   "metadata": {},
   "source": [
    "pandas"
   ]
  },
  {
   "cell_type": "code",
   "execution_count": 39,
   "metadata": {},
   "outputs": [],
   "source": [
    "merge_pandas_file = pd.read_csv('base_dados_py301_merge.csv', delimiter = '|')\n",
    "pandas_merge_table = pandas_file.merge(merge_pandas_file, how = 'left', left_on = 'cd_conta_cartao', right_on = 'coc_cd_conta_cartao') \n",
    "\n",
    "## df_left.merge(df_right, on = ‘key’)"
   ]
  },
  {
   "cell_type": "code",
   "execution_count": 40,
   "metadata": {},
   "outputs": [
    {
     "data": {
      "text/html": [
       "<div>\n",
       "<style scoped>\n",
       "    .dataframe tbody tr th:only-of-type {\n",
       "        vertical-align: middle;\n",
       "    }\n",
       "\n",
       "    .dataframe tbody tr th {\n",
       "        vertical-align: top;\n",
       "    }\n",
       "\n",
       "    .dataframe thead th {\n",
       "        text-align: right;\n",
       "    }\n",
       "</style>\n",
       "<table border=\"1\" class=\"dataframe\">\n",
       "  <thead>\n",
       "    <tr style=\"text-align: right;\">\n",
       "      <th></th>\n",
       "      <th>cd_conta_cartao</th>\n",
       "      <th>mes_ref</th>\n",
       "      <th>valor_autorizacao</th>\n",
       "      <th>unidade_credenciada</th>\n",
       "      <th>adquirente</th>\n",
       "      <th>valor_inverso</th>\n",
       "      <th>log_valor</th>\n",
       "      <th>classif_valor</th>\n",
       "      <th>valor_mais_100</th>\n",
       "      <th>coc_cd_conta_cartao</th>\n",
       "      <th>coc_dt_abertura_conta_cartao</th>\n",
       "    </tr>\n",
       "  </thead>\n",
       "  <tbody>\n",
       "    <tr>\n",
       "      <th>0</th>\n",
       "      <td>3718344</td>\n",
       "      <td>2020-01</td>\n",
       "      <td>10.00</td>\n",
       "      <td>BOM PRECO AUTO POSTO   ESPINOSA      BRA</td>\n",
       "      <td>99.0</td>\n",
       "      <td>0.100000</td>\n",
       "      <td>2.302585</td>\n",
       "      <td>baixo</td>\n",
       "      <td>110.00</td>\n",
       "      <td>3718344.0</td>\n",
       "      <td>2018-09-06 10:58:27</td>\n",
       "    </tr>\n",
       "    <tr>\n",
       "      <th>1</th>\n",
       "      <td>4266609</td>\n",
       "      <td>2020-01</td>\n",
       "      <td>15.00</td>\n",
       "      <td>RECVIVO     *879815639 SAO PAULO     BRA</td>\n",
       "      <td>39.0</td>\n",
       "      <td>0.066667</td>\n",
       "      <td>2.708050</td>\n",
       "      <td>baixo</td>\n",
       "      <td>115.00</td>\n",
       "      <td>4266609.0</td>\n",
       "      <td>2019-10-02 01:42:52</td>\n",
       "    </tr>\n",
       "    <tr>\n",
       "      <th>2</th>\n",
       "      <td>4241912</td>\n",
       "      <td>2019-12</td>\n",
       "      <td>100.01</td>\n",
       "      <td>POSTO PARAKY           DIAS D AVILA  BRA</td>\n",
       "      <td>99.0</td>\n",
       "      <td>0.009999</td>\n",
       "      <td>4.605270</td>\n",
       "      <td>alto</td>\n",
       "      <td>200.01</td>\n",
       "      <td>4241912.0</td>\n",
       "      <td>2019-09-19 07:47:22</td>\n",
       "    </tr>\n",
       "    <tr>\n",
       "      <th>3</th>\n",
       "      <td>3586037</td>\n",
       "      <td>2019-12</td>\n",
       "      <td>34.00</td>\n",
       "      <td>MERCADOPAGO *LANCHONE  OSASCO        BRA</td>\n",
       "      <td>99.0</td>\n",
       "      <td>0.029412</td>\n",
       "      <td>3.526361</td>\n",
       "      <td>baixo</td>\n",
       "      <td>134.00</td>\n",
       "      <td>3586037.0</td>\n",
       "      <td>2018-05-11 09:03:28</td>\n",
       "    </tr>\n",
       "    <tr>\n",
       "      <th>4</th>\n",
       "      <td>43883520</td>\n",
       "      <td>2019-12</td>\n",
       "      <td>31.82</td>\n",
       "      <td>LUIZ CARLOS PEREIRA DE PIRIPIRI      BRA</td>\n",
       "      <td>20.0</td>\n",
       "      <td>0.031427</td>\n",
       "      <td>3.460095</td>\n",
       "      <td>baixo</td>\n",
       "      <td>131.82</td>\n",
       "      <td>43883520.0</td>\n",
       "      <td>2019-12-02 21:18:39</td>\n",
       "    </tr>\n",
       "    <tr>\n",
       "      <th>5</th>\n",
       "      <td>3942930</td>\n",
       "      <td>2019-12</td>\n",
       "      <td>85.00</td>\n",
       "      <td>SUMUP  *SMMODAS        SAO PAULO     BRA</td>\n",
       "      <td>99.0</td>\n",
       "      <td>0.011765</td>\n",
       "      <td>4.442651</td>\n",
       "      <td>medio</td>\n",
       "      <td>185.00</td>\n",
       "      <td>3942930.0</td>\n",
       "      <td>2019-02-28 15:49:16</td>\n",
       "    </tr>\n",
       "    <tr>\n",
       "      <th>6</th>\n",
       "      <td>3390967</td>\n",
       "      <td>2019-12</td>\n",
       "      <td>28.31</td>\n",
       "      <td>UBER DO BRASIL TECNOLO SAO PAULO     BRA</td>\n",
       "      <td>99.0</td>\n",
       "      <td>0.035323</td>\n",
       "      <td>3.343215</td>\n",
       "      <td>baixo</td>\n",
       "      <td>128.31</td>\n",
       "      <td>3390967.0</td>\n",
       "      <td>2017-08-22 15:08:15</td>\n",
       "    </tr>\n",
       "    <tr>\n",
       "      <th>7</th>\n",
       "      <td>4091063</td>\n",
       "      <td>2020-01</td>\n",
       "      <td>31.81</td>\n",
       "      <td>SUPER ABC L DA PRATA   LAGOA DA PRAT BRA</td>\n",
       "      <td>57.0</td>\n",
       "      <td>0.031437</td>\n",
       "      <td>3.459781</td>\n",
       "      <td>baixo</td>\n",
       "      <td>131.81</td>\n",
       "      <td>4091063.0</td>\n",
       "      <td>2019-06-11 14:08:38</td>\n",
       "    </tr>\n",
       "    <tr>\n",
       "      <th>8</th>\n",
       "      <td>4271454</td>\n",
       "      <td>2019-12</td>\n",
       "      <td>5.90</td>\n",
       "      <td>RAPPI BRASIL INTERMEDI SAO PAULO     BRA</td>\n",
       "      <td>99.0</td>\n",
       "      <td>0.169492</td>\n",
       "      <td>1.774952</td>\n",
       "      <td>baixo</td>\n",
       "      <td>105.90</td>\n",
       "      <td>4271454.0</td>\n",
       "      <td>2019-10-03 22:51:52</td>\n",
       "    </tr>\n",
       "    <tr>\n",
       "      <th>9</th>\n",
       "      <td>43580790</td>\n",
       "      <td>2020-01</td>\n",
       "      <td>233.00</td>\n",
       "      <td>CINTIA HOLANDA DA SILV CHOROZINHO    BRA</td>\n",
       "      <td>57.0</td>\n",
       "      <td>0.004292</td>\n",
       "      <td>5.451038</td>\n",
       "      <td>alto</td>\n",
       "      <td>333.00</td>\n",
       "      <td>43580790.0</td>\n",
       "      <td>2019-11-09 15:09:23</td>\n",
       "    </tr>\n",
       "  </tbody>\n",
       "</table>\n",
       "</div>"
      ],
      "text/plain": [
       "   cd_conta_cartao  mes_ref  valor_autorizacao  \\\n",
       "0          3718344  2020-01              10.00   \n",
       "1          4266609  2020-01              15.00   \n",
       "2          4241912  2019-12             100.01   \n",
       "3          3586037  2019-12              34.00   \n",
       "4         43883520  2019-12              31.82   \n",
       "5          3942930  2019-12              85.00   \n",
       "6          3390967  2019-12              28.31   \n",
       "7          4091063  2020-01              31.81   \n",
       "8          4271454  2019-12               5.90   \n",
       "9         43580790  2020-01             233.00   \n",
       "\n",
       "                        unidade_credenciada  adquirente  valor_inverso  \\\n",
       "0  BOM PRECO AUTO POSTO   ESPINOSA      BRA        99.0       0.100000   \n",
       "1  RECVIVO     *879815639 SAO PAULO     BRA        39.0       0.066667   \n",
       "2  POSTO PARAKY           DIAS D AVILA  BRA        99.0       0.009999   \n",
       "3  MERCADOPAGO *LANCHONE  OSASCO        BRA        99.0       0.029412   \n",
       "4  LUIZ CARLOS PEREIRA DE PIRIPIRI      BRA        20.0       0.031427   \n",
       "5  SUMUP  *SMMODAS        SAO PAULO     BRA        99.0       0.011765   \n",
       "6  UBER DO BRASIL TECNOLO SAO PAULO     BRA        99.0       0.035323   \n",
       "7  SUPER ABC L DA PRATA   LAGOA DA PRAT BRA        57.0       0.031437   \n",
       "8  RAPPI BRASIL INTERMEDI SAO PAULO     BRA        99.0       0.169492   \n",
       "9  CINTIA HOLANDA DA SILV CHOROZINHO    BRA        57.0       0.004292   \n",
       "\n",
       "   log_valor classif_valor  valor_mais_100  coc_cd_conta_cartao  \\\n",
       "0   2.302585         baixo          110.00            3718344.0   \n",
       "1   2.708050         baixo          115.00            4266609.0   \n",
       "2   4.605270          alto          200.01            4241912.0   \n",
       "3   3.526361         baixo          134.00            3586037.0   \n",
       "4   3.460095         baixo          131.82           43883520.0   \n",
       "5   4.442651         medio          185.00            3942930.0   \n",
       "6   3.343215         baixo          128.31            3390967.0   \n",
       "7   3.459781         baixo          131.81            4091063.0   \n",
       "8   1.774952         baixo          105.90            4271454.0   \n",
       "9   5.451038          alto          333.00           43580790.0   \n",
       "\n",
       "  coc_dt_abertura_conta_cartao  \n",
       "0          2018-09-06 10:58:27  \n",
       "1          2019-10-02 01:42:52  \n",
       "2          2019-09-19 07:47:22  \n",
       "3          2018-05-11 09:03:28  \n",
       "4          2019-12-02 21:18:39  \n",
       "5          2019-02-28 15:49:16  \n",
       "6          2017-08-22 15:08:15  \n",
       "7          2019-06-11 14:08:38  \n",
       "8          2019-10-03 22:51:52  \n",
       "9          2019-11-09 15:09:23  "
      ]
     },
     "execution_count": 40,
     "metadata": {},
     "output_type": "execute_result"
    }
   ],
   "source": [
    "pandas_merge_table.head(10)"
   ]
  },
  {
   "cell_type": "markdown",
   "metadata": {},
   "source": [
    "spark"
   ]
  },
  {
   "cell_type": "code",
   "execution_count": 41,
   "metadata": {},
   "outputs": [],
   "source": [
    "merge_spark_file = spark.read \\\n",
    "                  .option('inferSchema', 'true') \\\n",
    "                  .option('header', 'true') \\\n",
    "                  .option('delimiter', '|') \\\n",
    "                  .csv('base_dados_py301_merge.csv')\n",
    "spark_merge_table = spark_file.join(merge_spark_file, spark_file.cd_conta_cartao == merge_spark_file.coc_cd_conta_cartao, how = 'left')\n",
    "\n",
    "## df_left.join(df_right, on = ‘key’)"
   ]
  },
  {
   "cell_type": "code",
   "execution_count": 42,
   "metadata": {},
   "outputs": [
    {
     "name": "stdout",
     "output_type": "stream",
     "text": [
      "+---------------+-------+-----------------+--------------------+----------+--------------------+------------------+-------------+--------------+-------------------+----------------------------+\n",
      "|cd_conta_cartao|mes_ref|valor_autorizacao| unidade_credenciada|adquirente|       valor_inverso|         log_valor|classif_valor|valor_mais_100|coc_cd_conta_cartao|coc_dt_abertura_conta_cartao|\n",
      "+---------------+-------+-----------------+--------------------+----------+--------------------+------------------+-------------+--------------+-------------------+----------------------------+\n",
      "|        3360262|2020-01|            140.0|LIVRARIA ARAPIRAC...|        99|0.007142857142857143| 4.941642422609304|         alto|         240.0|            3360262|         2017-05-19 03:06:31|\n",
      "|        3377281|2020-01|              4.5|SUP EPA DEZOITO  ...|        99|  0.2222222222222222|1.5040773967762742|        baixo|         104.5|            3377281|         2017-08-02 17:00:14|\n",
      "|        3380788|2020-01|              8.0|SUMERIO BAR      ...|        99|               0.125|2.0794415416798357|        baixo|         108.0|            3380788|         2017-08-09 08:10:44|\n",
      "|        3388454|2020-01|             15.5|JOSE PAULO FERREI...|        39| 0.06451612903225806| 2.740840023925201|        baixo|         115.5|            3388454|         2017-08-19 12:27:45|\n",
      "|        3388454|2020-01|             21.9|NETFLIX.COM      ...|        99| 0.04566210045662101| 3.086486636822455|        baixo|         121.9|            3388454|         2017-08-19 12:27:45|\n",
      "|        3390168|2019-12|            15.92|PRIMOR SUPERMERCA...|        99| 0.06281407035175879| 2.767576180416237|        baixo|        115.92|            3390168|         2017-08-22 10:32:45|\n",
      "|        3390558|2020-01|             55.0|SUMUP  *EXPEDITOD...|        99| 0.01818181818181818| 4.007333185232471|        medio|         155.0|            3390558|         2017-08-22 12:17:15|\n",
      "|        3390558|2020-01|             10.0|RECARGAPAY TIM   ...|        57|                 0.1| 2.302585092994046|        baixo|         110.0|            3390558|         2017-08-22 12:17:15|\n",
      "|        3391089|2020-01|            16.18|UBERBR UBER TRIP ...|        99| 0.06180469715698393|2.7837759116303458|        baixo|        116.18|            3391089|         2017-08-22 15:49:16|\n",
      "|        3391089|2020-01|             4.91|UBERBR UBER TRIP ...|        99| 0.20366598778004072|1.5912739418064292|        baixo|        104.91|            3391089|         2017-08-22 15:49:16|\n",
      "+---------------+-------+-----------------+--------------------+----------+--------------------+------------------+-------------+--------------+-------------------+----------------------------+\n",
      "only showing top 10 rows\n",
      "\n"
     ]
    }
   ],
   "source": [
    "spark_merge_table.show(10)"
   ]
  },
  {
   "cell_type": "markdown",
   "metadata": {},
   "source": [
    "#### <b> Drop </b>"
   ]
  },
  {
   "cell_type": "markdown",
   "metadata": {},
   "source": [
    "pandas"
   ]
  },
  {
   "cell_type": "code",
   "execution_count": 59,
   "metadata": {},
   "outputs": [
    {
     "data": {
      "text/html": [
       "<div>\n",
       "<style scoped>\n",
       "    .dataframe tbody tr th:only-of-type {\n",
       "        vertical-align: middle;\n",
       "    }\n",
       "\n",
       "    .dataframe tbody tr th {\n",
       "        vertical-align: top;\n",
       "    }\n",
       "\n",
       "    .dataframe thead th {\n",
       "        text-align: right;\n",
       "    }\n",
       "</style>\n",
       "<table border=\"1\" class=\"dataframe\">\n",
       "  <thead>\n",
       "    <tr style=\"text-align: right;\">\n",
       "      <th></th>\n",
       "      <th>cd_conta_cartao</th>\n",
       "      <th>mes_ref</th>\n",
       "      <th>valor_autorizacao</th>\n",
       "      <th>unidade_credenciada</th>\n",
       "      <th>adquirente</th>\n",
       "      <th>valor_inverso</th>\n",
       "      <th>log_valor</th>\n",
       "      <th>classif_valor</th>\n",
       "      <th>valor_mais_100</th>\n",
       "      <th>coc_dt_abertura_conta_cartao</th>\n",
       "    </tr>\n",
       "  </thead>\n",
       "  <tbody>\n",
       "    <tr>\n",
       "      <th>0</th>\n",
       "      <td>3718344</td>\n",
       "      <td>2020-01</td>\n",
       "      <td>10.00</td>\n",
       "      <td>BOM PRECO AUTO POSTO   ESPINOSA      BRA</td>\n",
       "      <td>99.0</td>\n",
       "      <td>0.100000</td>\n",
       "      <td>2.302585</td>\n",
       "      <td>baixo</td>\n",
       "      <td>110.00</td>\n",
       "      <td>2018-09-06 10:58:27</td>\n",
       "    </tr>\n",
       "    <tr>\n",
       "      <th>1</th>\n",
       "      <td>4266609</td>\n",
       "      <td>2020-01</td>\n",
       "      <td>15.00</td>\n",
       "      <td>RECVIVO     *879815639 SAO PAULO     BRA</td>\n",
       "      <td>39.0</td>\n",
       "      <td>0.066667</td>\n",
       "      <td>2.708050</td>\n",
       "      <td>baixo</td>\n",
       "      <td>115.00</td>\n",
       "      <td>2019-10-02 01:42:52</td>\n",
       "    </tr>\n",
       "    <tr>\n",
       "      <th>2</th>\n",
       "      <td>4241912</td>\n",
       "      <td>2019-12</td>\n",
       "      <td>100.01</td>\n",
       "      <td>POSTO PARAKY           DIAS D AVILA  BRA</td>\n",
       "      <td>99.0</td>\n",
       "      <td>0.009999</td>\n",
       "      <td>4.605270</td>\n",
       "      <td>alto</td>\n",
       "      <td>200.01</td>\n",
       "      <td>2019-09-19 07:47:22</td>\n",
       "    </tr>\n",
       "    <tr>\n",
       "      <th>3</th>\n",
       "      <td>3586037</td>\n",
       "      <td>2019-12</td>\n",
       "      <td>34.00</td>\n",
       "      <td>MERCADOPAGO *LANCHONE  OSASCO        BRA</td>\n",
       "      <td>99.0</td>\n",
       "      <td>0.029412</td>\n",
       "      <td>3.526361</td>\n",
       "      <td>baixo</td>\n",
       "      <td>134.00</td>\n",
       "      <td>2018-05-11 09:03:28</td>\n",
       "    </tr>\n",
       "    <tr>\n",
       "      <th>4</th>\n",
       "      <td>43883520</td>\n",
       "      <td>2019-12</td>\n",
       "      <td>31.82</td>\n",
       "      <td>LUIZ CARLOS PEREIRA DE PIRIPIRI      BRA</td>\n",
       "      <td>20.0</td>\n",
       "      <td>0.031427</td>\n",
       "      <td>3.460095</td>\n",
       "      <td>baixo</td>\n",
       "      <td>131.82</td>\n",
       "      <td>2019-12-02 21:18:39</td>\n",
       "    </tr>\n",
       "  </tbody>\n",
       "</table>\n",
       "</div>"
      ],
      "text/plain": [
       "   cd_conta_cartao  mes_ref  valor_autorizacao  \\\n",
       "0          3718344  2020-01              10.00   \n",
       "1          4266609  2020-01              15.00   \n",
       "2          4241912  2019-12             100.01   \n",
       "3          3586037  2019-12              34.00   \n",
       "4         43883520  2019-12              31.82   \n",
       "\n",
       "                        unidade_credenciada  adquirente  valor_inverso  \\\n",
       "0  BOM PRECO AUTO POSTO   ESPINOSA      BRA        99.0       0.100000   \n",
       "1  RECVIVO     *879815639 SAO PAULO     BRA        39.0       0.066667   \n",
       "2  POSTO PARAKY           DIAS D AVILA  BRA        99.0       0.009999   \n",
       "3  MERCADOPAGO *LANCHONE  OSASCO        BRA        99.0       0.029412   \n",
       "4  LUIZ CARLOS PEREIRA DE PIRIPIRI      BRA        20.0       0.031427   \n",
       "\n",
       "   log_valor classif_valor  valor_mais_100 coc_dt_abertura_conta_cartao  \n",
       "0   2.302585         baixo          110.00          2018-09-06 10:58:27  \n",
       "1   2.708050         baixo          115.00          2019-10-02 01:42:52  \n",
       "2   4.605270          alto          200.01          2019-09-19 07:47:22  \n",
       "3   3.526361         baixo          134.00          2018-05-11 09:03:28  \n",
       "4   3.460095         baixo          131.82          2019-12-02 21:18:39  "
      ]
     },
     "execution_count": 59,
     "metadata": {},
     "output_type": "execute_result"
    }
   ],
   "source": [
    "pandas_merge_table.drop('coc_cd_conta_cartao', axis = 1, inplace = True)\n",
    "pandas_merge_table.head(5)"
   ]
  },
  {
   "cell_type": "markdown",
   "metadata": {},
   "source": [
    "spark"
   ]
  },
  {
   "cell_type": "code",
   "execution_count": 60,
   "metadata": {},
   "outputs": [
    {
     "name": "stdout",
     "output_type": "stream",
     "text": [
      "+---------------+-------+-----------------+--------------------+----------+--------------------+------------------+-------------+--------------+----------------------------+\n",
      "|cd_conta_cartao|mes_ref|valor_autorizacao| unidade_credenciada|adquirente|       valor_inverso|         log_valor|classif_valor|valor_mais_100|coc_dt_abertura_conta_cartao|\n",
      "+---------------+-------+-----------------+--------------------+----------+--------------------+------------------+-------------+--------------+----------------------------+\n",
      "|        3360262|2020-01|            140.0|LIVRARIA ARAPIRAC...|        99|0.007142857142857143| 4.941642422609304|         alto|         240.0|         2017-05-19 03:06:31|\n",
      "|        3377281|2020-01|              4.5|SUP EPA DEZOITO  ...|        99|  0.2222222222222222|1.5040773967762742|        baixo|         104.5|         2017-08-02 17:00:14|\n",
      "|        3380788|2020-01|              8.0|SUMERIO BAR      ...|        99|               0.125|2.0794415416798357|        baixo|         108.0|         2017-08-09 08:10:44|\n",
      "|        3388454|2020-01|             15.5|JOSE PAULO FERREI...|        39| 0.06451612903225806| 2.740840023925201|        baixo|         115.5|         2017-08-19 12:27:45|\n",
      "|        3388454|2020-01|             21.9|NETFLIX.COM      ...|        99| 0.04566210045662101| 3.086486636822455|        baixo|         121.9|         2017-08-19 12:27:45|\n",
      "+---------------+-------+-----------------+--------------------+----------+--------------------+------------------+-------------+--------------+----------------------------+\n",
      "only showing top 5 rows\n",
      "\n"
     ]
    }
   ],
   "source": [
    "spark_merge_table = spark_merge_table.drop('coc_cd_conta_cartao')\n",
    "spark_merge_table.show(5)"
   ]
  },
  {
   "cell_type": "markdown",
   "metadata": {},
   "source": [
    "#### <b> Pivot Table </b>"
   ]
  },
  {
   "cell_type": "markdown",
   "metadata": {},
   "source": [
    "pandas"
   ]
  },
  {
   "cell_type": "code",
   "execution_count": 43,
   "metadata": {},
   "outputs": [
    {
     "data": {
      "text/html": [
       "<div>\n",
       "<style scoped>\n",
       "    .dataframe tbody tr th:only-of-type {\n",
       "        vertical-align: middle;\n",
       "    }\n",
       "\n",
       "    .dataframe tbody tr th {\n",
       "        vertical-align: top;\n",
       "    }\n",
       "\n",
       "    .dataframe thead th {\n",
       "        text-align: right;\n",
       "    }\n",
       "</style>\n",
       "<table border=\"1\" class=\"dataframe\">\n",
       "  <thead>\n",
       "    <tr style=\"text-align: right;\">\n",
       "      <th>mes_ref</th>\n",
       "      <th>2019-12</th>\n",
       "      <th>2020-01</th>\n",
       "    </tr>\n",
       "    <tr>\n",
       "      <th>cd_conta_cartao</th>\n",
       "      <th></th>\n",
       "      <th></th>\n",
       "    </tr>\n",
       "  </thead>\n",
       "  <tbody>\n",
       "    <tr>\n",
       "      <th>2525402</th>\n",
       "      <td>3000.00</td>\n",
       "      <td>NaN</td>\n",
       "    </tr>\n",
       "    <tr>\n",
       "      <th>3177394</th>\n",
       "      <td>NaN</td>\n",
       "      <td>5000.00</td>\n",
       "    </tr>\n",
       "    <tr>\n",
       "      <th>3177395</th>\n",
       "      <td>435.67</td>\n",
       "      <td>NaN</td>\n",
       "    </tr>\n",
       "    <tr>\n",
       "      <th>3177396</th>\n",
       "      <td>59.94</td>\n",
       "      <td>11.70</td>\n",
       "    </tr>\n",
       "    <tr>\n",
       "      <th>3359740</th>\n",
       "      <td>NaN</td>\n",
       "      <td>13.10</td>\n",
       "    </tr>\n",
       "    <tr>\n",
       "      <th>3359760</th>\n",
       "      <td>45.97</td>\n",
       "      <td>NaN</td>\n",
       "    </tr>\n",
       "    <tr>\n",
       "      <th>3359763</th>\n",
       "      <td>NaN</td>\n",
       "      <td>9.90</td>\n",
       "    </tr>\n",
       "    <tr>\n",
       "      <th>3359766</th>\n",
       "      <td>NaN</td>\n",
       "      <td>3.66</td>\n",
       "    </tr>\n",
       "    <tr>\n",
       "      <th>3359767</th>\n",
       "      <td>26.34</td>\n",
       "      <td>NaN</td>\n",
       "    </tr>\n",
       "    <tr>\n",
       "      <th>3359768</th>\n",
       "      <td>NaN</td>\n",
       "      <td>46.00</td>\n",
       "    </tr>\n",
       "  </tbody>\n",
       "</table>\n",
       "</div>"
      ],
      "text/plain": [
       "mes_ref          2019-12  2020-01\n",
       "cd_conta_cartao                  \n",
       "2525402          3000.00      NaN\n",
       "3177394              NaN  5000.00\n",
       "3177395           435.67      NaN\n",
       "3177396            59.94    11.70\n",
       "3359740              NaN    13.10\n",
       "3359760            45.97      NaN\n",
       "3359763              NaN     9.90\n",
       "3359766              NaN     3.66\n",
       "3359767            26.34      NaN\n",
       "3359768              NaN    46.00"
      ]
     },
     "execution_count": 43,
     "metadata": {},
     "output_type": "execute_result"
    }
   ],
   "source": [
    "pd.pivot_table(pandas_file, values = 'valor_autorizacao', \n",
    "               index = ['cd_conta_cartao'], \n",
    "               columns = 'mes_ref', \n",
    "               aggfunc = np.sum).head(10)"
   ]
  },
  {
   "cell_type": "markdown",
   "metadata": {},
   "source": [
    "spark"
   ]
  },
  {
   "cell_type": "code",
   "execution_count": 45,
   "metadata": {},
   "outputs": [
    {
     "name": "stdout",
     "output_type": "stream",
     "text": [
      "+---------------+------------------+-------+\n",
      "|cd_conta_cartao|           2019-12|2020-01|\n",
      "+---------------+------------------+-------+\n",
      "|        2525402|            3000.0|   null|\n",
      "|        3177394|              null| 5000.0|\n",
      "|        3177395|435.66999999999996|   null|\n",
      "|        3177396|             59.94|   11.7|\n",
      "|        3359740|              null|   13.1|\n",
      "|        3359760|             45.97|   null|\n",
      "|        3359763|              null|    9.9|\n",
      "|        3359766|              null|   3.66|\n",
      "|        3359767|             26.34|   null|\n",
      "|        3359768|              null|   46.0|\n",
      "+---------------+------------------+-------+\n",
      "only showing top 10 rows\n",
      "\n"
     ]
    }
   ],
   "source": [
    "spark_file.groupBy('cd_conta_cartao') \\\n",
    "          .pivot('mes_ref') \\\n",
    "          .sum('valor_autorizacao') \\\n",
    "          .orderBy('cd_conta_cartao') \\\n",
    "          .show(10)"
   ]
  },
  {
   "cell_type": "markdown",
   "metadata": {},
   "source": [
    "#### <b> Estatísticas Resumo </b>"
   ]
  },
  {
   "cell_type": "markdown",
   "metadata": {},
   "source": [
    "pandas"
   ]
  },
  {
   "cell_type": "code",
   "execution_count": 46,
   "metadata": {},
   "outputs": [
    {
     "data": {
      "text/html": [
       "<div>\n",
       "<style scoped>\n",
       "    .dataframe tbody tr th:only-of-type {\n",
       "        vertical-align: middle;\n",
       "    }\n",
       "\n",
       "    .dataframe tbody tr th {\n",
       "        vertical-align: top;\n",
       "    }\n",
       "\n",
       "    .dataframe thead th {\n",
       "        text-align: right;\n",
       "    }\n",
       "</style>\n",
       "<table border=\"1\" class=\"dataframe\">\n",
       "  <thead>\n",
       "    <tr style=\"text-align: right;\">\n",
       "      <th></th>\n",
       "      <th>cd_conta_cartao</th>\n",
       "      <th>valor_autorizacao</th>\n",
       "      <th>adquirente</th>\n",
       "      <th>valor_inverso</th>\n",
       "      <th>log_valor</th>\n",
       "      <th>valor_mais_100</th>\n",
       "    </tr>\n",
       "  </thead>\n",
       "  <tbody>\n",
       "    <tr>\n",
       "      <th>count</th>\n",
       "      <td>1.000000e+05</td>\n",
       "      <td>100000.000000</td>\n",
       "      <td>100000.000000</td>\n",
       "      <td>100000.000000</td>\n",
       "      <td>100000.000000</td>\n",
       "      <td>100000.000000</td>\n",
       "    </tr>\n",
       "    <tr>\n",
       "      <th>mean</th>\n",
       "      <td>7.325205e+06</td>\n",
       "      <td>79.835919</td>\n",
       "      <td>61.663940</td>\n",
       "      <td>0.064742</td>\n",
       "      <td>3.498952</td>\n",
       "      <td>179.835919</td>\n",
       "    </tr>\n",
       "    <tr>\n",
       "      <th>std</th>\n",
       "      <td>1.122340e+07</td>\n",
       "      <td>177.459053</td>\n",
       "      <td>33.206614</td>\n",
       "      <td>0.491903</td>\n",
       "      <td>1.252053</td>\n",
       "      <td>177.459053</td>\n",
       "    </tr>\n",
       "    <tr>\n",
       "      <th>min</th>\n",
       "      <td>2.525402e+06</td>\n",
       "      <td>0.010000</td>\n",
       "      <td>20.000000</td>\n",
       "      <td>0.000103</td>\n",
       "      <td>-4.605170</td>\n",
       "      <td>100.010000</td>\n",
       "    </tr>\n",
       "    <tr>\n",
       "      <th>25%</th>\n",
       "      <td>3.660372e+06</td>\n",
       "      <td>14.000000</td>\n",
       "      <td>39.000000</td>\n",
       "      <td>0.013770</td>\n",
       "      <td>2.639057</td>\n",
       "      <td>114.000000</td>\n",
       "    </tr>\n",
       "    <tr>\n",
       "      <th>50%</th>\n",
       "      <td>3.943505e+06</td>\n",
       "      <td>30.000000</td>\n",
       "      <td>57.000000</td>\n",
       "      <td>0.033333</td>\n",
       "      <td>3.401197</td>\n",
       "      <td>130.000000</td>\n",
       "    </tr>\n",
       "    <tr>\n",
       "      <th>75%</th>\n",
       "      <td>4.188549e+06</td>\n",
       "      <td>72.622500</td>\n",
       "      <td>99.000000</td>\n",
       "      <td>0.071429</td>\n",
       "      <td>4.285275</td>\n",
       "      <td>172.622500</td>\n",
       "    </tr>\n",
       "    <tr>\n",
       "      <th>max</th>\n",
       "      <td>4.473869e+07</td>\n",
       "      <td>9684.400000</td>\n",
       "      <td>99.000000</td>\n",
       "      <td>100.000000</td>\n",
       "      <td>9.178272</td>\n",
       "      <td>9784.400000</td>\n",
       "    </tr>\n",
       "  </tbody>\n",
       "</table>\n",
       "</div>"
      ],
      "text/plain": [
       "       cd_conta_cartao  valor_autorizacao     adquirente  valor_inverso  \\\n",
       "count     1.000000e+05      100000.000000  100000.000000  100000.000000   \n",
       "mean      7.325205e+06          79.835919      61.663940       0.064742   \n",
       "std       1.122340e+07         177.459053      33.206614       0.491903   \n",
       "min       2.525402e+06           0.010000      20.000000       0.000103   \n",
       "25%       3.660372e+06          14.000000      39.000000       0.013770   \n",
       "50%       3.943505e+06          30.000000      57.000000       0.033333   \n",
       "75%       4.188549e+06          72.622500      99.000000       0.071429   \n",
       "max       4.473869e+07        9684.400000      99.000000     100.000000   \n",
       "\n",
       "           log_valor  valor_mais_100  \n",
       "count  100000.000000   100000.000000  \n",
       "mean        3.498952      179.835919  \n",
       "std         1.252053      177.459053  \n",
       "min        -4.605170      100.010000  \n",
       "25%         2.639057      114.000000  \n",
       "50%         3.401197      130.000000  \n",
       "75%         4.285275      172.622500  \n",
       "max         9.178272     9784.400000  "
      ]
     },
     "execution_count": 46,
     "metadata": {},
     "output_type": "execute_result"
    }
   ],
   "source": [
    "pandas_file.describe()"
   ]
  },
  {
   "cell_type": "markdown",
   "metadata": {},
   "source": [
    "spark"
   ]
  },
  {
   "cell_type": "code",
   "execution_count": 47,
   "metadata": {},
   "outputs": [
    {
     "name": "stdout",
     "output_type": "stream",
     "text": [
      "+-------+--------------------+-------+-----------------+--------------------+-----------------+--------------------+------------------+-------------+------------------+\n",
      "|summary|     cd_conta_cartao|mes_ref|valor_autorizacao| unidade_credenciada|       adquirente|       valor_inverso|         log_valor|classif_valor|    valor_mais_100|\n",
      "+-------+--------------------+-------+-----------------+--------------------+-----------------+--------------------+------------------+-------------+------------------+\n",
      "|  count|              100000| 100000|           100000|              100000|           100000|              100000|            100000|       100000|            100000|\n",
      "|   mean|       7325205.48423|   null|79.83591860000207|         9.3589892E7|         61.66394| 0.06474180781361584| 3.498951852120969|         null|179.83591860002093|\n",
      "| stddev|1.1223402986257609E7|   null|177.4590531743289|                 NaN|33.20661365554004|  0.4919033118092347|1.2520526573354247|         null|177.45905317432897|\n",
      "|    min|             2525402|2019-12|             0.01|\"\"\"POSTO 3D \"\"\"\"3...|               20|1.032588492833835...|-4.605170185988091|         alto|            100.01|\n",
      "|    max|            44738690|2020-01|           9684.4|ZZ7 ANDRELINO    ...|               99|               100.0| 9.178271622450676|        medio|            9784.4|\n",
      "+-------+--------------------+-------+-----------------+--------------------+-----------------+--------------------+------------------+-------------+------------------+\n",
      "\n"
     ]
    }
   ],
   "source": [
    "spark_file.describe().show()"
   ]
  },
  {
   "cell_type": "markdown",
   "metadata": {},
   "source": [
    "#### <b> Histograma </b>"
   ]
  },
  {
   "cell_type": "markdown",
   "metadata": {},
   "source": [
    "pandas"
   ]
  },
  {
   "cell_type": "code",
   "execution_count": 49,
   "metadata": {},
   "outputs": [
    {
     "data": {
      "text/plain": [
       "<matplotlib.axes._subplots.AxesSubplot at 0x7fc05d535c88>"
      ]
     },
     "execution_count": 49,
     "metadata": {},
     "output_type": "execute_result"
    },
    {
     "data": {
      "image/png": "[encoded data removed]",
      "text/plain": [
       "<Figure size 432x288 with 1 Axes>"
      ]
     },
     "metadata": {
      "needs_background": "light"
     },
     "output_type": "display_data"
    }
   ],
   "source": [
    "pandas_file['valor_autorizacao'].hist()"
   ]
  },
  {
   "cell_type": "markdown",
   "metadata": {},
   "source": [
    "spark"
   ]
  },
  {
   "cell_type": "code",
   "execution_count": 50,
   "metadata": {},
   "outputs": [
    {
     "data": {
      "text/plain": [
       "<matplotlib.axes._subplots.AxesSubplot at 0x7fc05d4a1198>"
      ]
     },
     "execution_count": 50,
     "metadata": {},
     "output_type": "execute_result"
    },
    {
     "data": {
      "image/png": "[encoded data removed]",
      "text/plain": [
       "<Figure size 432x288 with 1 Axes>"
      ]
     },
     "metadata": {
      "needs_background": "light"
     },
     "output_type": "display_data"
    }
   ],
   "source": [
    "spark_file.sample(False, 0.5).toPandas()['valor_autorizacao'].hist()"
   ]
  },
  {
   "cell_type": "markdown",
   "metadata": {},
   "source": [
    "#### <b> SQL </b>"
   ]
  },
  {
   "cell_type": "markdown",
   "metadata": {},
   "source": [
    "pandas"
   ]
  },
  {
   "cell_type": "markdown",
   "metadata": {},
   "source": [
    "N/A"
   ]
  },
  {
   "cell_type": "markdown",
   "metadata": {},
   "source": [
    "spark"
   ]
  },
  {
   "cell_type": "code",
   "execution_count": 51,
   "metadata": {},
   "outputs": [
    {
     "name": "stdout",
     "output_type": "stream",
     "text": [
      "+---------------+-------+-----------------+--------------------+----------+--------------------+------------------+-------------+--------------+\n",
      "|cd_conta_cartao|mes_ref|valor_autorizacao| unidade_credenciada|adquirente|       valor_inverso|         log_valor|classif_valor|valor_mais_100|\n",
      "+---------------+-------+-----------------+--------------------+----------+--------------------+------------------+-------------+--------------+\n",
      "|        3718344|2020-01|             10.0|BOM PRECO AUTO PO...|        99|                 0.1| 2.302585092994046|        baixo|         110.0|\n",
      "|        4266609|2020-01|             15.0|RECVIVO     *8798...|        39| 0.06666666666666667|  2.70805020110221|        baixo|         115.0|\n",
      "|        4091063|2020-01|            31.81|SUPER ABC L DA PR...|        57| 0.03143665513989312|3.4597807057610526|        baixo|        131.81|\n",
      "|       43580790|2020-01|            233.0|CINTIA HOLANDA DA...|        57|0.004291845493562232|   5.4510384535657|         alto|         333.0|\n",
      "|        4265707|2020-01|            21.56|SUPER NOSSO PLANA...|        39|  0.0463821892393321| 3.070839746040796|        baixo|        121.56|\n",
      "|        4082270|2020-01|            12.59|EBANX WISH       ...|        99| 0.07942811755361398| 2.532902848056256|        baixo|        112.59|\n",
      "|        3796248|2020-01|             20.9|MERCPAGO*YOUTUBE ...|        39| 0.04784688995215311| 3.039749158970765|        baixo|         120.9|\n",
      "|        4219301|2020-01|           262.34|MERCEARIA CARNEIR...|        99|0.003811847221163376| 5.569641372386999|         alto|        362.34|\n",
      "|       44248200|2020-01|            11.61|ACAI BOM JARDIM  ...|        99| 0.08613264427217916|   2.4518667957098|        baixo|        111.61|\n",
      "|        4161077|2020-01|             20.0|SPEED PAY  CRED F...|        39|                0.05| 2.995732273553991|        baixo|         120.0|\n",
      "+---------------+-------+-----------------+--------------------+----------+--------------------+------------------+-------------+--------------+\n",
      "only showing top 10 rows\n",
      "\n"
     ]
    }
   ],
   "source": [
    "spark_file.createOrReplaceTempView('spark_view')\n",
    "\n",
    "spark.sql(\n",
    "\"\"\"\n",
    "select \n",
    "    *\n",
    "from\n",
    "    spark_view\n",
    "where\n",
    "    mes_ref = '2020-01'\n",
    "\"\"\"\n",
    ").show(10)"
   ]
  },
  {
   "cell_type": "markdown",
   "metadata": {},
   "source": [
    "### <b> Exemplo: Cum Sum </b>"
   ]
  },
  {
   "cell_type": "markdown",
   "metadata": {},
   "source": [
    "pandas"
   ]
  },
  {
   "cell_type": "code",
   "execution_count": 52,
   "metadata": {},
   "outputs": [
    {
     "data": {
      "text/html": [
       "<div>\n",
       "<style scoped>\n",
       "    .dataframe tbody tr th:only-of-type {\n",
       "        vertical-align: middle;\n",
       "    }\n",
       "\n",
       "    .dataframe tbody tr th {\n",
       "        vertical-align: top;\n",
       "    }\n",
       "\n",
       "    .dataframe thead th {\n",
       "        text-align: right;\n",
       "    }\n",
       "</style>\n",
       "<table border=\"1\" class=\"dataframe\">\n",
       "  <thead>\n",
       "    <tr style=\"text-align: right;\">\n",
       "      <th></th>\n",
       "      <th></th>\n",
       "      <th>valor_autorizacao</th>\n",
       "      <th>unidade_credenciada</th>\n",
       "    </tr>\n",
       "    <tr>\n",
       "      <th>cd_conta_cartao</th>\n",
       "      <th>mes_ref</th>\n",
       "      <th></th>\n",
       "      <th></th>\n",
       "    </tr>\n",
       "  </thead>\n",
       "  <tbody>\n",
       "    <tr>\n",
       "      <th>2525402</th>\n",
       "      <th>2019-12</th>\n",
       "      <td>3000.00</td>\n",
       "      <td>1</td>\n",
       "    </tr>\n",
       "    <tr>\n",
       "      <th>3177394</th>\n",
       "      <th>2020-01</th>\n",
       "      <td>5000.00</td>\n",
       "      <td>2</td>\n",
       "    </tr>\n",
       "    <tr>\n",
       "      <th>3177395</th>\n",
       "      <th>2019-12</th>\n",
       "      <td>435.67</td>\n",
       "      <td>3</td>\n",
       "    </tr>\n",
       "    <tr>\n",
       "      <th rowspan=\"2\" valign=\"top\">3177396</th>\n",
       "      <th>2019-12</th>\n",
       "      <td>59.94</td>\n",
       "      <td>1</td>\n",
       "    </tr>\n",
       "    <tr>\n",
       "      <th>2020-01</th>\n",
       "      <td>71.64</td>\n",
       "      <td>2</td>\n",
       "    </tr>\n",
       "    <tr>\n",
       "      <th>3359740</th>\n",
       "      <th>2020-01</th>\n",
       "      <td>13.10</td>\n",
       "      <td>1</td>\n",
       "    </tr>\n",
       "    <tr>\n",
       "      <th>3359760</th>\n",
       "      <th>2019-12</th>\n",
       "      <td>45.97</td>\n",
       "      <td>1</td>\n",
       "    </tr>\n",
       "    <tr>\n",
       "      <th>3359763</th>\n",
       "      <th>2020-01</th>\n",
       "      <td>9.90</td>\n",
       "      <td>1</td>\n",
       "    </tr>\n",
       "    <tr>\n",
       "      <th>3359766</th>\n",
       "      <th>2020-01</th>\n",
       "      <td>3.66</td>\n",
       "      <td>1</td>\n",
       "    </tr>\n",
       "    <tr>\n",
       "      <th>3359767</th>\n",
       "      <th>2019-12</th>\n",
       "      <td>26.34</td>\n",
       "      <td>2</td>\n",
       "    </tr>\n",
       "    <tr>\n",
       "      <th>3359768</th>\n",
       "      <th>2020-01</th>\n",
       "      <td>46.00</td>\n",
       "      <td>1</td>\n",
       "    </tr>\n",
       "    <tr>\n",
       "      <th>3359769</th>\n",
       "      <th>2019-12</th>\n",
       "      <td>22.75</td>\n",
       "      <td>1</td>\n",
       "    </tr>\n",
       "    <tr>\n",
       "      <th>3359771</th>\n",
       "      <th>2020-01</th>\n",
       "      <td>7.00</td>\n",
       "      <td>1</td>\n",
       "    </tr>\n",
       "    <tr>\n",
       "      <th>3359773</th>\n",
       "      <th>2020-01</th>\n",
       "      <td>153.14</td>\n",
       "      <td>2</td>\n",
       "    </tr>\n",
       "    <tr>\n",
       "      <th rowspan=\"2\" valign=\"top\">3359775</th>\n",
       "      <th>2019-12</th>\n",
       "      <td>93.44</td>\n",
       "      <td>2</td>\n",
       "    </tr>\n",
       "    <tr>\n",
       "      <th>2020-01</th>\n",
       "      <td>691.20</td>\n",
       "      <td>4</td>\n",
       "    </tr>\n",
       "    <tr>\n",
       "      <th>3359790</th>\n",
       "      <th>2020-01</th>\n",
       "      <td>23.50</td>\n",
       "      <td>1</td>\n",
       "    </tr>\n",
       "    <tr>\n",
       "      <th>3359791</th>\n",
       "      <th>2020-01</th>\n",
       "      <td>63.50</td>\n",
       "      <td>2</td>\n",
       "    </tr>\n",
       "    <tr>\n",
       "      <th>3359792</th>\n",
       "      <th>2019-12</th>\n",
       "      <td>37.00</td>\n",
       "      <td>1</td>\n",
       "    </tr>\n",
       "    <tr>\n",
       "      <th>3359794</th>\n",
       "      <th>2019-12</th>\n",
       "      <td>18.40</td>\n",
       "      <td>1</td>\n",
       "    </tr>\n",
       "    <tr>\n",
       "      <th rowspan=\"2\" valign=\"top\">3359802</th>\n",
       "      <th>2019-12</th>\n",
       "      <td>67.00</td>\n",
       "      <td>1</td>\n",
       "    </tr>\n",
       "    <tr>\n",
       "      <th>2020-01</th>\n",
       "      <td>118.49</td>\n",
       "      <td>3</td>\n",
       "    </tr>\n",
       "    <tr>\n",
       "      <th>3359806</th>\n",
       "      <th>2020-01</th>\n",
       "      <td>85.45</td>\n",
       "      <td>2</td>\n",
       "    </tr>\n",
       "    <tr>\n",
       "      <th>3359809</th>\n",
       "      <th>2019-12</th>\n",
       "      <td>205.88</td>\n",
       "      <td>3</td>\n",
       "    </tr>\n",
       "    <tr>\n",
       "      <th>3359812</th>\n",
       "      <th>2020-01</th>\n",
       "      <td>35.10</td>\n",
       "      <td>1</td>\n",
       "    </tr>\n",
       "    <tr>\n",
       "      <th>3359815</th>\n",
       "      <th>2019-12</th>\n",
       "      <td>81.45</td>\n",
       "      <td>2</td>\n",
       "    </tr>\n",
       "    <tr>\n",
       "      <th>3359819</th>\n",
       "      <th>2020-01</th>\n",
       "      <td>8.94</td>\n",
       "      <td>1</td>\n",
       "    </tr>\n",
       "    <tr>\n",
       "      <th>3359858</th>\n",
       "      <th>2019-12</th>\n",
       "      <td>13.00</td>\n",
       "      <td>1</td>\n",
       "    </tr>\n",
       "    <tr>\n",
       "      <th rowspan=\"2\" valign=\"top\">3359865</th>\n",
       "      <th>2019-12</th>\n",
       "      <td>51.43</td>\n",
       "      <td>1</td>\n",
       "    </tr>\n",
       "    <tr>\n",
       "      <th>2020-01</th>\n",
       "      <td>82.23</td>\n",
       "      <td>2</td>\n",
       "    </tr>\n",
       "    <tr>\n",
       "      <th>...</th>\n",
       "      <th>...</th>\n",
       "      <td>...</td>\n",
       "      <td>...</td>\n",
       "    </tr>\n",
       "    <tr>\n",
       "      <th>44590110</th>\n",
       "      <th>2020-01</th>\n",
       "      <td>120.00</td>\n",
       "      <td>1</td>\n",
       "    </tr>\n",
       "    <tr>\n",
       "      <th>44590530</th>\n",
       "      <th>2020-01</th>\n",
       "      <td>56.50</td>\n",
       "      <td>2</td>\n",
       "    </tr>\n",
       "    <tr>\n",
       "      <th>44591460</th>\n",
       "      <th>2020-01</th>\n",
       "      <td>52.00</td>\n",
       "      <td>1</td>\n",
       "    </tr>\n",
       "    <tr>\n",
       "      <th>44591690</th>\n",
       "      <th>2020-01</th>\n",
       "      <td>78.65</td>\n",
       "      <td>1</td>\n",
       "    </tr>\n",
       "    <tr>\n",
       "      <th>44592490</th>\n",
       "      <th>2020-01</th>\n",
       "      <td>20.00</td>\n",
       "      <td>1</td>\n",
       "    </tr>\n",
       "    <tr>\n",
       "      <th>44594230</th>\n",
       "      <th>2020-01</th>\n",
       "      <td>31.40</td>\n",
       "      <td>1</td>\n",
       "    </tr>\n",
       "    <tr>\n",
       "      <th>44594540</th>\n",
       "      <th>2020-01</th>\n",
       "      <td>254.44</td>\n",
       "      <td>1</td>\n",
       "    </tr>\n",
       "    <tr>\n",
       "      <th>44594690</th>\n",
       "      <th>2020-01</th>\n",
       "      <td>39.77</td>\n",
       "      <td>1</td>\n",
       "    </tr>\n",
       "    <tr>\n",
       "      <th>44595910</th>\n",
       "      <th>2020-01</th>\n",
       "      <td>904.29</td>\n",
       "      <td>1</td>\n",
       "    </tr>\n",
       "    <tr>\n",
       "      <th>44597320</th>\n",
       "      <th>2020-01</th>\n",
       "      <td>30.00</td>\n",
       "      <td>1</td>\n",
       "    </tr>\n",
       "    <tr>\n",
       "      <th>44598710</th>\n",
       "      <th>2020-01</th>\n",
       "      <td>7.90</td>\n",
       "      <td>1</td>\n",
       "    </tr>\n",
       "    <tr>\n",
       "      <th>44598840</th>\n",
       "      <th>2020-01</th>\n",
       "      <td>8.79</td>\n",
       "      <td>1</td>\n",
       "    </tr>\n",
       "    <tr>\n",
       "      <th>44600720</th>\n",
       "      <th>2020-01</th>\n",
       "      <td>18.11</td>\n",
       "      <td>1</td>\n",
       "    </tr>\n",
       "    <tr>\n",
       "      <th>44601180</th>\n",
       "      <th>2020-01</th>\n",
       "      <td>20.02</td>\n",
       "      <td>1</td>\n",
       "    </tr>\n",
       "    <tr>\n",
       "      <th>44602030</th>\n",
       "      <th>2020-01</th>\n",
       "      <td>20.24</td>\n",
       "      <td>1</td>\n",
       "    </tr>\n",
       "    <tr>\n",
       "      <th>44602060</th>\n",
       "      <th>2020-01</th>\n",
       "      <td>8.00</td>\n",
       "      <td>1</td>\n",
       "    </tr>\n",
       "    <tr>\n",
       "      <th>44602200</th>\n",
       "      <th>2020-01</th>\n",
       "      <td>6.00</td>\n",
       "      <td>1</td>\n",
       "    </tr>\n",
       "    <tr>\n",
       "      <th>44603310</th>\n",
       "      <th>2020-01</th>\n",
       "      <td>1.00</td>\n",
       "      <td>1</td>\n",
       "    </tr>\n",
       "    <tr>\n",
       "      <th>44606090</th>\n",
       "      <th>2020-01</th>\n",
       "      <td>5.00</td>\n",
       "      <td>1</td>\n",
       "    </tr>\n",
       "    <tr>\n",
       "      <th>44608900</th>\n",
       "      <th>2020-01</th>\n",
       "      <td>32.50</td>\n",
       "      <td>1</td>\n",
       "    </tr>\n",
       "    <tr>\n",
       "      <th>44609910</th>\n",
       "      <th>2020-01</th>\n",
       "      <td>4.73</td>\n",
       "      <td>1</td>\n",
       "    </tr>\n",
       "    <tr>\n",
       "      <th>44609960</th>\n",
       "      <th>2020-01</th>\n",
       "      <td>59.98</td>\n",
       "      <td>1</td>\n",
       "    </tr>\n",
       "    <tr>\n",
       "      <th>44610480</th>\n",
       "      <th>2020-01</th>\n",
       "      <td>22.01</td>\n",
       "      <td>1</td>\n",
       "    </tr>\n",
       "    <tr>\n",
       "      <th>44611770</th>\n",
       "      <th>2020-01</th>\n",
       "      <td>1.00</td>\n",
       "      <td>1</td>\n",
       "    </tr>\n",
       "    <tr>\n",
       "      <th>44612310</th>\n",
       "      <th>2020-01</th>\n",
       "      <td>52.00</td>\n",
       "      <td>1</td>\n",
       "    </tr>\n",
       "    <tr>\n",
       "      <th>44612330</th>\n",
       "      <th>2020-01</th>\n",
       "      <td>38.23</td>\n",
       "      <td>1</td>\n",
       "    </tr>\n",
       "    <tr>\n",
       "      <th>44613750</th>\n",
       "      <th>2020-01</th>\n",
       "      <td>100.64</td>\n",
       "      <td>1</td>\n",
       "    </tr>\n",
       "    <tr>\n",
       "      <th>44700690</th>\n",
       "      <th>2020-01</th>\n",
       "      <td>209.01</td>\n",
       "      <td>1</td>\n",
       "    </tr>\n",
       "    <tr>\n",
       "      <th>44706700</th>\n",
       "      <th>2020-01</th>\n",
       "      <td>100.61</td>\n",
       "      <td>1</td>\n",
       "    </tr>\n",
       "    <tr>\n",
       "      <th>44738690</th>\n",
       "      <th>2020-01</th>\n",
       "      <td>126.18</td>\n",
       "      <td>1</td>\n",
       "    </tr>\n",
       "  </tbody>\n",
       "</table>\n",
       "<p>91922 rows × 2 columns</p>\n",
       "</div>"
      ],
      "text/plain": [
       "                         valor_autorizacao  unidade_credenciada\n",
       "cd_conta_cartao mes_ref                                        \n",
       "2525402         2019-12            3000.00                    1\n",
       "3177394         2020-01            5000.00                    2\n",
       "3177395         2019-12             435.67                    3\n",
       "3177396         2019-12              59.94                    1\n",
       "                2020-01              71.64                    2\n",
       "3359740         2020-01              13.10                    1\n",
       "3359760         2019-12              45.97                    1\n",
       "3359763         2020-01               9.90                    1\n",
       "3359766         2020-01               3.66                    1\n",
       "3359767         2019-12              26.34                    2\n",
       "3359768         2020-01              46.00                    1\n",
       "3359769         2019-12              22.75                    1\n",
       "3359771         2020-01               7.00                    1\n",
       "3359773         2020-01             153.14                    2\n",
       "3359775         2019-12              93.44                    2\n",
       "                2020-01             691.20                    4\n",
       "3359790         2020-01              23.50                    1\n",
       "3359791         2020-01              63.50                    2\n",
       "3359792         2019-12              37.00                    1\n",
       "3359794         2019-12              18.40                    1\n",
       "3359802         2019-12              67.00                    1\n",
       "                2020-01             118.49                    3\n",
       "3359806         2020-01              85.45                    2\n",
       "3359809         2019-12             205.88                    3\n",
       "3359812         2020-01              35.10                    1\n",
       "3359815         2019-12              81.45                    2\n",
       "3359819         2020-01               8.94                    1\n",
       "3359858         2019-12              13.00                    1\n",
       "3359865         2019-12              51.43                    1\n",
       "                2020-01              82.23                    2\n",
       "...                                    ...                  ...\n",
       "44590110        2020-01             120.00                    1\n",
       "44590530        2020-01              56.50                    2\n",
       "44591460        2020-01              52.00                    1\n",
       "44591690        2020-01              78.65                    1\n",
       "44592490        2020-01              20.00                    1\n",
       "44594230        2020-01              31.40                    1\n",
       "44594540        2020-01             254.44                    1\n",
       "44594690        2020-01              39.77                    1\n",
       "44595910        2020-01             904.29                    1\n",
       "44597320        2020-01              30.00                    1\n",
       "44598710        2020-01               7.90                    1\n",
       "44598840        2020-01               8.79                    1\n",
       "44600720        2020-01              18.11                    1\n",
       "44601180        2020-01              20.02                    1\n",
       "44602030        2020-01              20.24                    1\n",
       "44602060        2020-01               8.00                    1\n",
       "44602200        2020-01               6.00                    1\n",
       "44603310        2020-01               1.00                    1\n",
       "44606090        2020-01               5.00                    1\n",
       "44608900        2020-01              32.50                    1\n",
       "44609910        2020-01               4.73                    1\n",
       "44609960        2020-01              59.98                    1\n",
       "44610480        2020-01              22.01                    1\n",
       "44611770        2020-01               1.00                    1\n",
       "44612310        2020-01              52.00                    1\n",
       "44612330        2020-01              38.23                    1\n",
       "44613750        2020-01             100.64                    1\n",
       "44700690        2020-01             209.01                    1\n",
       "44706700        2020-01             100.61                    1\n",
       "44738690        2020-01             126.18                    1\n",
       "\n",
       "[91922 rows x 2 columns]"
      ]
     },
     "execution_count": 52,
     "metadata": {},
     "output_type": "execute_result"
    }
   ],
   "source": [
    "pandas_file.groupby(['cd_conta_cartao','mes_ref']) \\\n",
    "           .agg({'valor_autorizacao': 'sum', 'unidade_credenciada': 'count'}) \\\n",
    "           .groupby(level = [0]).cumsum()"
   ]
  },
  {
   "cell_type": "markdown",
   "metadata": {},
   "source": [
    "spark"
   ]
  },
  {
   "cell_type": "code",
   "execution_count": 53,
   "metadata": {},
   "outputs": [],
   "source": [
    "a = spark_file.groupBy('cd_conta_cartao', 'mes_ref') \\\n",
    "              .agg({'valor_autorizacao': 'sum', 'cd_conta_cartao': 'count'}) \\\n",
    "              .orderBy('cd_conta_cartao','mes_ref')"
   ]
  },
  {
   "cell_type": "code",
   "execution_count": 54,
   "metadata": {},
   "outputs": [
    {
     "name": "stdout",
     "output_type": "stream",
     "text": [
      "+---------------+-------+----------------------+----------------------+------------+----------+\n",
      "|cd_conta_cartao|mes_ref|count(cd_conta_cartao)|sum(valor_autorizacao)|cumsum_valor|cumsum_qtd|\n",
      "+---------------+-------+----------------------+----------------------+------------+----------+\n",
      "|        3360262|2020-01|                     1|                 140.0|       140.0|         1|\n",
      "|        3377281|2020-01|                     1|                   4.5|         4.5|         1|\n",
      "|        3380788|2020-01|                     1|                   8.0|         8.0|         1|\n",
      "|        3388454|2020-01|                     2|                  37.4|        37.4|         2|\n",
      "|        3390168|2019-12|                     1|                 15.92|       15.92|         1|\n",
      "|        3390558|2020-01|                     2|                  65.0|        65.0|         2|\n",
      "|        3391089|2020-01|                     2|                 21.09|       21.09|         2|\n",
      "|        3391282|2020-01|                     1|                 494.4|       494.4|         1|\n",
      "|        3392325|2020-01|                     1|                 320.0|       320.0|         1|\n",
      "|        3392768|2019-12|                     1|                 10.86|       10.86|         1|\n",
      "|        3394219|2020-01|                     1|                605.31|      605.31|         1|\n",
      "|        3394427|2019-12|                     1|                 20.99|       20.99|         1|\n",
      "|        3400030|2019-12|                     1|                 33.22|       33.22|         1|\n",
      "|        3403097|2019-12|                     1|                173.99|      173.99|         1|\n",
      "|        3403254|2019-12|                     1|                   6.0|         6.0|         1|\n",
      "|        3406372|2019-12|                     1|                 19.23|       19.23|         1|\n",
      "|        3406372|2020-01|                     3|                230.65|      249.88|         4|\n",
      "|        3409799|2019-12|                     1|                 530.0|       530.0|         1|\n",
      "|        3411045|2020-01|                     1|                  40.0|        40.0|         1|\n",
      "|        3411567|2020-01|                     1|                 26.06|       26.06|         1|\n",
      "|        3412569|2020-01|                     1|                  53.6|        53.6|         1|\n",
      "|        3415193|2020-01|                     1|                 157.0|       157.0|         1|\n",
      "|        3415508|2019-12|                     1|                  60.0|        60.0|         1|\n",
      "|        3420462|2019-12|                     1|                  85.0|        85.0|         1|\n",
      "|        3423662|2019-12|                     1|                  81.0|        81.0|         1|\n",
      "|        3426624|2019-12|                     1|                 55.73|       55.73|         1|\n",
      "|        3429719|2020-01|                     1|                   6.2|         6.2|         1|\n",
      "|        3435235|2019-12|                     1|                 960.0|       960.0|         1|\n",
      "|        3435235|2020-01|                     1|               1024.26|     1984.26|         2|\n",
      "|        3438069|2020-01|                     1|                 32.64|       32.64|         1|\n",
      "|        3443759|2019-12|                     1|                 29.99|       29.99|         1|\n",
      "|        3447164|2019-12|                     1|                122.89|      122.89|         1|\n",
      "|        3449336|2019-12|                     1|                  6.96|        6.96|         1|\n",
      "|        3449739|2020-01|                     2|                 36.03|       36.03|         2|\n",
      "|        3451530|2019-12|                     1|                396.95|      396.95|         1|\n",
      "|        3452263|2019-12|                     1|                   4.9|         4.9|         1|\n",
      "|        3452860|2020-01|                     1|                   8.0|         8.0|         1|\n",
      "|        3452965|2019-12|                     1|                  6.72|        6.72|         1|\n",
      "|        3453842|2019-12|                     1|                   6.3|         6.3|         1|\n",
      "|        3454835|2019-12|                     2|                126.35|      126.35|         2|\n",
      "|        3458080|2020-01|                     1|                 31.31|       31.31|         1|\n",
      "|        3466168|2019-12|                     1|                120.97|      120.97|         1|\n",
      "|        3471915|2019-12|                     1|                459.46|      459.46|         1|\n",
      "|        3481506|2020-01|                     1|                 109.8|       109.8|         1|\n",
      "|        3482302|2019-12|                     1|                 313.2|       313.2|         1|\n",
      "|        3482505|2020-01|                     1|                 33.67|       33.67|         1|\n",
      "|        3485856|2020-01|                     1|                892.88|      892.88|         1|\n",
      "|        3488916|2019-12|                     1|                 22.99|       22.99|         1|\n",
      "|        3490976|2020-01|                     1|                  32.9|        32.9|         1|\n",
      "|        3494464|2020-01|                     1|                 11.49|       11.49|         1|\n",
      "+---------------+-------+----------------------+----------------------+------------+----------+\n",
      "only showing top 50 rows\n",
      "\n"
     ]
    }
   ],
   "source": [
    "from pyspark.sql import Window\n",
    "\n",
    "window = Window.partitionBy('cd_conta_cartao') \\\n",
    "               .orderBy('mes_ref') \\\n",
    "               .rowsBetween(Window.unboundedPreceding, 0)\n",
    "\n",
    "a.withColumn('cumsum_valor', f.sum('sum(valor_autorizacao)').over(window)) \\\n",
    " .withColumn('cumsum_qtd', f.sum('count(cd_conta_cartao)').over(window)).show(50)"
   ]
  },
  {
   "cell_type": "markdown",
   "metadata": {},
   "source": [
    "### <b> Boas Práticas </b>\n",
    "<b> Recomendação: </b>\n",
    "\n",
    "verificar o Spark MLlib, biblioteca para criação de modelos de Machine Learning (equivalente ao scikit-learn)\n",
    "\n",
    "<b> Não fazer: </b>\n",
    "\n",
    "* realizar iterações em linhas\n",
    "* df.toPandas().head() ao invés de df.limit(5).toPandas()\n",
    "\n",
    "<b> Se algo der errado: </b>\n",
    "\n",
    "* consulte os coleguinhas ;)\n",
    "* pesquise no Google\n",
    "* pesquise no Stack Overflow (tag apache-spark)"
   ]
  }
 ],
 "metadata": {
  "kernelspec": {
   "display_name": "Python 3",
   "language": "python",
   "name": "python3"
  },
  "language_info": {
   "codemirror_mode": {
    "name": "ipython",
    "version": 3
   },
   "file_extension": ".py",
   "mimetype": "text/x-python",
   "name": "python",
   "nbconvert_exporter": "python",
   "pygments_lexer": "ipython3",
   "version": "3.6.8"
  }
 },
 "nbformat": 4,
 "nbformat_minor": 4
}
