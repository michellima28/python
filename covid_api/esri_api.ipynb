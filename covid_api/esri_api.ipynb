{
 "cells": [
  {
   "cell_type": "code",
   "execution_count": null,
   "id": "silver-african",
   "metadata": {},
   "outputs": [],
   "source": [
    "## COVID-19 ANALYSIS\n",
    "# source: https://medium.com/codex/covid-19-analysis-with-python-b898181ea627"
   ]
  },
  {
   "cell_type": "code",
   "execution_count": null,
   "id": "contained-development",
   "metadata": {},
   "outputs": [],
   "source": [
    "!pip3 install plotly_express\n",
    "import pandas as pd\n",
    "import matplotlib.pyplot as plt\n",
    "import plotly.express as px\n",
    "import numpy as np\n",
    "import plotly\n",
    "import plotly.graph_objects as go\n",
    "from plotly.subplots import make_subplots"
   ]
  },
  {
   "cell_type": "code",
   "execution_count": null,
   "id": "adaptive-legend",
   "metadata": {},
   "outputs": [],
   "source": [
    "import requests\n",
    "\n",
    "# Getting Data\n",
    "\n",
    "url_request = requests.get(\"https://services1.arcgis.com/0MSEUqKaxRlEPj5g/arcgis/rest/services/Coronavirus_2019_nCoV_Cases/FeatureServer/1/query?where=1%3D1&outFields=*&outSR=4326&f=json\")\n",
    "url_json = url_request.json()\n",
    "df = pd.DataFrame(url_json['features'])"
   ]
  },
  {
   "cell_type": "code",
   "execution_count": null,
   "id": "reported-antique",
   "metadata": {},
   "outputs": [],
   "source": [
    "import datetime as dt\n",
    "\n",
    "# a. transforming data\n",
    "\n",
    "data_list = df['attributes'].tolist()\n",
    "data = pd.DataFrame(data_list)\n",
    "data.set_index('OBJECTID')\n",
    "data = data[['Province_State','Country_Region','Last_Update','Lat','Long_','Confirmed','Recovered','Deaths','Active']]\n",
    "data.columns = ('State','Country','Last Update','Lat','Long','Confirmed','Recovered','Deaths','Active')\n",
    "data['State'].fillna(value = '', inplace = True)\n",
    "data\n",
    "\n",
    "# b. cleaning data\n",
    "\n",
    "def convert_time(t):\n",
    "    t = int(t)\n",
    "    return dt.datetime.fromtimestamp(t)\n",
    "\n",
    "data = data.dropna(subset = ['Last Update'])\n",
    "data['Last Update'] = data['Last Update']/1000\n",
    "data['Last Update'] = data['Last Update'].apply(convert_time)\n",
    "data"
   ]
  },
  {
   "cell_type": "code",
   "execution_count": null,
   "id": "organizational-foster",
   "metadata": {},
   "outputs": [],
   "source": [
    "# Part 1 — Top 10 Countries: active, confirmed, recovered and deaths:\n",
    "# a. Top 10 confirmed countries (Bubble plot)\n",
    "\n",
    "top10_confirmed = pd.DataFrame(data.groupby('Country')['Confirmed'].sum().nlargest(10).sort_values(ascending = False))\n",
    "fig1 = px.scatter(top10_confirmed, x = top10_confirmed.index, y = 'Confirmed', size = 'Confirmed', size_max = 120,\n",
    "                color = top10_confirmed.index, title = 'Top 10 Confirmed Cases Countries')\n",
    "fig1.show()"
   ]
  },
  {
   "cell_type": "code",
   "execution_count": null,
   "id": "monetary-payroll",
   "metadata": {},
   "outputs": [],
   "source": [
    "# b. Top 10 deaths countries (h-Bar plot)\n",
    "\n",
    "top10_deaths = pd.DataFrame(data.groupby('Country')['Deaths'].sum().nlargest(10).sort_values(ascending = True))\n",
    "fig2 = px.bar(top10_deaths, x = 'Deaths', y = top10_deaths.index, height = 600, color = 'Deaths', orientation = 'h',\n",
    "            color_continuous_scale = ['deepskyblue','red'], title = 'Top 10 Death Cases Countries')\n",
    "fig2.show()"
   ]
  },
  {
   "cell_type": "code",
   "execution_count": null,
   "id": "applicable-kitty",
   "metadata": {},
   "outputs": [],
   "source": [
    "# c. Top 10 recovered countries (Bar plot)\n",
    "\n",
    "top10_recovered = pd.DataFrame(data.groupby('Country')['Recovered'].sum().nlargest(10).sort_values(ascending = False))\n",
    "fig3 = px.bar(top10_recovered, x = top10_recovered.index, y = 'Recovered', height = 600, color = 'Recovered',\n",
    "             title = 'Top 10 Recovered Cases Countries', color_continuous_scale = px.colors.sequential.Viridis)\n",
    "fig3.show()"
   ]
  },
  {
   "cell_type": "code",
   "execution_count": null,
   "id": "norwegian-knight",
   "metadata": {},
   "outputs": [],
   "source": [
    "# d. Top 10 active countries\n",
    "\n",
    "top10_active = pd.DataFrame(data.groupby('Country')['Active'].sum().nlargest(10).sort_values(ascending = True))\n",
    "fig4 = px.bar(top10_active, x = 'Active', y = top10_active.index, height = 600, color = 'Active', orientation = 'h',\n",
    "             color_continuous_scale = ['paleturquoise','blue'], title = 'Top 10 Active Cases Countries')\n",
    "fig4.show()"
   ]
  },
  {
   "cell_type": "code",
   "execution_count": null,
   "id": "collectible-tumor",
   "metadata": {},
   "outputs": [],
   "source": [
    "# Part 2 — Ranking most affected States in largely affected Countries:\n",
    "# USA\n",
    "topstates_us = data['Country'] == 'US'\n",
    "topstates_us = data[topstates_us].nlargest(5, 'Confirmed')\n",
    "# Brazil\n",
    "topstates_brazil = data['Country'] == 'Brazil'\n",
    "topstates_brazil = data[topstates_brazil].nlargest(5, 'Confirmed')\n",
    "# India\n",
    "topstates_india = data['Country'] == 'India'\n",
    "topstates_india = data[topstates_india].nlargest(5, 'Confirmed')\n",
    "# Russia\n",
    "topstates_russia = data['Country'] == 'Russia'\n",
    "topstates_russia = data[topstates_russia].nlargest(5, 'Confirmed')"
   ]
  },
  {
   "cell_type": "code",
   "execution_count": null,
   "id": "exposed-gregory",
   "metadata": {},
   "outputs": [],
   "source": [
    "# USA \n",
    "fig5 = go.Figure(data = [\n",
    "    go.Bar(name = 'Active Cases', x = topstates_us['Active'], y = topstates_us['State'], orientation = 'h'),\n",
    "    go.Bar(name = 'Death Cases', x = topstates_us['Deaths'], y = topstates_us['State'], orientation = 'h')\n",
    "])\n",
    "fig5.update_layout(title = 'Most Affected States in USA', height = 600)\n",
    "fig5.show()"
   ]
  },
  {
   "cell_type": "code",
   "execution_count": null,
   "id": "norman-sierra",
   "metadata": {},
   "outputs": [],
   "source": [
    "# Brazil\n",
    "fig6 = go.Figure(data = [\n",
    "    go.Bar(name = 'Recovered Cases', x = topstates_brazil['State'], y = topstates_brazil['Recovered']),\n",
    "    go.Bar(name = 'Active Cases', x = topstates_brazil['State'], y = topstates_brazil['Active']),\n",
    "    go.Bar(name = 'Death Cases', x = topstates_brazil['State'], y = topstates_brazil['Deaths'])\n",
    "])\n",
    "fig6.update_layout(title = 'Most Affected States in Brazil', barmode = 'stack', height = 600)\n",
    "fig6.show()"
   ]
  },
  {
   "cell_type": "code",
   "execution_count": null,
   "id": "acknowledged-cycle",
   "metadata": {},
   "outputs": [],
   "source": [
    "# India\n",
    "fig7 = go.Figure(data = [\n",
    "    go.Bar(name = 'Recovered Cases', x = topstates_india['State'], y = topstates_india['Recovered']),\n",
    "    go.Bar(name = 'Active Cases', x = topstates_india['State'], y = topstates_india['Active']),\n",
    "    go.Bar(name = 'Death Cases', x = topstates_india['State'], y = topstates_india['Deaths'])\n",
    "])\n",
    "fig7.update_layout(title = 'Most Affected States in India', barmode = 'stack', height = 600)\n",
    "fig7.show()"
   ]
  },
  {
   "cell_type": "code",
   "execution_count": null,
   "id": "nervous-personality",
   "metadata": {},
   "outputs": [],
   "source": [
    "# Russia\n",
    "fig8 = go.Figure(data = [\n",
    "    go.Bar(name = 'Recovered Cases', x = topstates_russia['State'], y = topstates_russia['Recovered']),\n",
    "    go.Bar(name = 'Active Cases', x = topstates_russia['State'], y = topstates_russia['Active']),\n",
    "    go.Bar(name = 'Death Cases', x = topstates_russia['State'], y = topstates_russia['Deaths'])\n",
    "])\n",
    "fig8.update_layout(title = 'Most Affected States in Russia', barmode = 'stack', height = 600)\n",
    "fig8.show()"
   ]
  }
 ],
 "metadata": {
  "kernelspec": {
   "display_name": "Python 3",
   "language": "python",
   "name": "python3"
  },
  "language_info": {
   "codemirror_mode": {
    "name": "ipython",
    "version": 3
   },
   "file_extension": ".py",
   "mimetype": "text/x-python",
   "name": "python",
   "nbconvert_exporter": "python",
   "pygments_lexer": "ipython3",
   "version": "3.8.5"
  }
 },
 "nbformat": 4,
 "nbformat_minor": 5
}
